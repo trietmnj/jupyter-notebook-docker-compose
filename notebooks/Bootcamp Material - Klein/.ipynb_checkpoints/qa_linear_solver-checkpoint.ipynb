{
 "cells": [
  {
   "cell_type": "markdown",
   "metadata": {},
   "source": [
    "<h2>HHL algorithm</h2>\n",
    "\n",
    "<h3><a href=\"https://qiskit.org/textbook/ch-applications/hhl_tutorial.html\">QISkit textbook example</a></h3>\n",
    "\n",
    "2-dim example:\n",
    "\n",
    "$\\left(\\begin{array}{cc} 1 & -1/3 \\\\ -1/3 & 1 \\end{array}\\right) X = \\left(\\begin{array}{c} 1 \\\\ 0 \\end{array}\\right) \\quad $ with eigenvalues $\\lambda_1=\\frac{2}{3} ; \\lambda_2=\\frac{4}{3}$ and \n",
    "eigenvectors $u_1=\\frac{1}{\\sqrt{2}} \\left(\\begin{array}{c} 1 \\\\ 1 \\end{array}\\right)$ and \n",
    "$u_2=\\frac{1}{\\sqrt{2}} \\left(\\begin{array}{c} 1 \\\\ -1 \\end{array}\\right)$."
   ]
  },
  {
   "cell_type": "code",
   "execution_count": null,
   "metadata": {},
   "outputs": [],
   "source": [
    "import numpy as np\n",
    "from qiskit.algorithms.linear_solvers.numpy_linear_solver import NumPyLinearSolver\n",
    "from qiskit.algorithms.linear_solvers.hhl import HHL\n",
    "\n",
    "matrix = np.array([[1, -1/3], [-1/3, 1]])\n",
    "vector = np.array([1, 0])\n",
    "\n",
    "naive_hhl_solution = HHL().solve(matrix, vector)\n",
    "\n",
    "classical_solution = NumPyLinearSolver().solve(matrix, vector / np.linalg.norm(vector))\n",
    "print('Classical solution: {}'.format(classical_solution.state))"
   ]
  },
  {
   "cell_type": "code",
   "execution_count": null,
   "metadata": {},
   "outputs": [],
   "source": [
    "from qiskit.quantum_info import Statevector\n",
    "naive_sv = Statevector(naive_hhl_solution.state).data\n",
    "naive_sv"
   ]
  },
  {
   "cell_type": "code",
   "execution_count": null,
   "metadata": {},
   "outputs": [],
   "source": [
    "#naive_sv contains |0> and |1> amplitudes for all 16 states, look for states in row 8: '1000', '1001'\n",
    "print('Naive HHL solution: {} {}'.format(round(naive_sv[16].real,3),round(naive_sv[17].real,3)))\n",
    "naive_hhl_solution.state.decompose().draw()"
   ]
  },
  {
   "cell_type": "markdown",
   "metadata": {},
   "source": [
    "Currently, there are hardly efficient implementations for matrix types in QISkit. \n",
    "Complexity scaling polynomially in the number of qubits is implemented for Tridiagonal Toeplitz (symmetric real) matrices of form: \n",
    "\n",
    "$\\left(\\begin{array}{cccc} a & b & 0 & 0 \\\\ b & a & b & 0 \\\\ 0 & b & a & b \\\\ 0 & 0 & b & a \\end{array}\\right) \\quad $ where $a,b \\in \\mathbb{R}. \\quad$ \n",
    "(class: TridiagonalToeplitz(num_qubits,a,b) )\n",
    "\n"
   ]
  },
  {
   "cell_type": "code",
   "execution_count": null,
   "metadata": {},
   "outputs": [],
   "source": [
    "from qiskit.algorithms.linear_solvers.matrices.tridiagonal_toeplitz import TridiagonalToeplitz\n",
    "tridi_matrix = TridiagonalToeplitz(1, 1, -1 / 3)\n",
    "\n",
    "tridi_solution = HHL().solve(tridi_matrix, vector)\n",
    "tridi_sv = Statevector(tridi_solution.state).data\n",
    "print('TridiagToeplitz HHL solution: {} {}'.format(round(tridi_sv[16].real,3),round(tridi_sv[17].real,3)))\n",
    "tridi_solution.state.decompose().draw()"
   ]
  },
  {
   "cell_type": "markdown",
   "metadata": {},
   "source": [
    "<h2>HHL Algorithm for 2-dim. system</h2>"
   ]
  },
  {
   "cell_type": "code",
   "execution_count": null,
   "metadata": {},
   "outputs": [],
   "source": [
    "from qiskit import QuantumRegister, QuantumCircuit, ClassicalRegister\n",
    "from math import pi\n",
    "import math\n",
    "import numpy as np"
   ]
  },
  {
   "cell_type": "markdown",
   "metadata": {},
   "source": [
    "Here we choose $A = \\left(\\begin{array}{cc} 1.5 & 0.5 \\\\ 0.5 & 1.5\\end{array}\\right)$\n",
    "\n",
    "For this matrix, the eigenvectors are $u_1=|+\\rangle$ and $u_2=|-\\rangle$ with eigenvalues $\\lambda_1=2$ and $\\lambda_2=1$.\n",
    "\n",
    "First we write $A$ as $R^\\dagger \\Lambda R$, where $\\Lambda=diag(\\lambda_i)$ is the diagonal matrix with eigenvalues of A as diagonal elements. \n",
    "\n",
    "For this 2x2 system, $R$ is the Hadamard operator."
   ]
  },
  {
   "cell_type": "code",
   "execution_count": null,
   "metadata": {},
   "outputs": [],
   "source": [
    "A = np.array([[1.5, 0.5],[0.5, 1.5]])\n",
    "\n",
    "# Create 4 qubits\n",
    "# one input (b vector) qubit: q[0]\n",
    "# two register qubits: q[1] and q[2]\n",
    "# one ancilla qubit: q[3]\n",
    "qr = QuantumRegister(4, name='qr')\n",
    "cr = ClassicalRegister(4, name='cr')\n",
    "\n",
    "#Create circuit\n",
    "qc = QuantumCircuit(qr, cr, name='linear_solve')\n",
    "\n",
    "# Step 1: Operating R matrix on b (stored in q[0])\n",
    "qc.h(qr[0])\n",
    "qc.cx(qr[0], qr[1])\n",
    "qc.cx(qr[1], qr[2])\n",
    "qc.x(qr[1])\n",
    "qc.swap(qr[1], qr[2])\n",
    "\n",
    "# Step 2: Controlled rotation to get 1/lambda_1 and 1/lambda_2\n",
    "qc.cu(pi, 0.0, 0.0, 0.0, qr[1], qr[3]) #controlled u3\n",
    "qc.cu(pi/3, 0.0, 0.0, 0.0, qr[2], qr[3]) #controlled u3\n",
    "\n",
    "# # Step 3: disentanglement -- essentially applying R^T on \\Lambda*R*b\n",
    "# # Reverse of Step 1\n",
    "qc.swap(qr[1], qr[2])\n",
    "qc.x(qr[1])\n",
    "qc.cx(qr[1], qr[2])\n",
    "qc.cx(qr[0], qr[1])\n",
    "qc.h(qr[0])\n",
    "\n",
    "# Circuits for b values\n",
    "# We consider three b vectors (zero [1;0], minus [1/sqrt(2);-1/sqrt(2)] and plus [1/sqrt(2);1/sqrt(2)])\n",
    "b_zero = QuantumCircuit(qr, cr, name='b_zero')\n",
    "\n",
    "b_plus = QuantumCircuit(qr, cr, name='b_plus')\n",
    "b_plus.h(qr[0])\n",
    "\n",
    "b_minus = QuantumCircuit(qr,cr, name='b_minus')\n",
    "b_minus.x(qr[0])\n",
    "b_minus.h(qr[0])\n",
    "\n",
    "qlist = list(range(4))\n",
    "# quantum circuit to measure q in standard basis \n",
    "measureZ = QuantumCircuit(qr,cr, name='measureZ')\n",
    "measureZ.barrier(qr)\n",
    "measureZ.measure(qlist,qlist)\n",
    "\n",
    "# quantum circuit to measure q in superposition basis \n",
    "measureX = QuantumCircuit(qr,cr, name='measureX')\n",
    "measureX.barrier(qr)\n",
    "measureX.h(qr[0])\n",
    "measureX.measure(qlist, qlist)\n",
    "\n",
    "# quantum circuit to measure q in superposition basis \n",
    "measureY = QuantumCircuit(qr,cr, name='measureY')\n",
    "measureY.barrier(qr)\n",
    "measureY.sdg(qr[0])\n",
    "measureY.h(qr[0])\n",
    "measureY.measure(qlist, qlist)\n",
    "\n",
    "# Print  \n",
    "b_val_dict = {}\n",
    "b_val_dict['b_zero'] = b_zero\n",
    "b_val_dict['b_plus'] = b_plus\n",
    "b_val_dict['b_minus'] = b_minus\n",
    "\n",
    "measure_dict = {}\n",
    "measure_dict['measureX'] = measureX\n",
    "measure_dict['measureY'] = measureY\n",
    "measure_dict['measureZ'] = measureZ\n",
    "\n",
    "circuits = []\n",
    "for b_key in b_val_dict.keys():\n",
    "    for measure_key in measure_dict.keys(): \n",
    "        circ_name = b_key + '_ls_' + measure_key\n",
    "        circ = QuantumCircuit(qr,cr, name=circ_name)\n",
    "        circ.append(b_val_dict[b_key],qr,cr)\n",
    "        circ.append(qc, qr,cr)\n",
    "        circ.append(measure_dict[measure_key], qr,cr)\n",
    "        circuits.append(circ)\n",
    "\n",
    "display(circuits[0].decompose().draw('mpl'))\n",
    "display(circuits[1].decompose().draw('mpl'))"
   ]
  },
  {
   "cell_type": "code",
   "execution_count": null,
   "metadata": {},
   "outputs": [],
   "source": [
    "from qiskit import execute, Aer\n",
    "# execute the quantum circuit \n",
    "backend = Aer.get_backend('qasm_simulator') # the device to run on\n",
    "shots = 1000\n",
    "\n",
    "jobs = []\n",
    "for circ in circuits:\n",
    "    jobs.append(execute(circ, backend=backend, shots=shots).result())"
   ]
  },
  {
   "cell_type": "code",
   "execution_count": null,
   "metadata": {},
   "outputs": [],
   "source": [
    "# Plotting\n",
    "# import state tomography functions\n",
    "import matplotlib.pyplot as plt\n",
    "from qiskit.tools.visualization import plot_histogram\n",
    "def plot_measured(key):\n",
    "    title = ''\n",
    "    if isinstance(key,int):\n",
    "        if key < 0 or key >= len(jobs):\n",
    "            print(\"ERROR: Job number must be between 0 and {}\".format(len(jobs)-1))\n",
    "            return\n",
    "        counts=jobs[key].get_counts()\n",
    "        title=jobs[key].to_dict()['results'][0]['header']['name']\n",
    "    elif isinstance(key,str):\n",
    "        for job in jobs:\n",
    "            name = job.to_dict()['results'][0]['header']['name']\n",
    "            if key == name: \n",
    "                counts = job.get_counts()\n",
    "                title = name\n",
    "                break\n",
    "        if title == '':\n",
    "            print('ERROR: Circuit name not found in jobs')\n",
    "            return\n",
    "        \n",
    "    display(plot_histogram(counts,title=title))\n",
    "    return"
   ]
  },
  {
   "cell_type": "code",
   "execution_count": null,
   "metadata": {},
   "outputs": [],
   "source": [
    "plot_measured(0)"
   ]
  },
  {
   "cell_type": "code",
   "execution_count": null,
   "metadata": {},
   "outputs": [],
   "source": [
    "plot_measured('b_plus_ls_measureZ')"
   ]
  },
  {
   "cell_type": "code",
   "execution_count": null,
   "metadata": {},
   "outputs": [],
   "source": [
    "# Expectation values\n",
    "theory_expectation_values = {}\n",
    "# X, Y, Z\n",
    "theory_expectation_values['b_zero'] = {'X':-0.6, 'Y':0.0, 'Z':0.8}\n",
    "theory_expectation_values['b_plus'] = {'X':1.0, 'Y':0.0, 'Z':0.0}\n",
    "theory_expectation_values['b_minus'] = {'X':-1.0, 'Y':0.0, 'Z':0.0}\n",
    "\n",
    "def expectation_values(b_key):    \n",
    "    print('Expectation Values for ' + str(b_key))\n",
    "    print('==============================================================')\n",
    "    circuits = []\n",
    "    names = []\n",
    "    for measure_key in measure_dict.keys():\n",
    "        names.append(b_key + '_ls_' + measure_key)\n",
    "        for job in jobs:\n",
    "            if names[-1] == job.to_dict()['results'][0]['header']['name']:\n",
    "                circuits.append(job)\n",
    "        \n",
    "    for j,circuit in enumerate(circuits):\n",
    "        print(circuit.get_counts())\n",
    "        # Get results with 1 in the ancilla qubit q[3]\n",
    "        try:\n",
    "            x1 = circuit.get_counts()['1000']/shots\n",
    "        except KeyError:\n",
    "            x1 = 0\n",
    "        try:\n",
    "            x2 = circuit.get_counts()['1001']/shots\n",
    "        except KeyError:\n",
    "            x2 = 0\n",
    "\n",
    "        # Scale the probabilities to add up to 1\n",
    "        sum = x1 + x2\n",
    "        x1 = x1/sum\n",
    "        x2 = x2/sum\n",
    "        expectation_value = round(x1-x2,3)\n",
    "\n",
    "        print(names[j]+': local simulator ' + str(expectation_value) + ' | theoretical:' + \\\n",
    "              str(theory_expectation_values[b_key][names[j][-1]]))\n",
    "        print('--------------------------------------------------------------\\n')"
   ]
  },
  {
   "cell_type": "code",
   "execution_count": null,
   "metadata": {},
   "outputs": [],
   "source": [
    "for b_key in b_val_dict.keys():\n",
    "    expectation_values(b_key)"
   ]
  },
  {
   "cell_type": "code",
   "execution_count": null,
   "metadata": {},
   "outputs": [],
   "source": []
  }
 ],
 "metadata": {
  "kernelspec": {
   "display_name": "Python 3 (ipykernel)",
   "language": "python",
   "name": "python3"
  },
  "language_info": {
   "codemirror_mode": {
    "name": "ipython",
    "version": 3
   },
   "file_extension": ".py",
   "mimetype": "text/x-python",
   "name": "python",
   "nbconvert_exporter": "python",
   "pygments_lexer": "ipython3",
   "version": "3.9.12"
  }
 },
 "nbformat": 4,
 "nbformat_minor": 2
}
