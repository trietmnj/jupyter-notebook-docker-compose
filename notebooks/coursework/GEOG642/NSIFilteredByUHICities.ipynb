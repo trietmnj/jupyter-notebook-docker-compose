{
 "cells": [
  {
   "cell_type": "code",
   "execution_count": 1,
   "id": "3b9660bd-64fb-4a0f-81e4-0a1a6aae4824",
   "metadata": {},
   "outputs": [
    {
     "name": "stdout",
     "output_type": "stream",
     "text": [
      "Requirement already satisfied: pandas in /opt/conda/lib/python3.11/site-packages (2.0.2)\n",
      "Requirement already satisfied: python-dateutil>=2.8.2 in /opt/conda/lib/python3.11/site-packages (from pandas) (2.8.2)\n",
      "Requirement already satisfied: pytz>=2020.1 in /opt/conda/lib/python3.11/site-packages (from pandas) (2023.3)\n",
      "Requirement already satisfied: tzdata>=2022.1 in /opt/conda/lib/python3.11/site-packages (from pandas) (2023.3)\n",
      "Requirement already satisfied: numpy>=1.21.0 in /opt/conda/lib/python3.11/site-packages (from pandas) (1.24.4)\n",
      "Requirement already satisfied: six>=1.5 in /opt/conda/lib/python3.11/site-packages (from python-dateutil>=2.8.2->pandas) (1.16.0)\n"
     ]
    }
   ],
   "source": [
    "!pip install pandas"
   ]
  },
  {
   "cell_type": "code",
   "execution_count": null,
   "id": "e196eb07-445f-42a6-97c0-bd20e39996a6",
   "metadata": {},
   "outputs": [],
   "source": []
  },
  {
   "cell_type": "code",
   "execution_count": null,
   "id": "511f1629-addb-4c4b-818d-89814b170bb8",
   "metadata": {},
   "outputs": [],
   "source": []
  },
  {
   "cell_type": "code",
   "execution_count": 2,
   "id": "de064419-e528-44d9-8b40-d97cb57a68a5",
   "metadata": {},
   "outputs": [],
   "source": [
    "import pandas as pd"
   ]
  },
  {
   "cell_type": "code",
   "execution_count": null,
   "id": "31cd68e5-0c98-42c4-9134-1270b1e345b5",
   "metadata": {},
   "outputs": [],
   "source": []
  },
  {
   "cell_type": "code",
   "execution_count": 16,
   "id": "d6522adb-e8a4-45e9-94ea-e9c18d0e059a",
   "metadata": {},
   "outputs": [
    {
     "name": "stdout",
     "output_type": "stream",
     "text": [
      "../../../data/coursework/GEOG642/NSIFilterByUHICities/nsiFiltered.csv\n"
     ]
    }
   ],
   "source": [
    "# !ls \"../../../data/coursework/GEO642/NSIFilterByUHICities/nsiFiltered.csv\"\n",
    "!ls \"../../../data/coursework/GEOG642/NSIFilterByUHICities/nsiFiltered.csv\""
   ]
  },
  {
   "cell_type": "code",
   "execution_count": 18,
   "id": "2c5fc62c-9021-4358-9c2e-a88cb2231564",
   "metadata": {},
   "outputs": [],
   "source": [
    "csv_path = \"../../../data/coursework/GEOG642/NSIFilterByUHICities/nsiFiltered.csv\""
   ]
  },
  {
   "cell_type": "code",
   "execution_count": null,
   "id": "54fbdbff-8ee6-4ad5-b40b-d4b771279189",
   "metadata": {},
   "outputs": [],
   "source": [
    "%%time\n",
    "nsi_data = pd.read_csv(csv_path)"
   ]
  },
  {
   "cell_type": "code",
   "execution_count": null,
   "id": "e778473a-1bcc-4abe-a9d0-f1ef95c45841",
   "metadata": {},
   "outputs": [],
   "source": []
  },
  {
   "cell_type": "code",
   "execution_count": null,
   "id": "a2e7ad36-7bd4-4906-b512-c912c658d309",
   "metadata": {},
   "outputs": [],
   "source": [
    "nsi_data.head()"
   ]
  },
  {
   "cell_type": "code",
   "execution_count": null,
   "id": "81f21d0d-912e-4f06-991b-09c04c53422a",
   "metadata": {},
   "outputs": [],
   "source": []
  },
  {
   "cell_type": "code",
   "execution_count": null,
   "id": "eb8e586f-5d66-4d4d-9511-e28cfc63c64f",
   "metadata": {},
   "outputs": [],
   "source": []
  },
  {
   "cell_type": "code",
   "execution_count": null,
   "id": "69d67e80-e667-434a-867f-c94b317ad7a9",
   "metadata": {},
   "outputs": [],
   "source": []
  },
  {
   "cell_type": "code",
   "execution_count": null,
   "id": "e2bb6028-5760-4daa-9073-0a638ea1fc77",
   "metadata": {},
   "outputs": [],
   "source": []
  },
  {
   "cell_type": "code",
   "execution_count": null,
   "id": "461a5806-f8b6-41d4-972c-26d67ab7ee12",
   "metadata": {},
   "outputs": [],
   "source": []
  },
  {
   "cell_type": "code",
   "execution_count": null,
   "id": "25e1dbe2-aa8b-4d76-8e7b-4198a4acda44",
   "metadata": {},
   "outputs": [],
   "source": []
  }
 ],
 "metadata": {
  "kernelspec": {
   "display_name": "Python 3 (ipykernel)",
   "language": "python",
   "name": "python3"
  },
  "language_info": {
   "codemirror_mode": {
    "name": "ipython",
    "version": 3
   },
   "file_extension": ".py",
   "mimetype": "text/x-python",
   "name": "python",
   "nbconvert_exporter": "python",
   "pygments_lexer": "ipython3",
   "version": "3.11.4"
  }
 },
 "nbformat": 4,
 "nbformat_minor": 5
}
