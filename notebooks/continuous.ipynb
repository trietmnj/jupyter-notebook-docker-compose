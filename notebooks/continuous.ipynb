{
 "cells": [
  {
   "cell_type": "code",
   "execution_count": 4,
   "id": "6f9d414b-4eac-40f2-8e1d-4bf3282ce3b1",
   "metadata": {
    "collapsed": true,
    "jupyter": {
     "outputs_hidden": true
    },
    "tags": []
   },
   "outputs": [
    {
     "name": "stdout",
     "output_type": "stream",
     "text": [
      "Collecting strawberryfields\n",
      "  Downloading StrawberryFields-0.23.0-py3-none-any.whl (4.9 MB)\n",
      "\u001b[2K     \u001b[90m━━━━━━━━━━━━━━━━━━━━━━━━━━━━━━━━━━━━━━━━\u001b[0m \u001b[32m4.9/4.9 MB\u001b[0m \u001b[31m5.2 MB/s\u001b[0m eta \u001b[36m0:00:00\u001b[0m00:01\u001b[0m00:01\u001b[0m\n",
      "\u001b[?25hCollecting quantum-blackbird>=0.3.0\n",
      "  Downloading quantum_blackbird-0.4.0-py3-none-any.whl (47 kB)\n",
      "\u001b[2K     \u001b[90m━━━━━━━━━━━━━━━━━━━━━━━━━━━━━━━━━━━━━━━━\u001b[0m \u001b[32m48.0/48.0 kB\u001b[0m \u001b[31m7.9 MB/s\u001b[0m eta \u001b[36m0:00:00\u001b[0m\n",
      "\u001b[?25hRequirement already satisfied: networkx>=2.0 in /opt/conda/lib/python3.10/site-packages (from strawberryfields) (2.8.6)\n",
      "Requirement already satisfied: requests>=2.22.0 in /opt/conda/lib/python3.10/site-packages (from strawberryfields) (2.28.1)\n",
      "Collecting toml\n",
      "  Downloading toml-0.10.2-py2.py3-none-any.whl (16 kB)\n",
      "Collecting thewalrus>=0.18.0\n",
      "  Downloading thewalrus-0.19.0-py3-none-any.whl (83 kB)\n",
      "\u001b[2K     \u001b[90m━━━━━━━━━━━━━━━━━━━━━━━━━━━━━━━━━━━━━━━━\u001b[0m \u001b[32m83.8/83.8 kB\u001b[0m \u001b[31m9.7 MB/s\u001b[0m eta \u001b[36m0:00:00\u001b[0m\n",
      "\u001b[?25hRequirement already satisfied: sympy>=1.5 in /opt/conda/lib/python3.10/site-packages (from strawberryfields) (1.10.1)\n",
      "Collecting xanadu-cloud-client>=0.2.1\n",
      "  Downloading xanadu_cloud_client-0.2.1-py3-none-any.whl (24 kB)\n",
      "Requirement already satisfied: scipy>=1.0.0 in /opt/conda/lib/python3.10/site-packages (from strawberryfields) (1.9.0)\n",
      "Collecting quantum-xir>=0.1.1\n",
      "  Downloading quantum_xir-0.2.1-py3-none-any.whl (27 kB)\n",
      "Requirement already satisfied: numpy>=1.17.4 in /opt/conda/lib/python3.10/site-packages (from strawberryfields) (1.22.4)\n",
      "Requirement already satisfied: numba in /opt/conda/lib/python3.10/site-packages (from strawberryfields) (0.55.2)\n",
      "Requirement already satisfied: urllib3>=1.25.3 in /opt/conda/lib/python3.10/site-packages (from strawberryfields) (1.26.11)\n",
      "Requirement already satisfied: python-dateutil>=2.8.0 in /opt/conda/lib/python3.10/site-packages (from strawberryfields) (2.8.2)\n",
      "Requirement already satisfied: six>=1.5 in /opt/conda/lib/python3.10/site-packages (from python-dateutil>=2.8.0->strawberryfields) (1.16.0)\n",
      "Collecting antlr4-python3-runtime==4.8\n",
      "  Downloading antlr4-python3-runtime-4.8.tar.gz (112 kB)\n",
      "\u001b[2K     \u001b[90m━━━━━━━━━━━━━━━━━━━━━━━━━━━━━━━━━━━━━━\u001b[0m \u001b[32m112.4/112.4 kB\u001b[0m \u001b[31m15.0 MB/s\u001b[0m eta \u001b[36m0:00:00\u001b[0m\n",
      "\u001b[?25h  Preparing metadata (setup.py) ... \u001b[?25ldone\n",
      "\u001b[?25hCollecting lark-parser>=0.11.0\n",
      "  Downloading lark_parser-0.12.0-py2.py3-none-any.whl (103 kB)\n",
      "\u001b[2K     \u001b[90m━━━━━━━━━━━━━━━━━━━━━━━━━━━━━━━━━━━━━━\u001b[0m \u001b[32m103.5/103.5 kB\u001b[0m \u001b[31m12.0 MB/s\u001b[0m eta \u001b[36m0:00:00\u001b[0m\n",
      "\u001b[?25hRequirement already satisfied: charset-normalizer<3,>=2 in /opt/conda/lib/python3.10/site-packages (from requests>=2.22.0->strawberryfields) (2.1.1)\n",
      "Requirement already satisfied: certifi>=2017.4.17 in /opt/conda/lib/python3.10/site-packages (from requests>=2.22.0->strawberryfields) (2022.6.15)\n",
      "Requirement already satisfied: idna<4,>=2.5 in /opt/conda/lib/python3.10/site-packages (from requests>=2.22.0->strawberryfields) (3.3)\n",
      "Requirement already satisfied: mpmath>=0.19 in /opt/conda/lib/python3.10/site-packages (from sympy>=1.5->strawberryfields) (1.2.1)\n",
      "Requirement already satisfied: dask[delayed] in /opt/conda/lib/python3.10/site-packages (from thewalrus>=0.18.0->strawberryfields) (2022.8.1)\n",
      "Requirement already satisfied: llvmlite<0.39,>=0.38.0rc1 in /opt/conda/lib/python3.10/site-packages (from numba->strawberryfields) (0.38.1)\n",
      "Requirement already satisfied: setuptools in /opt/conda/lib/python3.10/site-packages (from numba->strawberryfields) (65.3.0)\n",
      "Collecting appdirs\n",
      "  Downloading appdirs-1.4.4-py2.py3-none-any.whl (9.6 kB)\n",
      "Collecting pydantic[dotenv]\n",
      "  Downloading pydantic-1.10.1-cp310-cp310-manylinux_2_17_x86_64.manylinux2014_x86_64.whl (12.8 MB)\n",
      "\u001b[2K     \u001b[90m━━━━━━━━━━━━━━━━━━━━━━━━━━━━━━━━━━━━━━━━\u001b[0m \u001b[32m12.8/12.8 MB\u001b[0m \u001b[31m17.4 MB/s\u001b[0m eta \u001b[36m0:00:00\u001b[0m00:01\u001b[0m00:01\u001b[0m\n",
      "\u001b[?25hCollecting fire\n",
      "  Downloading fire-0.4.0.tar.gz (87 kB)\n",
      "\u001b[2K     \u001b[90m━━━━━━━━━━━━━━━━━━━━━━━━━━━━━━━━━━━━━━━━\u001b[0m \u001b[32m87.7/87.7 kB\u001b[0m \u001b[31m22.8 MB/s\u001b[0m eta \u001b[36m0:00:00\u001b[0m\n",
      "\u001b[?25h  Preparing metadata (setup.py) ... \u001b[?25ldone\n",
      "\u001b[?25hRequirement already satisfied: partd>=0.3.10 in /opt/conda/lib/python3.10/site-packages (from dask[delayed]->thewalrus>=0.18.0->strawberryfields) (1.3.0)\n",
      "Requirement already satisfied: packaging>=20.0 in /opt/conda/lib/python3.10/site-packages (from dask[delayed]->thewalrus>=0.18.0->strawberryfields) (21.3)\n",
      "Requirement already satisfied: cloudpickle>=1.1.1 in /opt/conda/lib/python3.10/site-packages (from dask[delayed]->thewalrus>=0.18.0->strawberryfields) (2.1.0)\n",
      "Requirement already satisfied: toolz>=0.8.2 in /opt/conda/lib/python3.10/site-packages (from dask[delayed]->thewalrus>=0.18.0->strawberryfields) (0.12.0)\n",
      "Requirement already satisfied: fsspec>=0.6.0 in /opt/conda/lib/python3.10/site-packages (from dask[delayed]->thewalrus>=0.18.0->strawberryfields) (2022.7.1)\n",
      "Requirement already satisfied: pyyaml>=5.3.1 in /opt/conda/lib/python3.10/site-packages (from dask[delayed]->thewalrus>=0.18.0->strawberryfields) (6.0)\n",
      "Collecting termcolor\n",
      "  Downloading termcolor-1.1.0.tar.gz (3.9 kB)\n",
      "  Preparing metadata (setup.py) ... \u001b[?25ldone\n",
      "\u001b[?25hRequirement already satisfied: typing-extensions>=4.1.0 in /opt/conda/lib/python3.10/site-packages (from pydantic[dotenv]->xanadu-cloud-client>=0.2.1->strawberryfields) (4.3.0)\n",
      "Collecting python-dotenv>=0.10.4\n",
      "  Downloading python_dotenv-0.20.0-py3-none-any.whl (17 kB)\n",
      "Requirement already satisfied: pyparsing!=3.0.5,>=2.0.2 in /opt/conda/lib/python3.10/site-packages (from packaging>=20.0->dask[delayed]->thewalrus>=0.18.0->strawberryfields) (3.0.9)\n",
      "Requirement already satisfied: locket in /opt/conda/lib/python3.10/site-packages (from partd>=0.3.10->dask[delayed]->thewalrus>=0.18.0->strawberryfields) (1.0.0)\n",
      "Building wheels for collected packages: antlr4-python3-runtime, fire, termcolor\n",
      "  Building wheel for antlr4-python3-runtime (setup.py) ... \u001b[?25ldone\n",
      "\u001b[?25h  Created wheel for antlr4-python3-runtime: filename=antlr4_python3_runtime-4.8-py3-none-any.whl size=141210 sha256=930123784c9c0d73d7888c52935d4eee326c3cadac66bac5334624817efb59ad\n",
      "  Stored in directory: /home/jovyan/.cache/pip/wheels/a7/20/bd/e1477d664f22d99989fd28ee1a43d6633dddb5cb9e801350d5\n",
      "  Building wheel for fire (setup.py) ... \u001b[?25ldone\n",
      "\u001b[?25h  Created wheel for fire: filename=fire-0.4.0-py2.py3-none-any.whl size=115926 sha256=f459e7843c0d790eab1ef69cef32a5858ff06ec8f410a0933172ce33b88b3b21\n",
      "  Stored in directory: /home/jovyan/.cache/pip/wheels/26/9a/dd/2818b1b023daf077ec3e625c47ae446aca587a5abe48e05212\n",
      "  Building wheel for termcolor (setup.py) ... \u001b[?25ldone\n",
      "\u001b[?25h  Created wheel for termcolor: filename=termcolor-1.1.0-py3-none-any.whl size=4832 sha256=51e0622c4eb478ba877dc348a609547c2cd5d28ea736a3820d318813235f35a9\n",
      "  Stored in directory: /home/jovyan/.cache/pip/wheels/a1/49/46/1b13a65d8da11238af9616b00fdde6d45b0f95d9291bac8452\n",
      "Successfully built antlr4-python3-runtime fire termcolor\n",
      "Installing collected packages: termcolor, lark-parser, appdirs, antlr4-python3-runtime, toml, quantum-xir, python-dotenv, pydantic, fire, quantum-blackbird, xanadu-cloud-client, thewalrus, strawberryfields\n",
      "Successfully installed antlr4-python3-runtime-4.8 appdirs-1.4.4 fire-0.4.0 lark-parser-0.12.0 pydantic-1.10.1 python-dotenv-0.20.0 quantum-blackbird-0.4.0 quantum-xir-0.2.1 strawberryfields-0.23.0 termcolor-1.1.0 thewalrus-0.19.0 toml-0.10.2 xanadu-cloud-client-0.2.1\n"
     ]
    }
   ],
   "source": [
    "!pip install strawberryfields"
   ]
  },
  {
   "cell_type": "code",
   "execution_count": 36,
   "id": "9feadbf6-4f1c-4bc4-8ff1-a9248e5f16ca",
   "metadata": {},
   "outputs": [],
   "source": [
    "import numpy as np\n",
    "# from qiskit.algorithms.linear_solvers.numpy_linear_solver import NumPyLinearSolver\n",
    "# from qiskit.algorithms.linear_solvers.hhl import HHL\n",
    "import strawberryfields as sf\n",
    "from strawberryfields.ops import *\n",
    "from matplotlib import pyplot as plt"
   ]
  },
  {
   "cell_type": "markdown",
   "id": "78b2f932-384e-446d-903f-60369661f8d1",
   "metadata": {},
   "source": [
    "\n",
    "encode probability information in a and b\n",
    "\n",
    "propagate through circuit (+ - * /)\n",
    "\n",
    "resulting superposition contains constructive interference pattern between var a and b\n",
    "\n"
   ]
  },
  {
   "cell_type": "code",
   "execution_count": 38,
   "id": "d01a8924-86f4-4556-999d-2794da49b5f6",
   "metadata": {},
   "outputs": [],
   "source": [
    "prog = sf.Program(1)"
   ]
  },
  {
   "cell_type": "code",
   "execution_count": 39,
   "id": "33c34d5c-480f-4d41-ada9-964788eddb98",
   "metadata": {},
   "outputs": [
    {
     "ename": "AttributeError",
     "evalue": "module 'strawberryfields.ops' has no attribute 'Toffoli'",
     "output_type": "error",
     "traceback": [
      "\u001b[0;31m---------------------------------------------------------------------------\u001b[0m",
      "\u001b[0;31mAttributeError\u001b[0m                            Traceback (most recent call last)",
      "Input \u001b[0;32mIn [39]\u001b[0m, in \u001b[0;36m<cell line: 1>\u001b[0;34m()\u001b[0m\n\u001b[1;32m      3\u001b[0m ops\u001b[38;5;241m.\u001b[39mDgate(\u001b[38;5;241m1\u001b[39m) \u001b[38;5;241m|\u001b[39m q[\u001b[38;5;241m0\u001b[39m]\n\u001b[1;32m      4\u001b[0m ops\u001b[38;5;241m.\u001b[39mSgate(\u001b[38;5;241m1\u001b[39m) \u001b[38;5;241m|\u001b[39m q[\u001b[38;5;241m0\u001b[39m]\n\u001b[0;32m----> 5\u001b[0m \u001b[43mops\u001b[49m\u001b[38;5;241;43m.\u001b[39;49m\u001b[43mToffoli\u001b[49m()\n\u001b[1;32m      7\u001b[0m ops\u001b[38;5;241m.\u001b[39mMeasureX \u001b[38;5;241m|\u001b[39m q[\u001b[38;5;241m0\u001b[39m]\n",
      "\u001b[0;31mAttributeError\u001b[0m: module 'strawberryfields.ops' has no attribute 'Toffoli'"
     ]
    }
   ],
   "source": [
    "\n",
    "\n",
    "with prog.context as q:\n",
    "    ops.Vacuum() | q[0]\n",
    "    ops.Dgate(1) | q[0]\n",
    "    ops.Sgate(1) | q[0]\n",
    "    ops.Toffoli()\n",
    "    \n",
    "    ops.MeasureX | q[0]"
   ]
  },
  {
   "cell_type": "code",
   "execution_count": 27,
   "id": "eed8fabb-c245-415d-8817-4403a506c52e",
   "metadata": {},
   "outputs": [],
   "source": [
    "eng = sf.Engine('fock', backend_options={\"cutoff_dim\": 15})\n",
    "result = eng.run(prog, shots=1, modes=None, compile_options={})"
   ]
  },
  {
   "cell_type": "code",
   "execution_count": 28,
   "id": "8f0f6264-50f9-471a-a3e7-2042215fcb69",
   "metadata": {},
   "outputs": [
    {
     "data": {
      "text/plain": [
       "array([[0.48370484]])"
      ]
     },
     "execution_count": 28,
     "metadata": {},
     "output_type": "execute_result"
    }
   ],
   "source": [
    "result.samples\n"
   ]
  },
  {
   "cell_type": "code",
   "execution_count": 34,
   "id": "75885387-634b-4d3f-a829-1e06511a209b",
   "metadata": {},
   "outputs": [
    {
     "ename": "ValueError",
     "evalue": "einstein sum subscripts string contains too many subscripts for operand 0",
     "output_type": "error",
     "traceback": [
      "\u001b[0;31m---------------------------------------------------------------------------\u001b[0m",
      "\u001b[0;31mValueError\u001b[0m                                Traceback (most recent call last)",
      "Input \u001b[0;32mIn [34]\u001b[0m, in \u001b[0;36m<cell line: 2>\u001b[0;34m()\u001b[0m\n\u001b[1;32m      1\u001b[0m state \u001b[38;5;241m=\u001b[39m result\u001b[38;5;241m.\u001b[39mstate\n\u001b[0;32m----> 2\u001b[0m rho2 \u001b[38;5;241m=\u001b[39m \u001b[43mnp\u001b[49m\u001b[38;5;241;43m.\u001b[39;49m\u001b[43meinsum\u001b[49m\u001b[43m(\u001b[49m\u001b[38;5;124;43m'\u001b[39;49m\u001b[38;5;124;43mkkllij->ij\u001b[39;49m\u001b[38;5;124;43m'\u001b[39;49m\u001b[43m,\u001b[49m\u001b[43m \u001b[49m\u001b[43mstate\u001b[49m\u001b[38;5;241;43m.\u001b[39;49m\u001b[43mdm\u001b[49m\u001b[43m(\u001b[49m\u001b[43m)\u001b[49m\u001b[43m)\u001b[49m\n\u001b[1;32m      3\u001b[0m probs \u001b[38;5;241m=\u001b[39m np\u001b[38;5;241m.\u001b[39mreal_if_close(np\u001b[38;5;241m.\u001b[39mdiagonal(rho2))\n",
      "File \u001b[0;32m<__array_function__ internals>:180\u001b[0m, in \u001b[0;36meinsum\u001b[0;34m(*args, **kwargs)\u001b[0m\n",
      "File \u001b[0;32m/opt/conda/lib/python3.10/site-packages/numpy/core/einsumfunc.py:1359\u001b[0m, in \u001b[0;36meinsum\u001b[0;34m(out, optimize, *operands, **kwargs)\u001b[0m\n\u001b[1;32m   1357\u001b[0m     \u001b[38;5;28;01mif\u001b[39;00m specified_out:\n\u001b[1;32m   1358\u001b[0m         kwargs[\u001b[38;5;124m'\u001b[39m\u001b[38;5;124mout\u001b[39m\u001b[38;5;124m'\u001b[39m] \u001b[38;5;241m=\u001b[39m out\n\u001b[0;32m-> 1359\u001b[0m     \u001b[38;5;28;01mreturn\u001b[39;00m \u001b[43mc_einsum\u001b[49m\u001b[43m(\u001b[49m\u001b[38;5;241;43m*\u001b[39;49m\u001b[43moperands\u001b[49m\u001b[43m,\u001b[49m\u001b[43m \u001b[49m\u001b[38;5;241;43m*\u001b[39;49m\u001b[38;5;241;43m*\u001b[39;49m\u001b[43mkwargs\u001b[49m\u001b[43m)\u001b[49m\n\u001b[1;32m   1361\u001b[0m \u001b[38;5;66;03m# Check the kwargs to avoid a more cryptic error later, without having to\u001b[39;00m\n\u001b[1;32m   1362\u001b[0m \u001b[38;5;66;03m# repeat default values here\u001b[39;00m\n\u001b[1;32m   1363\u001b[0m valid_einsum_kwargs \u001b[38;5;241m=\u001b[39m [\u001b[38;5;124m'\u001b[39m\u001b[38;5;124mdtype\u001b[39m\u001b[38;5;124m'\u001b[39m, \u001b[38;5;124m'\u001b[39m\u001b[38;5;124morder\u001b[39m\u001b[38;5;124m'\u001b[39m, \u001b[38;5;124m'\u001b[39m\u001b[38;5;124mcasting\u001b[39m\u001b[38;5;124m'\u001b[39m]\n",
      "\u001b[0;31mValueError\u001b[0m: einstein sum subscripts string contains too many subscripts for operand 0"
     ]
    }
   ],
   "source": [
    "state = result.state\n",
    "rho2 = np.einsum('kkllij->ij', state.dm())\n",
    "probs = np.real_if_close(np.diagonal(rho2))"
   ]
  },
  {
   "cell_type": "code",
   "execution_count": 32,
   "id": "44a02fac-980f-4d39-96b1-eb5e267f1ef6",
   "metadata": {},
   "outputs": [
    {
     "ename": "NameError",
     "evalue": "name 'probs' is not defined",
     "output_type": "error",
     "traceback": [
      "\u001b[0;31m---------------------------------------------------------------------------\u001b[0m",
      "\u001b[0;31mNameError\u001b[0m                                 Traceback (most recent call last)",
      "Input \u001b[0;32mIn [32]\u001b[0m, in \u001b[0;36m<cell line: 1>\u001b[0;34m()\u001b[0m\n\u001b[0;32m----> 1\u001b[0m plt\u001b[38;5;241m.\u001b[39mbar(\u001b[38;5;28mrange\u001b[39m(\u001b[38;5;241m7\u001b[39m), \u001b[43mprobs\u001b[49m[:\u001b[38;5;241m7\u001b[39m])\n\u001b[1;32m      2\u001b[0m plt\u001b[38;5;241m.\u001b[39mxlabel(\u001b[38;5;124m'\u001b[39m\u001b[38;5;124mFock state\u001b[39m\u001b[38;5;124m'\u001b[39m)\n\u001b[1;32m      3\u001b[0m plt\u001b[38;5;241m.\u001b[39mylabel(\u001b[38;5;124m'\u001b[39m\u001b[38;5;124mMarginal probability\u001b[39m\u001b[38;5;124m'\u001b[39m)\n",
      "\u001b[0;31mNameError\u001b[0m: name 'probs' is not defined"
     ]
    }
   ],
   "source": [
    "plt.bar(range(7), probs[:7])\n",
    "plt.xlabel('Fock state')\n",
    "plt.ylabel('Marginal probability')\n",
    "plt.title('Mode 2')\n",
    "plt.show()"
   ]
  },
  {
   "cell_type": "code",
   "execution_count": null,
   "id": "fdea77fb-725d-428e-a5e9-ffbbbdbf258c",
   "metadata": {},
   "outputs": [],
   "source": []
  }
 ],
 "metadata": {
  "kernelspec": {
   "display_name": "Python 3 (ipykernel)",
   "language": "python",
   "name": "python3"
  },
  "language_info": {
   "codemirror_mode": {
    "name": "ipython",
    "version": 3
   },
   "file_extension": ".py",
   "mimetype": "text/x-python",
   "name": "python",
   "nbconvert_exporter": "python",
   "pygments_lexer": "ipython3",
   "version": "3.10.6"
  }
 },
 "nbformat": 4,
 "nbformat_minor": 5
}
