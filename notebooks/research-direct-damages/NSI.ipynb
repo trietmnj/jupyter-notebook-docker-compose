{
 "cells": [
  {
   "cell_type": "code",
   "execution_count": null,
   "id": "fe3af9aa-721f-4e42-9555-175f6fa2d5e2",
   "metadata": {
    "tags": []
   },
   "outputs": [],
   "source": [
    "!pip install lckr-jupyterlab-variableinspector geopandas\n",
    "\n"
   ]
  },
  {
   "cell_type": "code",
   "execution_count": 19,
   "id": "fa69fdd7-71ae-47fd-99de-bd923394b0f6",
   "metadata": {},
   "outputs": [],
   "source": [
    "import os\n",
    "import geopandas as gpd"
   ]
  },
  {
   "cell_type": "code",
   "execution_count": null,
   "id": "abcd158a-ce56-4968-911c-790199c40da1",
   "metadata": {},
   "outputs": [],
   "source": []
  },
  {
   "cell_type": "code",
   "execution_count": 12,
   "id": "06ba1300-1d74-47c9-af24-654941eb6894",
   "metadata": {},
   "outputs": [],
   "source": [
    "FILEPATH_BASE = '/home/jovyan/data-laptop'\n",
    "NSI_FOLDER = os.path.join(FILEPATH_BASE, \"nsi/\")"
   ]
  },
  {
   "cell_type": "code",
   "execution_count": null,
   "id": "9755f0f8-c524-4ee0-841f-96970107b63e",
   "metadata": {},
   "outputs": [],
   "source": []
  },
  {
   "cell_type": "code",
   "execution_count": 9,
   "id": "79325cb0-de27-4018-9a7e-6a3eb7f8a1ab",
   "metadata": {},
   "outputs": [],
   "source": [
    "def get_files_deep(dir_name):\n",
    "    dir_list = os.listdir(dir_name)\n",
    "    all_files = list()\n",
    "    for entry in dir_list:\n",
    "        full_path = os.path.join(dir_name, entry)\n",
    "        if os.path.isdir(full_path):\n",
    "            all_files = allFiles + get_files_deep(full_path)\n",
    "        else:\n",
    "            all_files.append(full_path)\n",
    "    return all_files"
   ]
  },
  {
   "cell_type": "code",
   "execution_count": null,
   "id": "82890091-c165-46a8-be78-935e04435f0e",
   "metadata": {},
   "outputs": [],
   "source": []
  },
  {
   "cell_type": "code",
   "execution_count": 16,
   "id": "b98606a5-7048-4ccd-80c4-8a720f8d7a8f",
   "metadata": {
    "collapsed": true,
    "jupyter": {
     "outputs_hidden": true
    },
    "tags": []
   },
   "outputs": [
    {
     "data": {
      "text/plain": [
       "['/home/jovyan/data-laptop/nsi/nsi_2022_01.gpkg',\n",
       " '/home/jovyan/data-laptop/nsi/nsi_2022_09.gpkg',\n",
       " '/home/jovyan/data-laptop/nsi/nsi_2022_10.gpkg',\n",
       " '/home/jovyan/data-laptop/nsi/nsi_2022_12.gpkg',\n",
       " '/home/jovyan/data-laptop/nsi/nsi_2022_13.gpkg',\n",
       " '/home/jovyan/data-laptop/nsi/nsi_2022_22.gpkg',\n",
       " '/home/jovyan/data-laptop/nsi/nsi_2022_23.gpkg',\n",
       " '/home/jovyan/data-laptop/nsi/nsi_2022_24.gpkg',\n",
       " '/home/jovyan/data-laptop/nsi/nsi_2022_25.gpkg',\n",
       " '/home/jovyan/data-laptop/nsi/nsi_2022_28.gpkg',\n",
       " '/home/jovyan/data-laptop/nsi/nsi_2022_33.gpkg',\n",
       " '/home/jovyan/data-laptop/nsi/nsi_2022_34.gpkg',\n",
       " '/home/jovyan/data-laptop/nsi/nsi_2022_36.gpkg',\n",
       " '/home/jovyan/data-laptop/nsi/nsi_2022_37.gpkg',\n",
       " '/home/jovyan/data-laptop/nsi/nsi_2022_44.gpkg',\n",
       " '/home/jovyan/data-laptop/nsi/nsi_2022_45.gpkg',\n",
       " '/home/jovyan/data-laptop/nsi/nsi_2022_48.gpkg',\n",
       " '/home/jovyan/data-laptop/nsi/nsi_2022_51.gpkg']"
      ]
     },
     "execution_count": 16,
     "metadata": {},
     "output_type": "execute_result"
    }
   ],
   "source": [
    "files = get_files_deep(NSI_FOLDER)\n",
    "gpkg_file_paths = list(filter(lambda x: x.endswith(\".gpkg\"), files))\n",
    "gpkg_file_paths"
   ]
  },
  {
   "cell_type": "code",
   "execution_count": null,
   "id": "6c4b0d65-f3eb-494b-95f7-5c29b076cb4b",
   "metadata": {},
   "outputs": [],
   "source": []
  },
  {
   "cell_type": "code",
   "execution_count": null,
   "id": "65b0ff44-7bb3-46ae-9a8e-2a4aeff1064d",
   "metadata": {},
   "outputs": [],
   "source": [
    "gdata = gpd.read_file(gpkg_file_paths[0])"
   ]
  },
  {
   "cell_type": "code",
   "execution_count": null,
   "id": "380b90a5-b41c-434b-a622-75025ed936ba",
   "metadata": {},
   "outputs": [],
   "source": [
    "gdata.head()"
   ]
  },
  {
   "cell_type": "code",
   "execution_count": null,
   "id": "bda13445-432c-4d24-8460-03ce1160e06b",
   "metadata": {},
   "outputs": [],
   "source": []
  },
  {
   "cell_type": "code",
   "execution_count": null,
   "id": "2e975e6b-0030-4213-93b1-3f361195d586",
   "metadata": {},
   "outputs": [],
   "source": []
  },
  {
   "cell_type": "code",
   "execution_count": null,
   "id": "4ea79e13-e044-46cf-87aa-6aac2a3cdd46",
   "metadata": {},
   "outputs": [],
   "source": []
  },
  {
   "cell_type": "code",
   "execution_count": null,
   "id": "8e55acde-f154-4e9f-9237-ed991c2a0dab",
   "metadata": {},
   "outputs": [],
   "source": []
  },
  {
   "cell_type": "code",
   "execution_count": null,
   "id": "24a2bcf0-2c0d-4082-bd7e-f35270995843",
   "metadata": {},
   "outputs": [],
   "source": []
  },
  {
   "cell_type": "code",
   "execution_count": null,
   "id": "a6cb8438-510a-4823-bde3-7beace12db9a",
   "metadata": {},
   "outputs": [],
   "source": []
  }
 ],
 "metadata": {
  "kernelspec": {
   "display_name": "Python 3 (ipykernel)",
   "language": "python",
   "name": "python3"
  },
  "language_info": {
   "codemirror_mode": {
    "name": "ipython",
    "version": 3
   },
   "file_extension": ".py",
   "mimetype": "text/x-python",
   "name": "python",
   "nbconvert_exporter": "python",
   "pygments_lexer": "ipython3",
   "version": "3.10.5"
  }
 },
 "nbformat": 4,
 "nbformat_minor": 5
}
