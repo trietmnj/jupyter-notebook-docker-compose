{
 "cells": [
  {
   "cell_type": "markdown",
   "id": "8101f63d-da96-45f1-9b42-a6536e1c7091",
   "metadata": {},
   "source": [
    "# Import the libraries\n",
    "\n",
    "To perform the classical machine-learning steps we use the tensorflow software package.\n",
    "\n",
    "Quantum circuits can be added as a layer to a tensorflow model by using the tensorflow-quantum software package.\n"
   ]
  },
  {
   "cell_type": "code",
   "execution_count": 1,
   "id": "c83b4fc9-1f8a-4ee0-8e84-25f4ebbf78b8",
   "metadata": {},
   "outputs": [],
   "source": [
    "import tensorflow as tf"
   ]
  },
  {
   "cell_type": "code",
   "execution_count": 2,
   "id": "42bcad04-dbc7-429e-9b05-a10ef2de1f31",
   "metadata": {},
   "outputs": [],
   "source": [
    "import importlib, pkg_resources\n",
    "importlib.reload(pkg_resources)\n",
    "\n",
    "import tensorflow as tf\n",
    "\n",
    "import cirq\n",
    "import sympy\n",
    "import numpy as np\n",
    "import seaborn as sns\n",
    "import collections\n",
    "\n",
    "import matplotlib.pyplot as plt\n",
    "from tensorflow import keras\n",
    "from tensorflow.keras.models import Model\n",
    "from sklearn.metrics import accuracy_score, precision_score, recall_score\n",
    "from sklearn.model_selection import train_test_split\n",
    "from tensorflow.keras import layers, losses\n",
    "from tensorflow.keras import initializers\n",
    "\n",
    "import random\n",
    "import pickle\n",
    "import pandas as pd\n",
    "import cv2\n",
    "\n",
    "# visualization tools\n",
    "import matplotlib.pyplot as plt\n",
    "from cirq.contrib.svg import SVGCircuit\n",
    "\n",
    "\n",
    "\n",
    "\n"
   ]
  },
  {
   "cell_type": "markdown",
   "id": "9e51bb9f-5b7e-4c39-9289-f1bf880b511f",
   "metadata": {},
   "source": [
    "### Set the hyper-parameters\n",
    "\n",
    "For this example, we choose whether to use the unary amplitude encoding or the product state encoding, the PCA vs autoencoder compression and the number of qubits\n"
   ]
  },
  {
   "cell_type": "code",
   "execution_count": 3,
   "id": "061a8623-3d35-4df3-b366-2e25495d66e2",
   "metadata": {},
   "outputs": [],
   "source": [
    "unary_enc = False;\n",
    "PCA_enc=True;\n",
    "Nq=4;\n"
   ]
  },
  {
   "cell_type": "code",
   "execution_count": 4,
   "id": "52bfc0b8-b41d-4a74-b035-e8fed747235c",
   "metadata": {},
   "outputs": [
    {
     "name": "stdout",
     "output_type": "stream",
     "text": [
      "Number of original training examples: 60000\n",
      "Number of original test examples: 10000\n",
      "Number of filtered training examples: 12049\n",
      "Number of filtered test examples: 1968\n"
     ]
    }
   ],
   "source": [
    "(X_train, y_train), (X_test, y_test) = tf.keras.datasets.mnist.load_data()\n",
    "# Rescale the images from [0,255] to the [0.0,1.0] range.\n",
    "X_train, X_test = X_train[..., np.newaxis]/255.0, X_test[..., np.newaxis]/255.0\n",
    "\n",
    "print(\"Number of original training examples:\", len(X_train))\n",
    "print(\"Number of original test examples:\", len(X_test))\n",
    "\n",
    "def filter_36(x, y):\n",
    "    keep = (y == 3) | (y == 6)\n",
    "    x, y = x[keep], y[keep]\n",
    "    y = y == 3\n",
    "    return x,y\n",
    "\n",
    "X_train, y_train = filter_36(X_train, y_train)\n",
    "X_test, y_test = filter_36(X_test, y_test)\n",
    "\n",
    "print(\"Number of filtered training examples:\", len(X_train))\n",
    "print(\"Number of filtered test examples:\", len(X_test))"
   ]
  },
  {
   "cell_type": "code",
   "execution_count": 5,
   "id": "820d3841-7978-4822-a8db-f34db54962c1",
   "metadata": {},
   "outputs": [
    {
     "data": {
      "text/plain": [
       "(12049, 28, 28, 1)"
      ]
     },
     "execution_count": 5,
     "metadata": {},
     "output_type": "execute_result"
    }
   ],
   "source": [
    "X_train.shape"
   ]
  },
  {
   "cell_type": "code",
   "execution_count": 6,
   "id": "32d4f615-6b52-444a-a470-674ed321cdd5",
   "metadata": {},
   "outputs": [
    {
     "data": {
      "text/plain": [
       "<matplotlib.image.AxesImage at 0x7fbccb755fd0>"
      ]
     },
     "execution_count": 6,
     "metadata": {},
     "output_type": "execute_result"
    },
    {
     "data": {
      "image/png": "[encoded data removed]",
      "text/plain": [
       "<Figure size 432x288 with 1 Axes>"
      ]
     },
     "metadata": {
      "needs_background": "light"
     },
     "output_type": "display_data"
    }
   ],
   "source": [
    "plt.imshow(X_test[0],cmap='gray')"
   ]
  },
  {
   "cell_type": "code",
   "execution_count": 7,
   "id": "9b97fdec-8e57-4b77-85cf-cebc0ce5af1e",
   "metadata": {},
   "outputs": [
    {
     "data": {
      "text/plain": [
       "<matplotlib.image.AxesImage at 0x7fbca60bf860>"
      ]
     },
     "execution_count": 7,
     "metadata": {},
     "output_type": "execute_result"
    },
    {
     "data": {
      "image/png": "[encoded data removed]",
      "text/plain": [
       "<Figure size 432x288 with 1 Axes>"
      ]
     },
     "metadata": {
      "needs_background": "light"
     },
     "output_type": "display_data"
    }
   ],
   "source": [
    "plt.imshow(X_test[1],cmap='gray')"
   ]
  },
  {
   "cell_type": "markdown",
   "id": "788dfbd7-96de-450c-880c-7530191ec11c",
   "metadata": {},
   "source": [
    "<br> <br> <br> \n",
    "## Compress the Data Using the PCA compression scheme.  Load the compressed data into a quantum circuit"
   ]
  },
  {
   "cell_type": "code",
   "execution_count": 8,
   "id": "578bf76e-b109-4123-bbe7-ef938121a940",
   "metadata": {},
   "outputs": [
    {
     "name": "stdout",
     "output_type": "stream",
     "text": [
      "Number of filtered training examples: 12049\n",
      "Number of filtered test examples: 1968\n"
     ]
    },
    {
     "name": "stderr",
     "output_type": "stream",
     "text": [
      "2022-08-17 08:27:48.820303: I tensorflow/core/platform/cpu_feature_guard.cc:151] This TensorFlow binary is optimized with oneAPI Deep Neural Network Library (oneDNN) to use the following CPU instructions in performance-critical operations:  AVX2 FMA\n",
      "To enable them in other operations, rebuild TensorFlow with the appropriate compiler flags.\n"
     ]
    },
    {
     "name": "stdout",
     "output_type": "stream",
     "text": [
      "New datapoint dimension: 4\n"
     ]
    }
   ],
   "source": [
    "print(\"Number of filtered training examples:\", len(X_train))\n",
    "print(\"Number of filtered test examples:\", len(X_test))\n",
    "\n",
    "\n",
    "#Apply Principle Component Analysis\n",
    "def truncate_x(x_train, x_test, n_components=16):\n",
    "\n",
    "  #Perform PCA on image dataset keeping the top `n_components` components\n",
    "  n_points_train = tf.gather(tf.shape(x_train), 0)\n",
    "  n_points_test = tf.gather(tf.shape(x_test), 0)\n",
    "\n",
    "  # Flatten to 1D\n",
    "  x_train = tf.reshape(x_train, [n_points_train, -1])\n",
    "  x_test = tf.reshape(x_test, [n_points_test, -1])\n",
    "\n",
    "  # Normalize.\n",
    "  feature_mean = tf.reduce_mean(x_train, axis=0)\n",
    "  x_train_normalized = x_train - feature_mean\n",
    "  x_test_normalized = x_test - feature_mean\n",
    "\n",
    "  # Truncate.\n",
    "  e_values, e_vectors = tf.linalg.eigh(\n",
    "      tf.einsum('ji,jk->ik', x_train_normalized, x_train_normalized))\n",
    "  return tf.einsum('ij,jk->ik', x_train_normalized, e_vectors[:,-n_components:]), \\\n",
    "    tf.einsum('ij,jk->ik', x_test_normalized, e_vectors[:, -n_components:])\n",
    "\n",
    "DATASET_DIM = Nq\n",
    "X_train_pc, X_test_pc = truncate_x(X_train, X_test, n_components=DATASET_DIM)\n",
    "\n",
    "X_train_pc = np.array(X_train_pc)-0.0*np.min(X_train_pc)\n",
    "X_test_pc = np.array(X_test_pc)-0.0*np.min(X_train_pc)\n",
    "print(f'New datapoint dimension:', len(X_train_pc[0]))\n",
    "\n",
    "\n"
   ]
  },
  {
   "cell_type": "code",
   "execution_count": 9,
   "id": "d4f1f62d-e439-4c4c-9e4d-cf08bcfb3f8b",
   "metadata": {},
   "outputs": [
    {
     "data": {
      "text/plain": [
       "<matplotlib.image.AxesImage at 0x7fbcab7de278>"
      ]
     },
     "execution_count": 9,
     "metadata": {},
     "output_type": "execute_result"
    },
    {
     "data": {
      "image/png": "[encoded data removed]",
      "text/plain": [
       "<Figure size 1440x360 with 3 Axes>"
      ]
     },
     "metadata": {
      "needs_background": "light"
     },
     "output_type": "display_data"
    }
   ],
   "source": [
    "plt.subplots(figsize=(20,5))\n",
    "ax = plt.subplot(3, 1,  1)\n",
    "plt.imshow((X_train_pc[int(0)].reshape(1,Nq)), cmap='viridis')\n",
    "ax = plt.subplot(3, 1,  2)\n",
    "plt.imshow((X_train_pc[int(100)].reshape(1,Nq)), cmap='viridis')\n",
    "ax = plt.subplot(3, 1,  3)\n",
    "plt.imshow((X_train_pc[int(2000)].reshape(1,Nq)), cmap='viridis')"
   ]
  },
  {
   "cell_type": "markdown",
   "id": "f7fe185b-53a0-49f8-a1aa-9984398f0306",
   "metadata": {},
   "source": [
    "<br> <br> \n",
    "## Convert the Dimensionally Reduced Data to \"Quantum Data\""
   ]
  },
  {
   "cell_type": "code",
   "execution_count": 10,
   "id": "9e2e3d0f-ca38-4527-be95-3955073bbf04",
   "metadata": {},
   "outputs": [],
   "source": [
    "def convert_to_product_circuit(image):\n",
    "    \"\"\"Encode truncated classical image into quantum datapoint.\"\"\"\n",
    "    values = np.ndarray.flatten(image)/np.max(np.abs(image))\n",
    "    qubits = cirq.LineQubit.range(Nq)\n",
    "    circuit = cirq.Circuit()\n",
    "    for i, value in enumerate(values):\n",
    "            circuit.append(cirq.ry(value*np.pi/2.0).on(qubits[i]))\n",
    "    return circuit\n",
    "\n",
    "\n",
    "\n",
    "\n",
    "def RBS(circuit, qubits, i, j, theta):\n",
    "    circuit.append(cirq.H(qubits[j]))\n",
    "    circuit.append(cirq.H(qubits[i]))\n",
    "    circuit.append(cirq.CZ(qubits[j],qubits[i]))\n",
    "    circuit.append(cirq.ry(theta/2.0).on(qubits[i]))\n",
    "    circuit.append(cirq.ry(-theta/2.0).on(qubits[j]))\n",
    "    circuit.append(cirq.CZ(qubits[j],qubits[i]))\n",
    "    circuit.append(cirq.H(qubits[j]))\n",
    "    circuit.append(cirq.H(qubits[i]))\n",
    "\n",
    "\n",
    "def convert_to_unary_amp_circuit(image):\n",
    "    \"\"\"Encode truncated classical image into quantum datapoint.\"\"\"\n",
    "    values = np.ndarray.flatten(image)\n",
    "    qubits = cirq.GridQubit.rect(Nq, 1)\n",
    "    circuit = cirq.Circuit()\n",
    "\n",
    "    d=len(values)\n",
    "    d2=int(len(values)/2)\n",
    "    r=[0]*(d-1)\n",
    "    angle=[0]*d\n",
    "\n",
    "\n",
    "    for j in range(1,d2+1):\n",
    "        r[d2+j-2] = (values[2*j-1]**2.0 + values[2*j-1-1]**2.0)**0.5+1e-10;\n",
    "\n",
    "    for j in range(d2-1,0,-1):\n",
    "        r[j-1] = (r[2*j]**2.0 + r[2*j-1]**2.0)**0.5 + 1e-10\n",
    "\n",
    "    for j in range(1,d2+1):\n",
    "        if(values[2*j-1]>0):\n",
    "            angle[d2+j-2] = np.arccos(values[2*j-2]/r[d2+j-2]);\n",
    "        else:\n",
    "            angle[d2+j-2] = 2*np.pi - np.arccos(values[2*j-2]/r[d2+j-2]);\n",
    "\n",
    "    for j in range(1,d2):\n",
    "        angle[j-1] = np.arccos(r[2*j-1]/r[j-1]);\n",
    "\n",
    "    circuit.append(cirq.X(qubits[0]))\n",
    "\n",
    "\n",
    "\n",
    "    for j in range(int(np.log2(d))):\n",
    "        for k in range(2**j):\n",
    "            s1 = d/(2**j)*k\n",
    "            s2 = d/(2**(j+1))\n",
    "            #iRBS(circuit, int(s1), int(s1+s2), angle[2**(j)+k-1])\n",
    "            RBS(circuit, qubits, int(s1), int(s1+s2), angle[2**(j)+k-1]*2.0)\n",
    "            #circuit.append(cirq.ops.PhasedFSimGate(angle[2**j +k-1],chi=np.pi/2.0).on(qubits[int(s1)],qubits[int(s1+s2)]))\n",
    "\n",
    "\n",
    "    return circuit\n",
    "\n"
   ]
  },
  {
   "cell_type": "markdown",
   "id": "9f6c0c68-f28b-4892-9daa-95ab148efdda",
   "metadata": {},
   "source": [
    "### Visualize the Loading Circuits"
   ]
  },
  {
   "cell_type": "code",
   "execution_count": 11,
   "id": "a020b364-2a06-4752-a9b9-5f96001312ff",
   "metadata": {},
   "outputs": [
    {
     "data": {
      "text/html": [
       "<pre style=\"overflow: auto; white-space: pre;\">(0, 0): ───X───H───@───Ry(0.25π)────@───H───H───@───Ry(1.3π)─────@───H───\n",
       "                   │                │           │                │\n",
       "(1, 0): ───H───────┼────────────────┼───────────@───Ry(-1.3π)────@───H───\n",
       "                   │                │\n",
       "(2, 0): ───H───────@───Ry(-0.25π)───@───H───H───@───Ry(1.57π)────@───H───\n",
       "                                                │                │\n",
       "(3, 0): ───H────────────────────────────────────@───Ry(-1.57π)───@───H───</pre>"
      ],
      "text/plain": [
       "(0, 0): ───X───H───@───Ry(0.25π)────@───H───H───@───Ry(1.3π)─────@───H───\n",
       "                   │                │           │                │\n",
       "(1, 0): ───H───────┼────────────────┼───────────@───Ry(-1.3π)────@───H───\n",
       "                   │                │\n",
       "(2, 0): ───H───────@───Ry(-0.25π)───@───H───H───@───Ry(1.57π)────@───H───\n",
       "                                                │                │\n",
       "(3, 0): ───H────────────────────────────────────@───Ry(-1.57π)───@───H───"
      ]
     },
     "execution_count": 11,
     "metadata": {},
     "output_type": "execute_result"
    }
   ],
   "source": [
    "convert_to_unary_amp_circuit(X_train_pc[0])"
   ]
  },
  {
   "cell_type": "markdown",
   "id": "652b6995-f703-483e-841e-0646f7080a6b",
   "metadata": {},
   "source": [
    "### Output the Wavefunction corresponding to the loaded data\n",
    "Note that the wave-function on N qubits is a 2^N vector.  With the amplitude encoding, only N of the entries are nonzero.\n",
    "\n",
    "In general, the advantage from Quantum ML comes from the ability to manipulate vectors in an exponentially large vector space."
   ]
  },
  {
   "cell_type": "code",
   "execution_count": 12,
   "id": "1e1ee797-f0df-409f-9a69-16e392ba2d29",
   "metadata": {},
   "outputs": [
    {
     "name": "stdout",
     "output_type": "stream",
     "text": [
      "4D Image Data: \t \t [-0.4109 -0.5746  0.1515 -0.6914] \n",
      "\n",
      "2^4-D wavefunction: \n",
      " [ 0.    +0.j -0.6914+0.j  0.1515+0.j -0.    +0.j -0.5746+0.j -0.    +0.j\n",
      "  0.    +0.j -0.    +0.j -0.4109+0.j -0.    +0.j  0.    +0.j  0.    +0.j\n",
      "  0.    +0.j -0.    +0.j -0.    +0.j -0.    +0.j]\n"
     ]
    }
   ],
   "source": [
    "cirq_simulator = cirq.Simulator()\n",
    "final_state_vector = cirq_simulator.simulate(convert_to_unary_amp_circuit(X_train_pc[0])).final_state_vector\n",
    "np.set_printoptions(precision=4,suppress=True)\n",
    "print(\"4D Image Data: \\t \\t\", X_train_pc[0]/np.linalg.norm(X_train_pc[0]),'\\n')\n",
    "print(\"2^4-D wavefunction:\" ,'\\n', final_state_vector)"
   ]
  },
  {
   "cell_type": "markdown",
   "id": "d0273cda-e92e-4cdd-990e-f809b38c8a54",
   "metadata": {},
   "source": [
    "#### Look at the circuit and the output wavefunction for the product state encoding"
   ]
  },
  {
   "cell_type": "code",
   "execution_count": 13,
   "id": "349d8a1f-afc8-4c06-a162-9fbd43c2e258",
   "metadata": {},
   "outputs": [
    {
     "data": {
      "text/html": [
       "<pre style=\"overflow: auto; white-space: pre;\">0: ───Ry(-0.297π)───\n",
       "\n",
       "1: ───Ry(-0.416π)───\n",
       "\n",
       "2: ───Ry(0.11π)─────\n",
       "\n",
       "3: ───Ry(-0.5π)─────</pre>"
      ],
      "text/plain": [
       "0: ───Ry(-0.297π)───\n",
       "\n",
       "1: ───Ry(-0.416π)───\n",
       "\n",
       "2: ───Ry(0.11π)─────\n",
       "\n",
       "3: ───Ry(-0.5π)─────"
      ]
     },
     "execution_count": 13,
     "metadata": {},
     "output_type": "execute_result"
    }
   ],
   "source": [
    "convert_to_product_circuit(X_train_pc[0])"
   ]
  },
  {
   "cell_type": "code",
   "execution_count": 14,
   "id": "7a9ecf03-688d-41c7-adac-7b1f9399df35",
   "metadata": {},
   "outputs": [
    {
     "name": "stdout",
     "output_type": "stream",
     "text": [
      "2^4-D wavefunction: \n",
      " [ 0.4942+0.j -0.4942+0.j  0.0859+0.j -0.0859+0.j -0.3779+0.j  0.3779-0.j\n",
      " -0.0657+0.j  0.0657-0.j -0.249 +0.j  0.249 -0.j -0.0433+0.j  0.0433-0.j\n",
      "  0.1904+0.j -0.1904+0.j  0.0331+0.j -0.0331+0.j]\n"
     ]
    }
   ],
   "source": [
    "final_state_vector = cirq_simulator.simulate(convert_to_product_circuit(X_train_pc[0])).final_state_vector\n",
    "print(\"2^4-D wavefunction:\" ,'\\n', final_state_vector)"
   ]
  },
  {
   "cell_type": "markdown",
   "id": "7a03cb9d-0770-4f82-8204-8ab16fb0c6c6",
   "metadata": {},
   "source": [
    "# Create the Quantum CNN Circuit\n",
    "\n",
    "To accomplish this, first we define the basic one and two-qubit unitary gates "
   ]
  },
  {
   "cell_type": "code",
   "execution_count": 15,
   "id": "66702035-8516-41f4-beab-934ad328fb8f",
   "metadata": {},
   "outputs": [],
   "source": [
    "#Create training circuit\n",
    "\n",
    "def one_qubit_unitary(bit, symbols):\n",
    "    \"\"\"Make a Cirq circuit enacting a rotation of the bloch sphere about the X,\n",
    "    Y and Z axis, that depends on the values in `symbols`.\n",
    "    \"\"\"\n",
    "    return cirq.Circuit(\n",
    "        cirq.X(bit)**symbols[0],\n",
    "        cirq.Y(bit)**symbols[1],\n",
    "        cirq.Z(bit)**symbols[2]\n",
    "        )\n",
    "\n",
    "\n",
    "def two_qubit_unitary(bits, symbols):\n",
    "    \"\"\"Make a Cirq circuit that creates an arbitrary two qubit unitary.\"\"\"\n",
    "    circuit = cirq.Circuit()\n",
    "    circuit += [cirq.Z(bits[1])**symbols[12]]\n",
    "    circuit += [cirq.CNOT(bits[0],bits[1])]\n",
    "    circuit += one_qubit_unitary(bits[0], symbols[0:3])\n",
    "    circuit += one_qubit_unitary(bits[1], symbols[3:6])\n",
    "    circuit += [cirq.CNOT(bits[0],bits[1])]\n",
    "    circuit += [cirq.X(bits[0])**symbols[13]]\n",
    "    circuit += [cirq.Z(bits[1])**symbols[14]]\n",
    "    circuit += [cirq.CNOT(bits[0],bits[1])]\n",
    "    circuit += one_qubit_unitary(bits[0], symbols[6:9])\n",
    "    circuit += one_qubit_unitary(bits[1], symbols[9:12])\n",
    "    \n",
    "    return circuit\n",
    "\n"
   ]
  },
  {
   "cell_type": "code",
   "execution_count": 16,
   "id": "91718d15-3450-4534-9ac4-34bdd7bb7bf7",
   "metadata": {},
   "outputs": [
    {
     "data": {
      "text/html": [
       "<pre style=\"overflow: auto; white-space: pre;\">0: ───X^a0───Y^a1───Z^a2───</pre>"
      ],
      "text/plain": [
       "0: ───X^a0───Y^a1───Z^a2───"
      ]
     },
     "execution_count": 16,
     "metadata": {},
     "output_type": "execute_result"
    }
   ],
   "source": [
    "state_bits = cirq.LineQubit.range(1)\n",
    "sym3 = sympy.symbols('a0:3')\n",
    "one_qubit_unitary(state_bits[0],sym3)"
   ]
  },
  {
   "cell_type": "code",
   "execution_count": 17,
   "id": "2d6aa88f-53bb-4bd5-b364-5f89dc2e3668",
   "metadata": {},
   "outputs": [
    {
     "data": {
      "text/html": [
       "<pre style=\"overflow: auto; white-space: pre;\">0: ───────────@───X^a0───Y^a1───Z^a2────────────────────────@───X^a13───@───X^a6───Y^a7───Z^a8──────────────────────────\n",
       "              │                                             │           │\n",
       "1: ───Z^a12───X────────────────────────X^a3───Y^a4───Z^a5───X───Z^a14───X────────────────────────X^a9───Y^a10───Z^a11───</pre>"
      ],
      "text/plain": [
       "0: ───────────@───X^a0───Y^a1───Z^a2────────────────────────@───X^a13───@───X^a6───Y^a7───Z^a8──────────────────────────\n",
       "              │                                             │           │\n",
       "1: ───Z^a12───X────────────────────────X^a3───Y^a4───Z^a5───X───Z^a14───X────────────────────────X^a9───Y^a10───Z^a11───"
      ]
     },
     "execution_count": 17,
     "metadata": {},
     "output_type": "execute_result"
    }
   ],
   "source": [
    "state_bits = cirq.LineQubit.range(2)\n",
    "sym3 = sympy.symbols('a0:15')\n",
    "two_qubit_unitary(state_bits,sym3)"
   ]
  },
  {
   "cell_type": "markdown",
   "id": "8b501a89-7a60-4487-ac53-e10d5b69adf7",
   "metadata": {},
   "source": [
    "## Define Functions to Create the qCNN\n",
    "\n",
    "Here we organize the one and two qubit unitary operators into the quantum CNN architecture. \n",
    "\n",
    "We define the number of layers we apply, the number of unitaries gates per layer, and the connectivity between the different unitary gates."
   ]
  },
  {
   "cell_type": "code",
   "execution_count": 18,
   "id": "d95028a8-e4df-451c-aaf1-88b8f10dc94d",
   "metadata": {},
   "outputs": [],
   "source": [
    "def quantum_conv_circuit(bits, symbols, last):\n",
    "    \"\"\"Quantum Convolution Layer following the above diagram.\n",
    "    Return a Cirq circuit with the cascade of `two_qubit_unitary` applied\n",
    "    to all pairs of qubits in `bits` as in the diagram above.\n",
    "    \"\"\"\n",
    "    circuit = cirq.Circuit()\n",
    "    for first, second in zip(bits[0::2], bits[1::2]):\n",
    "        circuit += two_qubit_unitary([first, second], symbols)\n",
    "    if(last==False):\n",
    "        for first, second in zip(bits[1::2], bits[2::2] + [bits[0]]):\n",
    "            circuit += two_qubit_unitary([first, second], symbols)\n",
    "            \n",
    "    return circuit\n",
    "\n",
    "\n",
    "\n",
    "def create_model_circuit(qubits):\n",
    "    \"\"\"Create sequence of alternating convolution and pooling operators\n",
    "    which gradually shrink over time.\"\"\"\n",
    "    model_circuit = cirq.Circuit()\n",
    "    symbols = sympy.symbols('qconv0:60')\n",
    "    # Cirq uses sympy.Symbols to map learnable variables. TensorFlow Quantum\n",
    "    # scans incoming circuits and replaces these with TensorFlow variables.\n",
    "    model_circuit += quantum_conv_circuit(qubits, symbols[0:15],False)\n",
    "\n",
    "    if(Nq==4):\n",
    "        model_circuit += quantum_conv_circuit(qubits[::2], symbols[15:30],True)\n",
    "    else:\n",
    "        model_circuit += quantum_conv_circuit(qubits[::2], symbols[15:30],False)\n",
    "\n",
    "    if(Nq>4):\n",
    "        model_circuit += quantum_conv_circuit(qubits[::4], symbols[30:45],True)\n",
    "    if(Nq>8):\n",
    "        model_circuit += quantum_conv_circuit(qubits[::8], symbols[45:60],True)\n",
    "    \n",
    "    return model_circuit\n",
    "\n"
   ]
  },
  {
   "cell_type": "markdown",
   "id": "05be4c50-dcd4-4139-afcc-4d054aac60a5",
   "metadata": {},
   "source": [
    "## Define the qCNN circuit as a Tensorflow model\n",
    "\n",
    "We pass the quntum circuit in to the PQC object, and initialize the rotation angles in our circuit.  "
   ]
  },
  {
   "cell_type": "code",
   "execution_count": 19,
   "id": "636f1aaa-c089-4e59-a349-670fe58d3687",
   "metadata": {
    "tags": []
   },
   "outputs": [],
   "source": [
    "##We define the hinge-accuracy by converting category labels to +/- 1\n",
    "##This allows us to simply use the <Z> expectation value as a classifier\n",
    "\n",
    "state_bits = cirq.LineQubit.range(Nq)\n",
    "readout_operators = [cirq.Z(state_bits[0])]\n",
    "\n",
    "model_circuit = create_model_circuit(state_bits)\n"
   ]
  },
  {
   "cell_type": "code",
   "execution_count": 20,
   "id": "3b84fd8a-d1d9-43ac-a12c-1fbc343da268",
   "metadata": {},
   "outputs": [],
   "source": [
    "from cirq.contrib.svg import SVGCircuit\n"
   ]
  },
  {
   "cell_type": "code",
   "execution_count": 21,
   "id": "5ba8f06f-78d6-41d3-a12c-0db56093e16e",
   "metadata": {},
   "outputs": [
    {
     "data": {
      "image/svg+xml": [
       "<svg xmlns=\"http://www.w3.org/2000/svg\" width=\"7511.349414062501\" height=\"200.0\"><line x1=\"30.0\" x2=\"7481.349414062501\" y1=\"25.0\" y2=\"25.0\" stroke=\"#1967d2\" stroke-width=\"1\" /><line x1=\"30.0\" x2=\"7481.349414062501\" y1=\"75.0\" y2=\"75.0\" stroke=\"#1967d2\" stroke-width=\"1\" /><line x1=\"30.0\" x2=\"7481.349414062501\" y1=\"125.0\" y2=\"125.0\" stroke=\"#1967d2\" stroke-width=\"1\" /><line x1=\"30.0\" x2=\"7481.349414062501\" y1=\"175.0\" y2=\"175.0\" stroke=\"#1967d2\" stroke-width=\"1\" /><line x1=\"187.03375\" x2=\"187.03375\" y1=\"25.0\" y2=\"75.0\" stroke=\"black\" stroke-width=\"3\" /><line x1=\"785.154296875\" x2=\"785.154296875\" y1=\"25.0\" y2=\"75.0\" stroke=\"black\" stroke-width=\"3\" /><line x1=\"943.2957421875\" x2=\"943.2957421875\" y1=\"25.0\" y2=\"75.0\" stroke=\"black\" stroke-width=\"3\" /><line x1=\"1653.0926171874999\" x2=\"1653.0926171874999\" y1=\"125.0\" y2=\"175.0\" stroke=\"black\" stroke-width=\"3\" /><line x1=\"2251.2131640625003\" x2=\"2251.2131640625003\" y1=\"125.0\" y2=\"175.0\" stroke=\"black\" stroke-width=\"3\" /><line x1=\"2409.354609375\" x2=\"2409.354609375\" y1=\"125.0\" y2=\"175.0\" stroke=\"black\" stroke-width=\"3\" /><line x1=\"3119.1514843750006\" x2=\"3119.1514843750006\" y1=\"75.0\" y2=\"125.0\" stroke=\"black\" stroke-width=\"3\" /><line x1=\"3717.2720312500005\" x2=\"3717.2720312500005\" y1=\"75.0\" y2=\"125.0\" stroke=\"black\" stroke-width=\"3\" /><line x1=\"3875.4134765625004\" x2=\"3875.4134765625004\" y1=\"75.0\" y2=\"125.0\" stroke=\"black\" stroke-width=\"3\" /><line x1=\"4585.2103515625\" x2=\"4585.2103515625\" y1=\"25.0\" y2=\"175.0\" stroke=\"black\" stroke-width=\"3\" /><line x1=\"5183.3308984375\" x2=\"5183.3308984375\" y1=\"25.0\" y2=\"175.0\" stroke=\"black\" stroke-width=\"3\" /><line x1=\"5341.47234375\" x2=\"5341.47234375\" y1=\"25.0\" y2=\"175.0\" stroke=\"black\" stroke-width=\"3\" /><line x1=\"6051.37203125\" x2=\"6051.37203125\" y1=\"25.0\" y2=\"125.0\" stroke=\"black\" stroke-width=\"3\" /><line x1=\"6698.3225\" x2=\"6698.3225\" y1=\"25.0\" y2=\"125.0\" stroke=\"black\" stroke-width=\"3\" /><line x1=\"6856.4836328125\" x2=\"6856.4836328125\" y1=\"25.0\" y2=\"125.0\" stroke=\"black\" stroke-width=\"3\" /><rect x=\"10.0\" y=\"5.0\" width=\"40\" height=\"40\" stroke=\"black\" fill=\"white\" stroke-width=\"0\" /><text x=\"30.0\" y=\"25.0\" dominant-baseline=\"middle\" text-anchor=\"middle\" font-size=\"14px\" font-family=\"Arial\">0: </text><rect x=\"10.0\" y=\"55.0\" width=\"40\" height=\"40\" stroke=\"black\" fill=\"white\" stroke-width=\"0\" /><text x=\"30.0\" y=\"75.0\" dominant-baseline=\"middle\" text-anchor=\"middle\" font-size=\"14px\" font-family=\"Arial\">1: </text><rect x=\"10.0\" y=\"105.0\" width=\"40\" height=\"40\" stroke=\"black\" fill=\"white\" stroke-width=\"0\" /><text x=\"30.0\" y=\"125.0\" dominant-baseline=\"middle\" text-anchor=\"middle\" font-size=\"14px\" font-family=\"Arial\">2: </text><rect x=\"10.0\" y=\"155.0\" width=\"40\" height=\"40\" stroke=\"black\" fill=\"white\" stroke-width=\"0\" /><text x=\"30.0\" y=\"175.0\" dominant-baseline=\"middle\" text-anchor=\"middle\" font-size=\"14px\" font-family=\"Arial\">3: </text><rect x=\"70.0\" y=\"55.0\" width=\"77.03375000000001\" height=\"40\" stroke=\"black\" fill=\"white\" stroke-width=\"1\" /><text x=\"108.516875\" y=\"75.0\" dominant-baseline=\"middle\" text-anchor=\"middle\" font-size=\"14px\" font-family=\"Arial\">Z^qconv12</text><circle cx=\"187.03375\" cy=\"25.0\" r=\"10.0\" /><rect x=\"167.03375\" y=\"55.0\" width=\"40\" height=\"40\" stroke=\"black\" fill=\"white\" stroke-width=\"1\" /><text x=\"187.03375\" y=\"75.0\" dominant-baseline=\"middle\" text-anchor=\"middle\" font-size=\"18px\" font-family=\"Arial\">X</text><rect x=\"227.03375\" y=\"5.0\" width=\"70.3203125\" height=\"40\" stroke=\"black\" fill=\"white\" stroke-width=\"1\" /><text x=\"262.19390625\" y=\"25.0\" dominant-baseline=\"middle\" text-anchor=\"middle\" font-size=\"14px\" font-family=\"Arial\">X^qconv0</text><rect x=\"317.3540625\" y=\"5.0\" width=\"68.4390625\" height=\"40\" stroke=\"black\" fill=\"white\" stroke-width=\"1\" /><text x=\"351.57359375\" y=\"25.0\" dominant-baseline=\"middle\" text-anchor=\"middle\" font-size=\"14px\" font-family=\"Arial\">Y^qconv1</text><rect x=\"405.79312500000003\" y=\"5.0\" width=\"69.2476171875\" height=\"40\" stroke=\"black\" fill=\"white\" stroke-width=\"1\" /><text x=\"440.41693359375006\" y=\"25.0\" dominant-baseline=\"middle\" text-anchor=\"middle\" font-size=\"14px\" font-family=\"Arial\">Z^qconv2</text><rect x=\"495.04074218750003\" y=\"55.0\" width=\"70.3553125\" height=\"40\" stroke=\"black\" fill=\"white\" stroke-width=\"1\" /><text x=\"530.2183984375\" y=\"75.0\" dominant-baseline=\"middle\" text-anchor=\"middle\" font-size=\"14px\" font-family=\"Arial\">X^qconv3</text><rect x=\"585.3960546875\" y=\"55.0\" width=\"70.3334375\" height=\"40\" stroke=\"black\" fill=\"white\" stroke-width=\"1\" /><text x=\"620.5627734375\" y=\"75.0\" dominant-baseline=\"middle\" text-anchor=\"middle\" font-size=\"14px\" font-family=\"Arial\">Y^qconv4</text><rect x=\"675.7294921875\" y=\"55.0\" width=\"69.4248046875\" height=\"40\" stroke=\"black\" fill=\"white\" stroke-width=\"1\" /><text x=\"710.44189453125\" y=\"75.0\" dominant-baseline=\"middle\" text-anchor=\"middle\" font-size=\"14px\" font-family=\"Arial\">Z^qconv5</text><circle cx=\"785.154296875\" cy=\"25.0\" r=\"10.0\" /><rect x=\"765.154296875\" y=\"55.0\" width=\"40\" height=\"40\" stroke=\"black\" fill=\"white\" stroke-width=\"1\" /><text x=\"785.154296875\" y=\"75.0\" dominant-baseline=\"middle\" text-anchor=\"middle\" font-size=\"18px\" font-family=\"Arial\">X</text><rect x=\"825.154296875\" y=\"5.0\" width=\"78.14144531250001\" height=\"40\" stroke=\"black\" fill=\"white\" stroke-width=\"1\" /><text x=\"864.22501953125\" y=\"25.0\" dominant-baseline=\"middle\" text-anchor=\"middle\" font-size=\"14px\" font-family=\"Arial\">X^qconv13</text><rect x=\"825.154296875\" y=\"55.0\" width=\"78.14144531250001\" height=\"40\" stroke=\"black\" fill=\"white\" stroke-width=\"1\" /><text x=\"864.22501953125\" y=\"75.0\" dominant-baseline=\"middle\" text-anchor=\"middle\" font-size=\"14px\" font-family=\"Arial\">Z^qconv14</text><circle cx=\"943.2957421875\" cy=\"25.0\" r=\"10.0\" /><rect x=\"923.2957421875\" y=\"55.0\" width=\"40\" height=\"40\" stroke=\"black\" fill=\"white\" stroke-width=\"1\" /><text x=\"943.2957421875\" y=\"75.0\" dominant-baseline=\"middle\" text-anchor=\"middle\" font-size=\"18px\" font-family=\"Arial\">X</text><rect x=\"983.2957421874999\" y=\"5.0\" width=\"70.34875\" height=\"40\" stroke=\"black\" fill=\"white\" stroke-width=\"1\" /><text x=\"1018.4701171874999\" y=\"25.0\" dominant-baseline=\"middle\" text-anchor=\"middle\" font-size=\"14px\" font-family=\"Arial\">X^qconv6</text><rect x=\"1073.6444921875\" y=\"5.0\" width=\"70.375\" height=\"40\" stroke=\"black\" fill=\"white\" stroke-width=\"1\" /><text x=\"1108.8319921875\" y=\"25.0\" dominant-baseline=\"middle\" text-anchor=\"middle\" font-size=\"14px\" font-family=\"Arial\">Y^qconv7</text><rect x=\"1164.0194921875\" y=\"5.0\" width=\"69.3701171875\" height=\"40\" stroke=\"black\" fill=\"white\" stroke-width=\"1\" /><text x=\"1198.70455078125\" y=\"25.0\" dominant-baseline=\"middle\" text-anchor=\"middle\" font-size=\"14px\" font-family=\"Arial\">Z^qconv8</text><rect x=\"1253.389609375\" y=\"55.0\" width=\"70.375\" height=\"40\" stroke=\"black\" fill=\"white\" stroke-width=\"1\" /><text x=\"1288.577109375\" y=\"75.0\" dominant-baseline=\"middle\" text-anchor=\"middle\" font-size=\"14px\" font-family=\"Arial\">X^qconv9</text><rect x=\"1343.764609375\" y=\"55.0\" width=\"78.1261328125\" height=\"40\" stroke=\"black\" fill=\"white\" stroke-width=\"1\" /><text x=\"1382.82767578125\" y=\"75.0\" dominant-baseline=\"middle\" text-anchor=\"middle\" font-size=\"14px\" font-family=\"Arial\">Y^qconv10</text><rect x=\"1441.8907421874999\" y=\"55.0\" width=\"74.168125\" height=\"40\" stroke=\"black\" fill=\"white\" stroke-width=\"1\" /><text x=\"1478.9748046875\" y=\"75.0\" dominant-baseline=\"middle\" text-anchor=\"middle\" font-size=\"14px\" font-family=\"Arial\">Z^qconv11</text><rect x=\"1536.0588671874998\" y=\"155.0\" width=\"77.03375000000001\" height=\"40\" stroke=\"black\" fill=\"white\" stroke-width=\"1\" /><text x=\"1574.5757421874998\" y=\"175.0\" dominant-baseline=\"middle\" text-anchor=\"middle\" font-size=\"14px\" font-family=\"Arial\">Z^qconv12</text><circle cx=\"1653.0926171874999\" cy=\"125.0\" r=\"10.0\" /><rect x=\"1633.0926171874999\" y=\"155.0\" width=\"40\" height=\"40\" stroke=\"black\" fill=\"white\" stroke-width=\"1\" /><text x=\"1653.0926171874999\" y=\"175.0\" dominant-baseline=\"middle\" text-anchor=\"middle\" font-size=\"18px\" font-family=\"Arial\">X</text><rect x=\"1693.0926171874999\" y=\"105.0\" width=\"70.3203125\" height=\"40\" stroke=\"black\" fill=\"white\" stroke-width=\"1\" /><text x=\"1728.2527734374999\" y=\"125.0\" dominant-baseline=\"middle\" text-anchor=\"middle\" font-size=\"14px\" font-family=\"Arial\">X^qconv0</text><rect x=\"1783.4129296874999\" y=\"105.0\" width=\"68.4390625\" height=\"40\" stroke=\"black\" fill=\"white\" stroke-width=\"1\" /><text x=\"1817.6324609375\" y=\"125.0\" dominant-baseline=\"middle\" text-anchor=\"middle\" font-size=\"14px\" font-family=\"Arial\">Y^qconv1</text><rect x=\"1871.8519921875\" y=\"105.0\" width=\"69.2476171875\" height=\"40\" stroke=\"black\" fill=\"white\" stroke-width=\"1\" /><text x=\"1906.47580078125\" y=\"125.0\" dominant-baseline=\"middle\" text-anchor=\"middle\" font-size=\"14px\" font-family=\"Arial\">Z^qconv2</text><rect x=\"1961.099609375\" y=\"155.0\" width=\"70.3553125\" height=\"40\" stroke=\"black\" fill=\"white\" stroke-width=\"1\" /><text x=\"1996.277265625\" y=\"175.0\" dominant-baseline=\"middle\" text-anchor=\"middle\" font-size=\"14px\" font-family=\"Arial\">X^qconv3</text><rect x=\"2051.454921875\" y=\"155.0\" width=\"70.3334375\" height=\"40\" stroke=\"black\" fill=\"white\" stroke-width=\"1\" /><text x=\"2086.621640625\" y=\"175.0\" dominant-baseline=\"middle\" text-anchor=\"middle\" font-size=\"14px\" font-family=\"Arial\">Y^qconv4</text><rect x=\"2141.7883593750003\" y=\"155.0\" width=\"69.4248046875\" height=\"40\" stroke=\"black\" fill=\"white\" stroke-width=\"1\" /><text x=\"2176.5007617187503\" y=\"175.0\" dominant-baseline=\"middle\" text-anchor=\"middle\" font-size=\"14px\" font-family=\"Arial\">Z^qconv5</text><circle cx=\"2251.2131640625003\" cy=\"125.0\" r=\"10.0\" /><rect x=\"2231.2131640625003\" y=\"155.0\" width=\"40\" height=\"40\" stroke=\"black\" fill=\"white\" stroke-width=\"1\" /><text x=\"2251.2131640625003\" y=\"175.0\" dominant-baseline=\"middle\" text-anchor=\"middle\" font-size=\"18px\" font-family=\"Arial\">X</text><rect x=\"2291.2131640625003\" y=\"105.0\" width=\"78.14144531250001\" height=\"40\" stroke=\"black\" fill=\"white\" stroke-width=\"1\" /><text x=\"2330.28388671875\" y=\"125.0\" dominant-baseline=\"middle\" text-anchor=\"middle\" font-size=\"14px\" font-family=\"Arial\">X^qconv13</text><rect x=\"2291.2131640625003\" y=\"155.0\" width=\"78.14144531250001\" height=\"40\" stroke=\"black\" fill=\"white\" stroke-width=\"1\" /><text x=\"2330.28388671875\" y=\"175.0\" dominant-baseline=\"middle\" text-anchor=\"middle\" font-size=\"14px\" font-family=\"Arial\">Z^qconv14</text><circle cx=\"2409.354609375\" cy=\"125.0\" r=\"10.0\" /><rect x=\"2389.354609375\" y=\"155.0\" width=\"40\" height=\"40\" stroke=\"black\" fill=\"white\" stroke-width=\"1\" /><text x=\"2409.354609375\" y=\"175.0\" dominant-baseline=\"middle\" text-anchor=\"middle\" font-size=\"18px\" font-family=\"Arial\">X</text><rect x=\"2449.354609375\" y=\"105.0\" width=\"70.34875\" height=\"40\" stroke=\"black\" fill=\"white\" stroke-width=\"1\" /><text x=\"2484.528984375\" y=\"125.0\" dominant-baseline=\"middle\" text-anchor=\"middle\" font-size=\"14px\" font-family=\"Arial\">X^qconv6</text><rect x=\"2539.703359375\" y=\"105.0\" width=\"70.375\" height=\"40\" stroke=\"black\" fill=\"white\" stroke-width=\"1\" /><text x=\"2574.890859375\" y=\"125.0\" dominant-baseline=\"middle\" text-anchor=\"middle\" font-size=\"14px\" font-family=\"Arial\">Y^qconv7</text><rect x=\"2630.078359375\" y=\"105.0\" width=\"69.3701171875\" height=\"40\" stroke=\"black\" fill=\"white\" stroke-width=\"1\" /><text x=\"2664.76341796875\" y=\"125.0\" dominant-baseline=\"middle\" text-anchor=\"middle\" font-size=\"14px\" font-family=\"Arial\">Z^qconv8</text><rect x=\"2719.4484765625\" y=\"155.0\" width=\"70.375\" height=\"40\" stroke=\"black\" fill=\"white\" stroke-width=\"1\" /><text x=\"2754.6359765625\" y=\"175.0\" dominant-baseline=\"middle\" text-anchor=\"middle\" font-size=\"14px\" font-family=\"Arial\">X^qconv9</text><rect x=\"2809.8234765625\" y=\"155.0\" width=\"78.1261328125\" height=\"40\" stroke=\"black\" fill=\"white\" stroke-width=\"1\" /><text x=\"2848.8865429687503\" y=\"175.0\" dominant-baseline=\"middle\" text-anchor=\"middle\" font-size=\"14px\" font-family=\"Arial\">Y^qconv10</text><rect x=\"2907.9496093750004\" y=\"155.0\" width=\"74.168125\" height=\"40\" stroke=\"black\" fill=\"white\" stroke-width=\"1\" /><text x=\"2945.0336718750004\" y=\"175.0\" dominant-baseline=\"middle\" text-anchor=\"middle\" font-size=\"14px\" font-family=\"Arial\">Z^qconv11</text><rect x=\"3002.1177343750005\" y=\"105.0\" width=\"77.03375000000001\" height=\"40\" stroke=\"black\" fill=\"white\" stroke-width=\"1\" /><text x=\"3040.6346093750003\" y=\"125.0\" dominant-baseline=\"middle\" text-anchor=\"middle\" font-size=\"14px\" font-family=\"Arial\">Z^qconv12</text><circle cx=\"3119.1514843750006\" cy=\"75.0\" r=\"10.0\" /><rect x=\"3099.1514843750006\" y=\"105.0\" width=\"40\" height=\"40\" stroke=\"black\" fill=\"white\" stroke-width=\"1\" /><text x=\"3119.1514843750006\" y=\"125.0\" dominant-baseline=\"middle\" text-anchor=\"middle\" font-size=\"18px\" font-family=\"Arial\">X</text><rect x=\"3159.1514843750006\" y=\"55.0\" width=\"70.3203125\" height=\"40\" stroke=\"black\" fill=\"white\" stroke-width=\"1\" /><text x=\"3194.3116406250006\" y=\"75.0\" dominant-baseline=\"middle\" text-anchor=\"middle\" font-size=\"14px\" font-family=\"Arial\">X^qconv0</text><rect x=\"3249.4717968750006\" y=\"55.0\" width=\"68.4390625\" height=\"40\" stroke=\"black\" fill=\"white\" stroke-width=\"1\" /><text x=\"3283.6913281250004\" y=\"75.0\" dominant-baseline=\"middle\" text-anchor=\"middle\" font-size=\"14px\" font-family=\"Arial\">Y^qconv1</text><rect x=\"3337.9108593750007\" y=\"55.0\" width=\"69.2476171875\" height=\"40\" stroke=\"black\" fill=\"white\" stroke-width=\"1\" /><text x=\"3372.5346679687505\" y=\"75.0\" dominant-baseline=\"middle\" text-anchor=\"middle\" font-size=\"14px\" font-family=\"Arial\">Z^qconv2</text><rect x=\"3427.1584765625007\" y=\"105.0\" width=\"70.3553125\" height=\"40\" stroke=\"black\" fill=\"white\" stroke-width=\"1\" /><text x=\"3462.3361328125006\" y=\"125.0\" dominant-baseline=\"middle\" text-anchor=\"middle\" font-size=\"14px\" font-family=\"Arial\">X^qconv3</text><rect x=\"3517.5137890625006\" y=\"105.0\" width=\"70.3334375\" height=\"40\" stroke=\"black\" fill=\"white\" stroke-width=\"1\" /><text x=\"3552.6805078125008\" y=\"125.0\" dominant-baseline=\"middle\" text-anchor=\"middle\" font-size=\"14px\" font-family=\"Arial\">Y^qconv4</text><rect x=\"3607.8472265625005\" y=\"105.0\" width=\"69.4248046875\" height=\"40\" stroke=\"black\" fill=\"white\" stroke-width=\"1\" /><text x=\"3642.5596289062505\" y=\"125.0\" dominant-baseline=\"middle\" text-anchor=\"middle\" font-size=\"14px\" font-family=\"Arial\">Z^qconv5</text><circle cx=\"3717.2720312500005\" cy=\"75.0\" r=\"10.0\" /><rect x=\"3697.2720312500005\" y=\"105.0\" width=\"40\" height=\"40\" stroke=\"black\" fill=\"white\" stroke-width=\"1\" /><text x=\"3717.2720312500005\" y=\"125.0\" dominant-baseline=\"middle\" text-anchor=\"middle\" font-size=\"18px\" font-family=\"Arial\">X</text><rect x=\"3757.2720312500005\" y=\"55.0\" width=\"78.14144531250001\" height=\"40\" stroke=\"black\" fill=\"white\" stroke-width=\"1\" /><text x=\"3796.3427539062504\" y=\"75.0\" dominant-baseline=\"middle\" text-anchor=\"middle\" font-size=\"14px\" font-family=\"Arial\">X^qconv13</text><rect x=\"3757.2720312500005\" y=\"105.0\" width=\"78.14144531250001\" height=\"40\" stroke=\"black\" fill=\"white\" stroke-width=\"1\" /><text x=\"3796.3427539062504\" y=\"125.0\" dominant-baseline=\"middle\" text-anchor=\"middle\" font-size=\"14px\" font-family=\"Arial\">Z^qconv14</text><circle cx=\"3875.4134765625004\" cy=\"75.0\" r=\"10.0\" /><rect x=\"3855.4134765625004\" y=\"105.0\" width=\"40\" height=\"40\" stroke=\"black\" fill=\"white\" stroke-width=\"1\" /><text x=\"3875.4134765625004\" y=\"125.0\" dominant-baseline=\"middle\" text-anchor=\"middle\" font-size=\"18px\" font-family=\"Arial\">X</text><rect x=\"3915.4134765625004\" y=\"55.0\" width=\"70.34875\" height=\"40\" stroke=\"black\" fill=\"white\" stroke-width=\"1\" /><text x=\"3950.5878515625004\" y=\"75.0\" dominant-baseline=\"middle\" text-anchor=\"middle\" font-size=\"14px\" font-family=\"Arial\">X^qconv6</text><rect x=\"4005.7622265625005\" y=\"55.0\" width=\"70.375\" height=\"40\" stroke=\"black\" fill=\"white\" stroke-width=\"1\" /><text x=\"4040.9497265625005\" y=\"75.0\" dominant-baseline=\"middle\" text-anchor=\"middle\" font-size=\"14px\" font-family=\"Arial\">Y^qconv7</text><rect x=\"4096.1372265625005\" y=\"55.0\" width=\"69.3701171875\" height=\"40\" stroke=\"black\" fill=\"white\" stroke-width=\"1\" /><text x=\"4130.8222851562505\" y=\"75.0\" dominant-baseline=\"middle\" text-anchor=\"middle\" font-size=\"14px\" font-family=\"Arial\">Z^qconv8</text><rect x=\"4185.5073437500005\" y=\"105.0\" width=\"70.375\" height=\"40\" stroke=\"black\" fill=\"white\" stroke-width=\"1\" /><text x=\"4220.6948437500005\" y=\"125.0\" dominant-baseline=\"middle\" text-anchor=\"middle\" font-size=\"14px\" font-family=\"Arial\">X^qconv9</text><rect x=\"4275.8823437500005\" y=\"105.0\" width=\"78.1261328125\" height=\"40\" stroke=\"black\" fill=\"white\" stroke-width=\"1\" /><text x=\"4314.945410156251\" y=\"125.0\" dominant-baseline=\"middle\" text-anchor=\"middle\" font-size=\"14px\" font-family=\"Arial\">Y^qconv10</text><rect x=\"4374.008476562501\" y=\"105.0\" width=\"74.168125\" height=\"40\" stroke=\"black\" fill=\"white\" stroke-width=\"1\" /><text x=\"4411.092539062501\" y=\"125.0\" dominant-baseline=\"middle\" text-anchor=\"middle\" font-size=\"14px\" font-family=\"Arial\">Z^qconv11</text><rect x=\"4468.176601562501\" y=\"5.0\" width=\"77.03375000000001\" height=\"40\" stroke=\"black\" fill=\"white\" stroke-width=\"1\" /><text x=\"4506.693476562501\" y=\"25.0\" dominant-baseline=\"middle\" text-anchor=\"middle\" font-size=\"14px\" font-family=\"Arial\">Z^qconv12</text><circle cx=\"4585.2103515625\" cy=\"175.0\" r=\"10.0\" /><rect x=\"4565.2103515625\" y=\"5.0\" width=\"40\" height=\"40\" stroke=\"black\" fill=\"white\" stroke-width=\"1\" /><text x=\"4585.2103515625\" y=\"25.0\" dominant-baseline=\"middle\" text-anchor=\"middle\" font-size=\"18px\" font-family=\"Arial\">X</text><rect x=\"4625.2103515625\" y=\"155.0\" width=\"70.3203125\" height=\"40\" stroke=\"black\" fill=\"white\" stroke-width=\"1\" /><text x=\"4660.3705078125\" y=\"175.0\" dominant-baseline=\"middle\" text-anchor=\"middle\" font-size=\"14px\" font-family=\"Arial\">X^qconv0</text><rect x=\"4715.5306640625\" y=\"155.0\" width=\"68.4390625\" height=\"40\" stroke=\"black\" fill=\"white\" stroke-width=\"1\" /><text x=\"4749.7501953125\" y=\"175.0\" dominant-baseline=\"middle\" text-anchor=\"middle\" font-size=\"14px\" font-family=\"Arial\">Y^qconv1</text><rect x=\"4803.9697265625\" y=\"155.0\" width=\"69.2476171875\" height=\"40\" stroke=\"black\" fill=\"white\" stroke-width=\"1\" /><text x=\"4838.59353515625\" y=\"175.0\" dominant-baseline=\"middle\" text-anchor=\"middle\" font-size=\"14px\" font-family=\"Arial\">Z^qconv2</text><rect x=\"4893.21734375\" y=\"5.0\" width=\"70.3553125\" height=\"40\" stroke=\"black\" fill=\"white\" stroke-width=\"1\" /><text x=\"4928.3949999999995\" y=\"25.0\" dominant-baseline=\"middle\" text-anchor=\"middle\" font-size=\"14px\" font-family=\"Arial\">X^qconv3</text><rect x=\"4983.572656249999\" y=\"5.0\" width=\"70.3334375\" height=\"40\" stroke=\"black\" fill=\"white\" stroke-width=\"1\" /><text x=\"5018.739374999999\" y=\"25.0\" dominant-baseline=\"middle\" text-anchor=\"middle\" font-size=\"14px\" font-family=\"Arial\">Y^qconv4</text><rect x=\"5073.90609375\" y=\"5.0\" width=\"69.4248046875\" height=\"40\" stroke=\"black\" fill=\"white\" stroke-width=\"1\" /><text x=\"5108.61849609375\" y=\"25.0\" dominant-baseline=\"middle\" text-anchor=\"middle\" font-size=\"14px\" font-family=\"Arial\">Z^qconv5</text><circle cx=\"5183.3308984375\" cy=\"175.0\" r=\"10.0\" /><rect x=\"5163.3308984375\" y=\"5.0\" width=\"40\" height=\"40\" stroke=\"black\" fill=\"white\" stroke-width=\"1\" /><text x=\"5183.3308984375\" y=\"25.0\" dominant-baseline=\"middle\" text-anchor=\"middle\" font-size=\"18px\" font-family=\"Arial\">X</text><rect x=\"5223.3308984375\" y=\"155.0\" width=\"78.14144531250001\" height=\"40\" stroke=\"black\" fill=\"white\" stroke-width=\"1\" /><text x=\"5262.40162109375\" y=\"175.0\" dominant-baseline=\"middle\" text-anchor=\"middle\" font-size=\"14px\" font-family=\"Arial\">X^qconv13</text><rect x=\"5223.3308984375\" y=\"5.0\" width=\"78.14144531250001\" height=\"40\" stroke=\"black\" fill=\"white\" stroke-width=\"1\" /><text x=\"5262.40162109375\" y=\"25.0\" dominant-baseline=\"middle\" text-anchor=\"middle\" font-size=\"14px\" font-family=\"Arial\">Z^qconv14</text><circle cx=\"5341.47234375\" cy=\"175.0\" r=\"10.0\" /><rect x=\"5321.47234375\" y=\"5.0\" width=\"40\" height=\"40\" stroke=\"black\" fill=\"white\" stroke-width=\"1\" /><text x=\"5341.47234375\" y=\"25.0\" dominant-baseline=\"middle\" text-anchor=\"middle\" font-size=\"18px\" font-family=\"Arial\">X</text><rect x=\"5381.47234375\" y=\"155.0\" width=\"70.34875\" height=\"40\" stroke=\"black\" fill=\"white\" stroke-width=\"1\" /><text x=\"5416.646718749999\" y=\"175.0\" dominant-baseline=\"middle\" text-anchor=\"middle\" font-size=\"14px\" font-family=\"Arial\">X^qconv6</text><rect x=\"5471.82109375\" y=\"155.0\" width=\"70.375\" height=\"40\" stroke=\"black\" fill=\"white\" stroke-width=\"1\" /><text x=\"5507.00859375\" y=\"175.0\" dominant-baseline=\"middle\" text-anchor=\"middle\" font-size=\"14px\" font-family=\"Arial\">Y^qconv7</text><rect x=\"5562.19609375\" y=\"155.0\" width=\"69.3701171875\" height=\"40\" stroke=\"black\" fill=\"white\" stroke-width=\"1\" /><text x=\"5596.88115234375\" y=\"175.0\" dominant-baseline=\"middle\" text-anchor=\"middle\" font-size=\"14px\" font-family=\"Arial\">Z^qconv8</text><rect x=\"5651.5662109375\" y=\"5.0\" width=\"70.375\" height=\"40\" stroke=\"black\" fill=\"white\" stroke-width=\"1\" /><text x=\"5686.7537109375\" y=\"25.0\" dominant-baseline=\"middle\" text-anchor=\"middle\" font-size=\"14px\" font-family=\"Arial\">X^qconv9</text><rect x=\"5741.9412109375\" y=\"5.0\" width=\"78.1261328125\" height=\"40\" stroke=\"black\" fill=\"white\" stroke-width=\"1\" /><text x=\"5781.00427734375\" y=\"25.0\" dominant-baseline=\"middle\" text-anchor=\"middle\" font-size=\"14px\" font-family=\"Arial\">Y^qconv10</text><rect x=\"5840.06734375\" y=\"5.0\" width=\"74.168125\" height=\"40\" stroke=\"black\" fill=\"white\" stroke-width=\"1\" /><text x=\"5877.15140625\" y=\"25.0\" dominant-baseline=\"middle\" text-anchor=\"middle\" font-size=\"14px\" font-family=\"Arial\">Z^qconv11</text><rect x=\"5934.23546875\" y=\"105.0\" width=\"77.13656250000001\" height=\"40\" stroke=\"black\" fill=\"white\" stroke-width=\"1\" /><text x=\"5972.80375\" y=\"125.0\" dominant-baseline=\"middle\" text-anchor=\"middle\" font-size=\"14px\" font-family=\"Arial\">Z^qconv27</text><circle cx=\"6051.37203125\" cy=\"25.0\" r=\"10.0\" /><rect x=\"6031.37203125\" y=\"105.0\" width=\"40\" height=\"40\" stroke=\"black\" fill=\"white\" stroke-width=\"1\" /><text x=\"6051.37203125\" y=\"125.0\" dominant-baseline=\"middle\" text-anchor=\"middle\" font-size=\"18px\" font-family=\"Arial\">X</text><rect x=\"6091.37203125\" y=\"5.0\" width=\"78.2158203125\" height=\"40\" stroke=\"black\" fill=\"white\" stroke-width=\"1\" /><text x=\"6130.47994140625\" y=\"25.0\" dominant-baseline=\"middle\" text-anchor=\"middle\" font-size=\"14px\" font-family=\"Arial\">X^qconv15</text><rect x=\"6189.5878515625\" y=\"5.0\" width=\"78.15457031250001\" height=\"40\" stroke=\"black\" fill=\"white\" stroke-width=\"1\" /><text x=\"6228.66513671875\" y=\"25.0\" dominant-baseline=\"middle\" text-anchor=\"middle\" font-size=\"14px\" font-family=\"Arial\">Y^qconv16</text><rect x=\"6287.742421875\" y=\"5.0\" width=\"77.13656250000001\" height=\"40\" stroke=\"black\" fill=\"white\" stroke-width=\"1\" /><text x=\"6326.310703125\" y=\"25.0\" dominant-baseline=\"middle\" text-anchor=\"middle\" font-size=\"14px\" font-family=\"Arial\">Z^qconv17</text><rect x=\"6384.878984375\" y=\"105.0\" width=\"78.1611328125\" height=\"40\" stroke=\"black\" fill=\"white\" stroke-width=\"1\" /><text x=\"6423.95955078125\" y=\"125.0\" dominant-baseline=\"middle\" text-anchor=\"middle\" font-size=\"14px\" font-family=\"Arial\">X^qconv18</text><rect x=\"6483.0401171875\" y=\"105.0\" width=\"78.1808203125\" height=\"40\" stroke=\"black\" fill=\"white\" stroke-width=\"1\" /><text x=\"6522.13052734375\" y=\"125.0\" dominant-baseline=\"middle\" text-anchor=\"middle\" font-size=\"14px\" font-family=\"Arial\">Y^qconv19</text><rect x=\"6581.2209375\" y=\"105.0\" width=\"77.1015625\" height=\"40\" stroke=\"black\" fill=\"white\" stroke-width=\"1\" /><text x=\"6619.77171875\" y=\"125.0\" dominant-baseline=\"middle\" text-anchor=\"middle\" font-size=\"14px\" font-family=\"Arial\">Z^qconv20</text><circle cx=\"6698.3225\" cy=\"25.0\" r=\"10.0\" /><rect x=\"6678.3225\" y=\"105.0\" width=\"40\" height=\"40\" stroke=\"black\" fill=\"white\" stroke-width=\"1\" /><text x=\"6698.3225\" y=\"125.0\" dominant-baseline=\"middle\" text-anchor=\"middle\" font-size=\"18px\" font-family=\"Arial\">X</text><rect x=\"6738.3225\" y=\"5.0\" width=\"78.1611328125\" height=\"40\" stroke=\"black\" fill=\"white\" stroke-width=\"1\" /><text x=\"6777.40306640625\" y=\"25.0\" dominant-baseline=\"middle\" text-anchor=\"middle\" font-size=\"14px\" font-family=\"Arial\">X^qconv28</text><rect x=\"6738.3225\" y=\"105.0\" width=\"78.1611328125\" height=\"40\" stroke=\"black\" fill=\"white\" stroke-width=\"1\" /><text x=\"6777.40306640625\" y=\"125.0\" dominant-baseline=\"middle\" text-anchor=\"middle\" font-size=\"14px\" font-family=\"Arial\">Z^qconv29</text><circle cx=\"6856.4836328125\" cy=\"25.0\" r=\"10.0\" /><rect x=\"6836.4836328125\" y=\"105.0\" width=\"40\" height=\"40\" stroke=\"black\" fill=\"white\" stroke-width=\"1\" /><text x=\"6856.4836328125\" y=\"125.0\" dominant-baseline=\"middle\" text-anchor=\"middle\" font-size=\"18px\" font-family=\"Arial\">X</text><rect x=\"6896.4836328125\" y=\"5.0\" width=\"76.2055078125\" height=\"40\" stroke=\"black\" fill=\"white\" stroke-width=\"1\" /><text x=\"6934.58638671875\" y=\"25.0\" dominant-baseline=\"middle\" text-anchor=\"middle\" font-size=\"14px\" font-family=\"Arial\">X^qconv21</text><rect x=\"6992.689140625001\" y=\"5.0\" width=\"78.05832031250002\" height=\"40\" stroke=\"black\" fill=\"white\" stroke-width=\"1\" /><text x=\"7031.718300781251\" y=\"25.0\" dominant-baseline=\"middle\" text-anchor=\"middle\" font-size=\"14px\" font-family=\"Arial\">Y^qconv22</text><rect x=\"7090.7474609375\" y=\"5.0\" width=\"77.13656250000001\" height=\"40\" stroke=\"black\" fill=\"white\" stroke-width=\"1\" /><text x=\"7129.3157421875\" y=\"25.0\" dominant-baseline=\"middle\" text-anchor=\"middle\" font-size=\"14px\" font-family=\"Arial\">Z^qconv23</text><rect x=\"7187.8840234375\" y=\"105.0\" width=\"78.0998828125\" height=\"40\" stroke=\"black\" fill=\"white\" stroke-width=\"1\" /><text x=\"7226.93396484375\" y=\"125.0\" dominant-baseline=\"middle\" text-anchor=\"middle\" font-size=\"14px\" font-family=\"Arial\">X^qconv24</text><rect x=\"7285.9839062500005\" y=\"105.0\" width=\"78.2355078125\" height=\"40\" stroke=\"black\" fill=\"white\" stroke-width=\"1\" /><text x=\"7325.101660156251\" y=\"125.0\" dominant-baseline=\"middle\" text-anchor=\"middle\" font-size=\"14px\" font-family=\"Arial\">Y^qconv25</text><rect x=\"7384.219414062501\" y=\"105.0\" width=\"77.13000000000001\" height=\"40\" stroke=\"black\" fill=\"white\" stroke-width=\"1\" /><text x=\"7422.7844140625\" y=\"125.0\" dominant-baseline=\"middle\" text-anchor=\"middle\" font-size=\"14px\" font-family=\"Arial\">Z^qconv26</text></svg>"
      ],
      "text/plain": [
       "<cirq.contrib.svg.svg.SVGCircuit at 0x7fbcabbb9a20>"
      ]
     },
     "execution_count": 21,
     "metadata": {},
     "output_type": "execute_result"
    }
   ],
   "source": [
    "SVGCircuit(model_circuit)"
   ]
  },
  {
   "cell_type": "code",
   "execution_count": 22,
   "id": "894c2dfa-ef1b-4474-80f1-9938c6781e1e",
   "metadata": {},
   "outputs": [],
   "source": [
    "def hinge_accuracy(y_true, y_pred):\n",
    "    y_true = tf.squeeze(y_true) > 0.0\n",
    "    y_pred = tf.squeeze(y_pred) > 0.0\n",
    "    result = tf.cast(y_true == y_pred, tf.float32)\n",
    "\n",
    "    return tf.reduce_mean(result)\n",
    "\n",
    "y_train_hinge = 2.0*y_train-1.0\n",
    "y_test_hinge = 2.0*y_test-1.0"
   ]
  },
  {
   "cell_type": "code",
   "execution_count": null,
   "id": "828e5035-15b0-4231-8f22-777971d626de",
   "metadata": {},
   "outputs": [],
   "source": []
  },
  {
   "cell_type": "markdown",
   "id": "f78e3583-1366-4927-9882-b907b252e861",
   "metadata": {},
   "source": [
    "# SPSA with Manual Job Submission\n",
    "\n"
   ]
  },
  {
   "cell_type": "code",
   "execution_count": null,
   "id": "ca47afe6-c490-40d1-8db9-3d9be310f712",
   "metadata": {},
   "outputs": [],
   "source": []
  },
  {
   "cell_type": "code",
   "execution_count": 23,
   "id": "15291014-c09d-4836-a3de-f2d5e898bd5a",
   "metadata": {},
   "outputs": [],
   "source": [
    "np_tot = 30;\n",
    "symbols = sympy.symbols('qconv0:30')\n",
    "sym_dict = {};\n",
    "for i in range(len(symbols)):\n",
    "    sym_dict[symbols[i]] = 0.0;"
   ]
  },
  {
   "cell_type": "code",
   "execution_count": 24,
   "id": "19a34481-33d2-454a-bba4-241e7eaf4122",
   "metadata": {},
   "outputs": [],
   "source": [
    "simulator = cirq.Simulator()\n",
    "mse = tf.keras.losses.MeanSquaredError();"
   ]
  },
  {
   "cell_type": "code",
   "execution_count": null,
   "id": "6d7907f8-75bd-4951-9dd7-36c2ff024cf3",
   "metadata": {},
   "outputs": [],
   "source": []
  },
  {
   "cell_type": "code",
   "execution_count": 27,
   "id": "7e2a44ca-fd7d-48bb-92a5-858b0905b195",
   "metadata": {},
   "outputs": [
    {
     "name": "stdout",
     "output_type": "stream",
     "text": [
      "0\n",
      "0 0.9729333896189928 0.9664125889539719 0.4 0.65\n",
      "avg:  0 0.96967 0.525 \t\t 0.02581 0.05 0.06521 0.7161362171173096\n",
      "1 0.8430621966719627 0.8329565972089767 0.9 0.75\n",
      "2 0.8850068010389804 0.8392789974808693 0.8 0.7\n",
      "3 0.9764714010059834 0.9790936114732176 0.45 0.5\n",
      "4 1.3100654065608979 0.9682528018951416 0.15 0.65\n",
      "5 1.045502606034279 1.3057953983545303 0.65 0.1\n",
      "avg:  5 0.99855 0.565 \t\t 0.0143 0.04172 -3.11929 3.3162381649017334\n",
      "6 1.0200505767017602 1.0304487943649292 0.65 0.6\n",
      "7 1.2451228126883507 1.1058001875877381 0.5 0.45\n",
      "8 1.079664196074009 1.0370877854526044 0.55 0.55\n",
      "9 1.1207661837339402 0.9632020056247711 0.55 0.6\n",
      "10 0.8642686024308205 1.0473449990153312 0.85 0.55\n",
      "avg:  10 1.05138 0.585 \t\t 0.01068 0.03925 -2.33245 3.3334479331970215\n",
      "11 1.0132049962878227 0.8043889999389648 0.6 0.7\n",
      "12 1.2515629924833775 0.8525213986635208 0.4 0.65\n",
      "13 0.8626568019390106 1.0660137988626956 0.6 0.5\n",
      "14 0.9017357990145684 0.7766259901225567 0.7 0.75\n",
      "15 0.8369260028004646 0.9939242102205753 0.75 0.55\n",
      "avg:  15 0.93596 0.62 \t\t 0.00878 0.03779 -2.07736 3.2843306064605713\n",
      "16 1.0360812053084374 0.8211055934429169 0.5 0.75\n",
      "17 0.5042388018220663 0.6562006056308747 1.0 0.8\n",
      "18 0.8508951932191848 0.7381021976470947 0.75 0.85\n",
      "19 0.7576561987400054 0.6723066002130509 0.7 0.8\n",
      "20 0.7463027991354465 0.7468292057514191 0.7 0.8\n",
      "avg:  20 0.75297 0.765 \t\t 0.00757 0.03676 -0.00716 3.4778106212615967\n",
      "21 0.9506528830528259 0.7647956754267216 0.52 0.76\n",
      "22 0.708601436316967 0.7859184069931507 0.8 0.68\n",
      "23 0.8358882361650467 0.7529504030942917 0.68 0.84\n",
      "24 0.7989243990182877 0.7928844755887985 0.74 0.8\n",
      "25 0.6928419205546379 0.7977955120801926 0.86 0.72\n",
      "avg:  25 0.78813 0.74 \t\t 0.00673 0.03598 -1.45851 8.62699294090271\n",
      "26 0.723993678689003 0.8489263993501663 0.8 0.74\n",
      "27 0.7383795207738877 0.7316850379109383 0.82 0.76\n",
      "28 0.7242828771471977 0.7236025562882423 0.74 0.8\n",
      "29 0.7436091169714928 0.8645270377397537 0.74 0.72\n",
      "30 0.8094249618053436 0.6551110377907753 0.8 0.86\n",
      "avg:  30 0.75635 0.778 \t\t 0.00609 0.03535 2.18289 8.999398231506348\n",
      "31 0.6911197602748871 0.7636746400594712 0.86 0.74\n",
      "32 0.677582242935896 0.8522412818670273 0.78 0.74\n",
      "33 0.7068647208809853 0.6179262405633926 0.74 0.86\n",
      "34 0.8718083214759826 0.676721359193325 0.68 0.84\n",
      "35 0.5985614341497422 0.6718047240376472 0.86 0.82\n",
      "avg:  35 0.71283 0.792 \t\t 0.0056 0.03482 -1.05185 8.500095844268799\n",
      "36 0.5104019209742546 0.8122432781755924 0.86 0.7\n",
      "37 0.5347314372658729 0.7032439981400966 0.88 0.8\n",
      "38 0.7072682406008244 0.6844236791133881 0.76 0.78\n",
      "39 0.6024451969563961 0.4684527203440666 0.88 0.9\n",
      "40 0.6974219986796379 0.5718579216301442 0.8 0.92\n",
      "avg:  40 0.62925 0.828 \t\t 0.0052 0.03436 1.82708 8.556077241897583\n",
      "41 0.6505495236814022 0.6676025580614805 0.8 0.8\n",
      "42 0.6861966362595558 0.663134641610086 0.8 0.74\n",
      "43 0.8784097604453563 0.5571448779106141 0.72 0.82\n",
      "44 0.5135353583097458 0.47109696064144374 0.92 0.92\n",
      "45 0.4208629600703716 0.4583383234590292 0.94 0.84\n",
      "avg:  45 0.59669 0.83 \t\t 0.00486 0.03396 -0.55168 8.272740125656128\n",
      "46 0.4531542378664017 0.4495164808630943 0.9 0.96\n",
      "47 0.5011922386288643 0.4547470377385616 0.92 0.9\n",
      "48 0.5705552804470062 0.765011276435107 0.9 0.64\n",
      "49 0.6759251272678375 0.6499142388254404 0.78 0.78\n",
      "50 0.5397274386882782 0.5275903974473476 0.92 0.84\n",
      "avg:  50 0.55873 0.854 \t\t 0.00458 0.03361 0.18054 8.169710397720337\n",
      "51 0.5126899170316755 0.6069271996617317 0.88 0.94\n",
      "52 0.5336379201710224 0.6760116798430681 0.9 0.78\n",
      "53 0.6658022446930408 0.4468122382462025 0.8 0.92\n",
      "54 0.5088531994819641 0.4001345599070191 0.9 0.92\n",
      "55 0.5010629636049271 0.5144612803310156 0.9 0.82\n",
      "avg:  55 0.53664 0.876 \t\t 0.00434 0.0333 -0.2012 9.435184001922607\n",
      "56 0.5123038420081139 0.46230312131345275 0.88 0.96\n",
      "57 0.518481676876545 0.5654203999042511 0.96 0.92\n",
      "58 0.5737414387613535 0.5537571992725134 0.82 0.86\n",
      "59 0.4849479977786541 0.5162129580974579 0.96 0.9\n",
      "60 0.5051703996211291 0.6901394417881965 0.92 0.82\n",
      "avg:  60 0.53825 0.9 \t\t 0.00413 0.03301 -2.80167 9.143242359161377\n",
      "61 0.48859999820590017 0.6691126355528831 0.96 0.76\n",
      "62 0.46790888264775277 0.4785699188709259 0.9 0.94\n",
      "63 0.5285434398055077 0.6066299244016409 0.9 0.82\n",
      "64 0.4833817610144615 0.4902399203181267 0.88 0.96\n",
      "65 0.5423343978822232 0.42350415885448456 0.9 0.94\n",
      "avg:  65 0.51788 0.896 \t\t 0.00394 0.03275 1.81427 338.6824686527252\n",
      "66 0.4879492016136646 0.523026959002018 0.92 0.94\n",
      "67 0.37668296076357366 0.5290445601940155 0.94 0.94\n",
      "68 0.6100475163757801 0.5679851214587689 0.88 0.84\n",
      "69 0.4795612025260925 0.40269591815769673 0.96 0.94\n",
      "70 0.4341661590337753 0.5172873608767986 0.94 0.92\n",
      "avg:  70 0.49284 0.922 \t\t 0.00378 0.03251 -1.27847 9.03894829750061\n",
      "71 0.4592445795238018 0.426787699367851 0.945 0.93\n",
      "72 0.3893913381919265 0.4003720194846392 0.93 0.96\n",
      "73 0.5053139996156096 0.4000668189767748 0.935 0.91\n",
      "74 0.38548961996100845 0.5040202817320824 0.935 0.895\n",
      "75 0.6104050008952617 0.4491650814190507 0.815 0.94\n",
      "avg:  75 0.45303 0.9195 \t\t 0.00363 0.03229 2.49709 36.446560859680176\n",
      "76 0.518485781471245 0.5096403189003468 0.89 0.94\n",
      "77 0.52949781909585 0.418419500188902 0.925 0.93\n",
      "78 0.47469072112813593 0.49848601842299106 0.92 0.91\n",
      "79 0.539980418998748 0.4917499987408519 0.84 0.955\n",
      "80 0.4656960599310696 0.5023479995690286 0.94 0.89\n",
      "avg:  80 0.4949 0.914 \t\t 0.0035 0.03208 -0.57129 35.90971922874451\n",
      "81 0.49791015829890967 0.4634798804251477 0.93 0.895\n",
      "82 0.5046397591941059 0.5516943809762597 0.945 0.88\n",
      "83 0.4157421600073576 0.4208043601922691 0.935 0.97\n",
      "84 0.40743324156850574 0.4119432793557644 0.935 0.965\n",
      "85 0.4380278993025422 0.5551105191092938 0.93 0.88\n",
      "avg:  85 0.46668 0.9265 \t\t 0.00338 0.03188 -1.83602 37.54567360877991\n",
      "86 0.4102883216692135 0.6303995788656175 0.92 0.83\n",
      "87 0.4390478001534939 0.37430908062495294 0.925 0.935\n",
      "88 0.4496814992278814 0.6351355576887727 0.925 0.895\n",
      "89 0.4090574206598103 0.4467848412040621 0.91 0.94\n",
      "90 0.3773449008353055 0.43866693910211324 0.915 0.92\n",
      "avg:  90 0.46107 0.9115 \t\t 0.00327 0.0317 -0.96712 36.59683847427368\n",
      "91 0.41506995994597673 0.3848117388784885 0.945 0.945\n",
      "92 0.41556981885805727 0.4438889396004379 0.905 0.91\n",
      "93 0.4910074992105365 0.4344491200707853 0.87 0.935\n",
      "94 0.44483244035393 0.4288176388293505 0.93 0.935\n",
      "95 0.47045797829516234 0.4142656187433749 0.905 0.95\n",
      "avg:  95 0.43432 0.923 \t\t 0.00316 0.03153 0.89102 37.65784788131714\n",
      "96 0.3637970006838441 0.3823675221949816 0.945 0.945\n",
      "97 0.3998616205621511 0.46455010171979666 0.945 0.925\n",
      "98 0.4372997807618231 0.407190399072133 0.94 0.94\n",
      "99 0.47100621953606603 0.44754568045958876 0.88 0.95\n"
     ]
    }
   ],
   "source": [
    "import time \n",
    "\n",
    "##The spsa hyperparameters\n",
    "a=0.05; b=0.05; s=.602; t=.101 ; \n",
    "gamma=0.0; max_it=200;\n",
    "num_shots = 1000;\n",
    "qpu = False;\n",
    "\n",
    "\n",
    "\n",
    "num_its=100;  #The number of iterations\n",
    "NUM_EXAMPLES=5;\n",
    "\n",
    "kstart=0;\n",
    "freq = 5;\n",
    "hinge=True\n",
    "\n",
    "if(kstart==0):\n",
    "    loss_value_k = []\n",
    "    acc_value_k = [];\n",
    "    param_values_k = [];\n",
    "    acc_value_0 = []\n",
    "    loss_value_0=[];\n",
    "    loss_value = [];\n",
    "    acc_value = [];\n",
    "    loss_value1 = [];\n",
    "    acc_value1 = [];\n",
    "\n",
    "\n",
    "\n",
    "start = time.time()\n",
    "\n",
    "for x in range(1):\n",
    "\n",
    "    print(x);\n",
    "    l_avg_old = 0\n",
    "    a_avg_old = 0;\n",
    "\n",
    "    if(kstart==0):\n",
    "        initial_point = (0.0*np.random.rand(np_tot,1)*2.0*np.pi).astype('f')\n",
    "        param_values_k.append(initial_point)\n",
    "\n",
    "    else:\n",
    "        initial_point = param_values_k[kstart];\n",
    "        \n",
    "    v_old = np.random.rand(np_tot,1)*0.0;    \n",
    "    \n",
    "    l_avg = 0;\n",
    "    a_avg = 0;\n",
    "    t_avg=0;\n",
    "    \n",
    "    \n",
    "    for k in range(kstart,num_its):\n",
    "    \n",
    "        t0 = time.time()\n",
    "        \n",
    "        #Adjust the number of samples per iteration to increase at higher iterations\n",
    "        if(k<=20):\n",
    "            NUM_EXAMPLES=20;\n",
    "        if(k>20 and k<70):\n",
    "            NUM_EXAMPLES=50;\n",
    "        elif(k>70 and k<100):\n",
    "            NUM_EXAMPLES=200;\n",
    "        elif(k>100):\n",
    "            NUM_EXAMPLES=200;  \n",
    "            \n",
    "            \n",
    "            \n",
    "\n",
    "        #Get a new mini-batch of images to evaluate the function on\n",
    "        indices = tf.range(start=0, limit=tf.shape(X_train_pc)[0], dtype=tf.int32)\n",
    "        shuffled_indices = tf.random.shuffle(indices)\n",
    "\n",
    "        shuffled_y = tf.gather(y_train_hinge, shuffled_indices)\n",
    "    \n",
    "      \n",
    "\n",
    "        #the SPSA loop\n",
    "        lr_k =  a/(k+1.0+max_it*.01)**s;\n",
    "        perturb_k = b / (k+1.0)**t;\n",
    "        delta_k = 2.0*(2.0*np.random.rand(np_tot,1)-1.0).astype('f')\n",
    "       \n",
    "    \n",
    "        jobid_plus = [];\n",
    "        jobid_minus = [];\n",
    "\n",
    "        sym_dict_plus = {}\n",
    "        sym_dict_minus = {}\n",
    "        \n",
    "        #Set the parameters for the two circuits\n",
    "        for i in range(np_tot):\n",
    "            sym_dict_plus[symbols[i]] = initial_point[i][0] + perturb_k*delta_k[i][0]\n",
    "            sym_dict_minus[symbols[i]] = initial_point[i][0] - perturb_k*delta_k[i][0]\n",
    "\n",
    "\n",
    "        output_plus = [];\n",
    "        output_minus = [];\n",
    "\n",
    "\n",
    "        l_plus = 0.0;\n",
    "        l_minus=0.0;\n",
    "        \n",
    "        for i in range(NUM_EXAMPLES):\n",
    "                               \n",
    "            circ1 = cirq.Circuit()\n",
    "            circ1 += convert_to_product_circuit(X_train_pc[shuffled_indices[i]])\n",
    "            circ1 += model_circuit\n",
    "            circ1 += cirq.measure(state_bits[0],key='x')\n",
    "            \n",
    "            circ_plus =cirq.resolve_parameters(circ1,sym_dict_plus)\n",
    "            circ_minus =cirq.resolve_parameters(circ1,sym_dict_minus)\n",
    "        \n",
    "        \n",
    "            results_plus = simulator.run(circ_plus, repetitions=num_shots)\n",
    "            results_minus = simulator.run(circ_minus, repetitions=num_shots)\n",
    "            \n",
    "            out_plus =(1.0 - 2.0*results_plus.measurements['x']).sum()/num_shots\n",
    "            out_minus = (1.0 - 2.0*results_minus.measurements['x']).sum()/num_shots\n",
    "\n",
    "                    \n",
    "            output_plus.append( out_plus )\n",
    "            output_minus.append( out_minus )\n",
    "                      \n",
    "            l_plus += mse(output_plus[i:i+1],shuffled_y[i:i+1])\n",
    "            l_minus += mse(output_minus[i:i+1],shuffled_y[i:i+1])               \n",
    "\n",
    "                \n",
    "                \n",
    "        l_plus = l_plus/NUM_EXAMPLES\n",
    "        l_minus = l_minus/NUM_EXAMPLES\n",
    "\n",
    "        a_plus = hinge_accuracy(output_plus,shuffled_y[:NUM_EXAMPLES])\n",
    "        a_minus = hinge_accuracy(output_minus,shuffled_y[:NUM_EXAMPLES])\n",
    "    \n",
    "        \n",
    "        #Determine the new update parameters\n",
    "        g_k = ( l_plus - l_minus ) / (2.0*perturb_k);\n",
    "    \n",
    "        v_new = gamma*v_old + lr_k*g_k*delta_k\n",
    "        v_old = v_new;\n",
    "    \n",
    "        new_point = (initial_point - v_new.numpy() ).astype('f');\n",
    "    \n",
    "        initial_point = new_point;\n",
    "        \n",
    "        param_values_k.append(initial_point)\n",
    "\n",
    "        l_avg += ((l_plus+l_minus)/2.0).numpy();\n",
    "        a_avg += ((a_plus+a_minus)/2.0).numpy();\n",
    "\n",
    "        t1 = time.time();\n",
    "        t_avg += (t1-t0);\n",
    "       \n",
    "\n",
    "\n",
    "        print(k, l_plus.numpy(), l_minus.numpy(), a_plus.numpy(), a_minus.numpy())\n",
    "\n",
    "        loss_value_0.append( ((l_plus+l_minus)/2.0).numpy() )\n",
    "        acc_value_0.append( ((a_plus+a_minus)/2.0).numpy() )\n",
    "\n",
    "\n",
    "        if(k%freq==0):   \n",
    "            if(k==0):\n",
    "                l_avg = round(l_avg,5)\n",
    "                a_avg = round(a_avg,5)\n",
    "            else:\n",
    "                l_avg = round(l_avg/freq,5)\n",
    "                a_avg = round(a_avg/freq,5)\n",
    "            loss_value.append(l_avg)\n",
    "            acc_value.append(a_avg)\n",
    "            \n",
    "            print(\"avg: \", k, l_avg, a_avg, '\\t\\t', round(lr_k,5), round(perturb_k,5), round(g_k.numpy(),5), t_avg)\n",
    "            \n",
    "            l_avg_old = l_avg;\n",
    "            a_avg_old= a_avg;\n",
    "            l_avg = 0;\n",
    "            a_avg=0;\n",
    "            t_avg = 0\n",
    "            \n",
    "\n",
    "    loss_value_k.append(loss_value)\n",
    "    acc_value_k.append(acc_value)\n",
    "    \n",
    "end=time.time()\n"
   ]
  },
  {
   "cell_type": "markdown",
   "id": "41c16dc8-7d28-4c6e-9f0f-cc5528f18c4f",
   "metadata": {},
   "source": [
    "## Visualize The Output"
   ]
  },
  {
   "cell_type": "code",
   "execution_count": null,
   "id": "0c86136f-f08a-40ff-9c4a-9417d24c3ba7",
   "metadata": {},
   "outputs": [],
   "source": []
  },
  {
   "cell_type": "code",
   "execution_count": 28,
   "id": "f86c1710-aaee-4d8f-aac3-d85e3881e9de",
   "metadata": {},
   "outputs": [
    {
     "data": {
      "text/plain": [
       "<matplotlib.legend.Legend at 0x7fbcaab98978>"
      ]
     },
     "execution_count": 28,
     "metadata": {},
     "output_type": "execute_result"
    },
    {
     "data": {
      "image/png": "[encoded data removed]",
      "text/plain": [
       "<Figure size 720x576 with 1 Axes>"
      ]
     },
     "metadata": {
      "needs_background": "light"
     },
     "output_type": "display_data"
    }
   ],
   "source": [
    "plt.figure(figsize=(10,8))\n",
    "plt.plot(loss_value_0, linewidth=3)\n",
    "plt.plot(range(0,100,5),loss_value, linewidth=4, label='avg')\n",
    "plt.xlabel('Iteration',fontsize=25)\n",
    "plt.ylabel('Loss',fontsize=25)\n",
    "plt.xticks(fontsize=20)\n",
    "plt.yticks(fontsize=20)\n",
    "plt.legend(fontsize=20)"
   ]
  },
  {
   "cell_type": "code",
   "execution_count": 29,
   "id": "6c244df8-8060-444c-b6d5-8209cf72f95b",
   "metadata": {},
   "outputs": [
    {
     "data": {
      "text/plain": [
       "<matplotlib.legend.Legend at 0x7fbcacae8550>"
      ]
     },
     "execution_count": 29,
     "metadata": {},
     "output_type": "execute_result"
    },
    {
     "data": {
      "image/png": "[encoded data removed]",
      "text/plain": [
       "<Figure size 720x576 with 1 Axes>"
      ]
     },
     "metadata": {
      "needs_background": "light"
     },
     "output_type": "display_data"
    }
   ],
   "source": [
    "plt.figure(figsize=(10,8))\n",
    "plt.plot(acc_value_0, linewidth=3)\n",
    "plt.plot(range(0,100,5),acc_value, linewidth=4, label='avg')\n",
    "plt.xlabel('Iteration',fontsize=25)\n",
    "plt.ylabel('Loss',fontsize=25)\n",
    "plt.xticks(fontsize=20)\n",
    "plt.yticks(fontsize=20)\n",
    "plt.legend(fontsize=20)"
   ]
  },
  {
   "cell_type": "markdown",
   "id": "d086fa36-7b3e-4fab-a3ea-ae44f8c5d00a",
   "metadata": {},
   "source": [
    "## Run the Validation Loop"
   ]
  },
  {
   "cell_type": "code",
   "execution_count": null,
   "id": "913aa181-29dd-4f1d-8dd5-29a408eecb05",
   "metadata": {},
   "outputs": [],
   "source": []
  },
  {
   "cell_type": "code",
   "execution_count": null,
   "id": "48ef9d99-da5c-4c86-8ea4-433a9392bf9b",
   "metadata": {},
   "outputs": [],
   "source": []
  },
  {
   "cell_type": "code",
   "execution_count": 32,
   "id": "20607f5e-31e0-4461-bf58-dc6727890b37",
   "metadata": {},
   "outputs": [
    {
     "name": "stdout",
     "output_type": "stream",
     "text": [
      "0\n",
      "0 0.9348048029839993 0.52\n",
      "1 0.9434454379975796 0.62\n",
      "2 0.9350584830343723 0.52\n",
      "3 0.935082471370697 0.56\n",
      "4 0.9124268031120301 0.68\n",
      "5 0.9279243993759155 0.64\n",
      "6 1.1601300019025802 0.46\n",
      "7 1.075436483025551 0.54\n",
      "8 1.0840380823612212 0.58\n",
      "9 1.0054667215049267 0.56\n",
      "10 0.8102184820175171 0.74\n",
      "11 0.9048738366365433 0.6\n",
      "12 0.8609027183055877 0.68\n",
      "13 0.8465974447131157 0.66\n",
      "14 0.9287479996681214 0.56\n",
      "15 0.8462609612941742 0.64\n",
      "16 0.7786935219168662 0.74\n",
      "17 0.7224672798812389 0.76\n",
      "18 0.753844641149044 0.76\n",
      "19 0.6733689552545548 0.78\n",
      "20 0.8071804839372635 0.74\n",
      "21 0.7880737599730492 0.72\n",
      "22 0.6002610406279564 0.92\n",
      "23 0.8167939180135727 0.78\n",
      "24 0.695714795589447 0.86\n",
      "25 0.7243170422315598 0.8\n",
      "26 0.7794232776761055 0.78\n",
      "27 0.6996534407138825 0.8\n",
      "28 0.65611311763525 0.9\n",
      "29 0.7133867925405503 0.84\n",
      "30 0.6980004769563675 0.84\n",
      "31 0.6305929568409919 0.92\n",
      "32 0.6560100013017655 0.88\n",
      "33 0.7531186416745186 0.74\n",
      "34 0.6283744782209396 0.82\n",
      "35 0.651224162876606 0.78\n",
      "36 0.5988380816578865 0.86\n",
      "37 0.5625268027186394 0.9\n",
      "38 0.49866071924567223 0.96\n",
      "39 0.6407723200321197 0.84\n",
      "40 0.640064962953329 0.84\n",
      "41 0.5551908831298351 0.88\n",
      "42 0.5865311960875988 0.84\n",
      "43 0.5060440815985203 0.88\n",
      "44 0.4917475958168507 0.84\n",
      "45 0.47465103715658186 0.94\n",
      "46 0.47446103680878876 0.92\n",
      "47 0.3708088003098965 0.9\n",
      "48 0.40572335824370387 1.0\n",
      "49 0.4626623177528381 0.94\n",
      "50 0.49592159926891327 0.96\n",
      "51 0.49674015879631045 0.88\n",
      "52 0.4153124822676182 0.98\n",
      "53 0.48734976321458817 0.92\n",
      "54 0.48085800170898435 0.88\n",
      "55 0.5222586387395859 0.9\n",
      "56 0.4353229567408562 0.94\n",
      "57 0.5224407196044922 0.88\n",
      "58 0.41711063966155054 0.96\n",
      "59 0.41399968102574347 0.98\n",
      "60 0.4109711198508739 0.94\n",
      "61 0.4191696003079414 0.94\n",
      "62 0.40202272042632103 0.98\n",
      "63 0.43923071831464766 0.94\n",
      "64 0.4456052811443806 0.9\n",
      "65 0.48963951990008353 0.88\n",
      "66 0.41395536333322525 0.98\n",
      "67 0.4130499202013016 0.9\n",
      "68 0.38055487744510175 0.92\n",
      "69 0.42103695675730707 0.94\n",
      "70 0.3937807190418243 0.96\n",
      "71 0.3121671190857887 0.98\n",
      "72 0.3412844818085432 1.0\n",
      "73 0.36226128295063975 0.94\n",
      "74 0.3587747180461884 0.94\n",
      "75 0.31034255772829056 0.96\n",
      "76 0.3627903997898102 0.94\n",
      "77 0.4708292796462774 0.92\n",
      "78 0.43187096185982227 0.9\n",
      "79 0.3269490380585194 0.96\n",
      "80 0.3696261565387249 0.92\n",
      "81 0.3614158399403095 0.94\n",
      "82 0.43268456239253283 0.92\n",
      "83 0.40521335683763027 0.9\n",
      "84 0.43571495935320853 0.94\n",
      "85 0.3622384002804756 0.94\n",
      "86 0.2951895197480917 1.0\n",
      "87 0.3989675967395306 0.92\n",
      "88 0.37209040196612475 0.98\n",
      "89 0.2866746387258172 0.96\n",
      "90 0.33386992014944555 0.96\n",
      "91 0.44641320265829565 0.88\n",
      "92 0.40435743793845175 0.9\n",
      "93 0.3263620019704103 0.94\n",
      "94 0.35249863889068367 0.94\n",
      "95 0.36949303843081 0.9\n",
      "96 0.45467160392552614 0.84\n",
      "97 0.3277745585888624 0.98\n",
      "98 0.46171192329376937 0.88\n",
      "99 0.30976480290293695 0.94\n"
     ]
    }
   ],
   "source": [
    "import time \n",
    "\n",
    "##The spsa hyperparameters\n",
    "a=0.05; b=0.05; s=.602; t=.101 ; \n",
    "gamma=0.0; max_it=200;\n",
    "num_shots = 1000;\n",
    "qpu = False;\n",
    "\n",
    "\n",
    "\n",
    "num_its=100;  #The number of iterations\n",
    "NUM_EXAMPLES=50;\n",
    "\n",
    "kstart=0;\n",
    "freq = 5;\n",
    "hinge=True\n",
    "\n",
    "\n",
    "\n",
    "start = time.time()\n",
    "\n",
    "for x in range(1):\n",
    "\n",
    "    print(x);\n",
    "    l_avg_old = 0\n",
    "    a_avg_old = 0;\n",
    "\n",
    "  \n",
    "    \n",
    "    l_avg = 0;\n",
    "    a_avg = 0;\n",
    "    t_avg=0;\n",
    "    \n",
    "    val_acc = [];\n",
    "    \n",
    "    \n",
    "    for k in range(kstart,num_its):\n",
    "    \n",
    "        initial_point = param_values_k[k]\n",
    "    \n",
    "        t0 = time.time()\n",
    "                      \n",
    "\n",
    "        #Get a new mini-batch of images to evaluate the function on\n",
    "        indices = tf.range(start=0, limit=tf.shape(X_test_pc)[0], dtype=tf.int32)\n",
    "        shuffled_indices = tf.random.shuffle(indices)\n",
    "\n",
    "        shuffled_y = tf.gather(y_test_hinge, shuffled_indices)\n",
    "    \n",
    "      \n",
    "\n",
    "        #the SPSA loop\n",
    "\n",
    "        sym_dict = {}\n",
    "        \n",
    "        #Set the parameters for the two circuits\n",
    "        for i in range(np_tot):\n",
    "            sym_dict[symbols[i]] = initial_point[i][0] \n",
    "\n",
    "\n",
    "        output= [];\n",
    "\n",
    "\n",
    "        l_0 = 0.0;\n",
    "        a_0 =0.0;\n",
    "        \n",
    "        for i in range(NUM_EXAMPLES):\n",
    "                               \n",
    "            circ1 = cirq.Circuit()\n",
    "            circ1 += convert_to_product_circuit(X_test_pc[shuffled_indices[i]])\n",
    "            circ1 += model_circuit\n",
    "            circ1 += cirq.measure(state_bits[0],key='x')\n",
    "            \n",
    "            \n",
    "            circuit =cirq.resolve_parameters(circ1,sym_dict)\n",
    "        \n",
    "        \n",
    "            results_plus = simulator.run(circuit, repetitions=num_shots)\n",
    "            \n",
    "            out_1 =(1.0 - 2.0*results_plus.measurements['x']).sum()/num_shots\n",
    "\n",
    "                    \n",
    "            output.append( out_1 )\n",
    "                      \n",
    "            l_0 += mse(output[i:i+1],shuffled_y[i:i+1])\n",
    "\n",
    "                \n",
    "                \n",
    "        l_0 = l_0/NUM_EXAMPLES\n",
    "\n",
    "        a_0 = hinge_accuracy(output[:NUM_EXAMPLES],shuffled_y[:NUM_EXAMPLES])\n",
    "\n",
    "        val_acc.append(np.array(a_0))\n",
    "        \n",
    "        print(k,np.array(l_0),np.array(a_0))\n",
    "\n",
    "        \n",
    "    \n",
    "end=time.time()\n"
   ]
  },
  {
   "cell_type": "code",
   "execution_count": 33,
   "id": "4b244b44-989d-4909-9edd-2c77fb4d065b",
   "metadata": {},
   "outputs": [
    {
     "data": {
      "image/png": "[encoded data removed]",
      "text/plain": [
       "<Figure size 720x576 with 1 Axes>"
      ]
     },
     "metadata": {
      "needs_background": "light"
     },
     "output_type": "display_data"
    }
   ],
   "source": [
    "plt.figure(figsize=(10,8))\n",
    "plt.plot(val_acc,linewidth=3)\n",
    "plt.xlabel('Iteration',fontsize=25);\n",
    "plt.ylabel('Validation Accuracy',fontsize=25);\n",
    "plt.xticks(fontsize=20);\n",
    "plt.yticks(fontsize=20);\n"
   ]
  },
  {
   "cell_type": "markdown",
   "id": "2a7846d5-b712-47d0-99bb-45ea67eeadea",
   "metadata": {},
   "source": [
    "## Run Inference on IonQ Backend"
   ]
  },
  {
   "cell_type": "code",
   "execution_count": 34,
   "id": "2001aab6-c323-40d5-a38d-84b28bd718b1",
   "metadata": {},
   "outputs": [],
   "source": [
    "import cirq_ionq as ionq\n",
    "\n",
    "service = ionq.Service(api_key=\"mEJjblVBIHYnuX7mwWTyHS9JOR6BnXGb\")"
   ]
  },
  {
   "cell_type": "code",
   "execution_count": 35,
   "id": "0c1c3767-6cdc-490f-ac38-6189f6b245f4",
   "metadata": {},
   "outputs": [],
   "source": [
    "np_tot = 30;\n",
    "symbols = sympy.symbols('qconv0:30')\n",
    "sym_dict = {};\n",
    "for i in range(len(symbols)):\n",
    "    sym_dict[symbols[i]] = 0.0;"
   ]
  },
  {
   "cell_type": "code",
   "execution_count": 57,
   "id": "57855cc5-effd-441b-99a1-6267348616ed",
   "metadata": {},
   "outputs": [],
   "source": [
    "qpu = False;\n",
    "img_num = 4;\n",
    "\n",
    "initial_point = param_values_k[99]\n",
    "\n",
    "job_id = [];\n",
    "\n",
    "for i in range(np_tot):\n",
    "    sym_dict[symbols[i]] = initial_point[i][0] \n",
    "\n",
    "circ1 = cirq.Circuit()\n",
    "circ1 += convert_to_product_circuit(X_test_pc[img_num])\n",
    "circ1 += model_circuit\n",
    "circ1 += cirq.measure(state_bits[0],key='x')\n",
    "\n",
    "circuit =cirq.resolve_parameters(circ1,sym_dict)\n",
    "\n",
    "if(qpu ==False):\n",
    "    job = service.create_job(circuit=cirq.resolve_parameters(circ1,sym_dict_plus), repetitions=num_shots, target='simulator')\n",
    "elif(qpu==True):\n",
    "    job = service.create_job(circuit=cirq.resolve_parameters(circ1,sym_dict_plus), repetitions=num_shots, target='qpu')\n",
    "\n",
    "job_id.append(job.job_id())\n",
    "\n"
   ]
  },
  {
   "cell_type": "code",
   "execution_count": 58,
   "id": "74d5e9b4-9865-4ef5-9f4d-2616377ae849",
   "metadata": {},
   "outputs": [
    {
     "name": "stdout",
     "output_type": "stream",
     "text": [
      "Image Prediction is :  3\n"
     ]
    }
   ],
   "source": [
    "results = (service.get_job(job_id[0])).results()\n",
    "\n",
    "if(qpu==False):\n",
    "    output = ( results.probabilities(key='x')[0] - results.probabilities(key='x')[1]  )    \n",
    "\n",
    "elif(qpu==True):\n",
    "    output = ( results.counts(key='x')[0] - results.counts(key='x')[1] )/num_shots \n",
    "\n",
    "if(output>0):\n",
    "    pred = 3;\n",
    "else:\n",
    "    pred = 6;\n",
    "    \n",
    "print(\"Image Prediction is : \", pred)\n",
    "    "
   ]
  },
  {
   "cell_type": "code",
   "execution_count": 59,
   "id": "c7786fa6-efb5-4472-81aa-f67f2b4b927c",
   "metadata": {},
   "outputs": [
    {
     "data": {
      "text/plain": [
       "<matplotlib.image.AxesImage at 0x7fbca757b7b8>"
      ]
     },
     "execution_count": 59,
     "metadata": {},
     "output_type": "execute_result"
    },
    {
     "data": {
      "image/png": "[encoded data removed]",
      "text/plain": [
       "<Figure size 432x288 with 1 Axes>"
      ]
     },
     "metadata": {
      "needs_background": "light"
     },
     "output_type": "display_data"
    }
   ],
   "source": [
    "plt.imshow(X_test[img_num],cmap='gray')\n"
   ]
  },
  {
   "cell_type": "markdown",
   "id": "e0395406-8467-4cbc-a23a-d9f72da82e0d",
   "metadata": {},
   "source": [
    "## Rerun the training using the IonQ Cloud Backend"
   ]
  },
  {
   "cell_type": "code",
   "execution_count": null,
   "id": "9cf860ef-aef9-441f-91b3-2c51e89a79e5",
   "metadata": {},
   "outputs": [],
   "source": [
    "import time \n",
    "\n",
    "##The spsa hyperparameters\n",
    "a=0.05; b=0.05; s=.602; t=.101 ; \n",
    "gamma=0.0; max_it=200;\n",
    "num_shots = 1000;\n",
    "qpu = False;\n",
    "\n",
    "\n",
    "\n",
    "num_its=10;  #The number of iterations\n",
    "NUM_EXAMPLES=5;\n",
    "\n",
    "kstart=0;\n",
    "freq = 5;\n",
    "hinge=True\n",
    "\n",
    "if(kstart==0):\n",
    "    loss_value_k = []\n",
    "    acc_value_k = [];\n",
    "    param_values_k = [];\n",
    "    acc_value_0 = []\n",
    "    loss_value_0=[];\n",
    "    loss_value = [];\n",
    "    acc_value = [];\n",
    "    loss_value1 = [];\n",
    "    acc_value1 = [];\n",
    "\n",
    "\n",
    "start = time.time()\n",
    "\n",
    "for x in range(1):\n",
    "\n",
    "    print(x);\n",
    "    l_avg_old = 0\n",
    "    a_avg_old = 0;\n",
    "\n",
    "    if(kstart==0):\n",
    "        initial_point = (0.0*np.random.rand(np_tot,1)*2.0*np.pi).astype('f')\n",
    "        param_values_k.append(initial_point)\n",
    "\n",
    "    else:\n",
    "        initial_point = param_values_k[kstart];\n",
    "        \n",
    "    v_old = np.random.rand(np_tot,1)*0.0;    \n",
    "    \n",
    "    l_avg = 0;\n",
    "    a_avg = 0;\n",
    "    t_avg=0;\n",
    "    \n",
    "    \n",
    "    for k in range(kstart,num_its):\n",
    "    \n",
    "        t0 = time.time()\n",
    "        \n",
    "        #Adjust the number of samples per iteration to increase at higher iterations\n",
    "        if(k<=20):\n",
    "            NUM_EXAMPLES=50;\n",
    "        if(k>20 and k<70):\n",
    "            NUM_EXAMPLES=100;\n",
    "        elif(k>70 and k<100):\n",
    "            NUM_EXAMPLES=100;\n",
    "        elif(k>100):\n",
    "            NUM_EXAMPLES=100;  \n",
    "            \n",
    "            \n",
    "            \n",
    "\n",
    "        #Get a new mini-batch of images to evaluate the function on\n",
    "        indices = tf.range(start=0, limit=tf.shape(X_train_pc)[0], dtype=tf.int32)\n",
    "        shuffled_indices = tf.random.shuffle(indices)\n",
    "\n",
    "        shuffled_y = tf.gather(y_train_hinge, shuffled_indices)\n",
    "    \n",
    "      \n",
    "\n",
    "        #the SPSA loop\n",
    "        lr_k =  a/(k+1.0+max_it*.01)**s;\n",
    "        perturb_k = b / (k+1.0)**t;\n",
    "        delta_k = 2.0*(2.0*np.random.rand(np_tot,1)-1.0).astype('f')\n",
    "       \n",
    "    \n",
    "        jobid_plus = [];\n",
    "        jobid_minus = [];\n",
    "\n",
    "        sym_dict_plus = {}\n",
    "        sym_dict_minus = {}\n",
    "        \n",
    "        #Set the parameters for the two circuits\n",
    "        for i in range(np_tot):\n",
    "            sym_dict_plus[symbols[i]] = initial_point[i][0] + perturb_k*delta_k[i][0]\n",
    "            sym_dict_minus[symbols[i]] = initial_point[i][0] - perturb_k*delta_k[i][0]\n",
    "\n",
    "\n",
    "        \n",
    "        #Submit the jobs\n",
    "        for i in range(NUM_EXAMPLES):\n",
    "            \n",
    "            \n",
    "            circ1 = cirq.Circuit()\n",
    "            circ1 += convert_to_product_circuit(X_train_pc[shuffled_indices[i]])\n",
    "            circ1 += model_circuit\n",
    "            circ1 += cirq.measure(state_bits[0],key='x')\n",
    "            \n",
    "\n",
    "            job_plus = service.create_job(circuit=cirq.resolve_parameters(circ1,sym_dict_plus), repetitions=num_shots, target='simulator')\n",
    "            job_minus = service.create_job(circuit=cirq.resolve_parameters(circ1,sym_dict_minus), repetitions=num_shots, target='simulator')\n",
    "            \n",
    "                    \n",
    "            jobid_plus.append( job_plus.job_id() ) \n",
    "            jobid_minus.append( job_minus.job_id() ) \n",
    "                \n",
    "    \n",
    "        output_plus = [];\n",
    "        output_minus = [];\n",
    "\n",
    "\n",
    "        l_plus = 0.0;\n",
    "        l_minus=0.0;\n",
    "        \n",
    "        for i in range(NUM_EXAMPLES):\n",
    "            \n",
    "            results_plus = (service.get_job(jobid_plus[i])).results()\n",
    "            if(qpu==True):\n",
    "                out_plus = ( results_plus.counts(key='x')[0] - results_plus.counts(key='x')[1] )/num_shots \n",
    "            elif(qpu==False):\n",
    "                out_plus = ( results_plus.probabilities(key='x')[0] - results_plus.probabilities(key='x')[1]  )\n",
    "                    \n",
    "\n",
    "            results_minus = (service.get_job(jobid_minus[i])).results()\n",
    "            if(qpu==True):\n",
    "                out_minus = ( results_minus.counts(key='x')[0] - results_minus.counts(key='x')[1] )/num_shots  \n",
    "            elif(qpu==False):\n",
    "                out_minus = ( results_minus.probabilities(key='x')[0] - results_minus.probabilities(key='x')[1]  )\n",
    "                    \n",
    "\n",
    "                    \n",
    "            output_plus.append( out_plus )\n",
    "            output_minus.append( out_minus )\n",
    "                      \n",
    "            l_plus += mse(output_plus[i:i+1],shuffled_y[i:i+1])\n",
    "            l_minus += mse(output_minus[i:i+1],shuffled_y[i:i+1])               \n",
    "\n",
    "                \n",
    "                \n",
    "        l_plus = l_plus/NUM_EXAMPLES\n",
    "        l_minus = l_minus/NUM_EXAMPLES\n",
    "\n",
    "        a_plus = hinge_accuracy(output_plus,shuffled_y[:NUM_EXAMPLES])\n",
    "        a_minus = hinge_accuracy(output_minus,shuffled_y[:NUM_EXAMPLES])\n",
    "    \n",
    "        \n",
    "        #Determine the new update parameters\n",
    "        g_k = ( l_plus - l_minus ) / (2.0*perturb_k);\n",
    "    \n",
    "        v_new = gamma*v_old + lr_k*g_k*delta_k\n",
    "        v_old = v_new;\n",
    "    \n",
    "        new_point = (initial_point - v_new.numpy() ).astype('f');\n",
    "    \n",
    "        initial_point = new_point;\n",
    "        \n",
    "        param_values_k.append(initial_point)\n",
    "\n",
    "        l_avg += ((l_plus+l_minus)/2.0).numpy();\n",
    "        a_avg += ((a_plus+a_minus)/2.0).numpy();\n",
    "\n",
    "        t1 = time.time();\n",
    "        t_avg += (t1-t0);\n",
    "       \n",
    "\n",
    "\n",
    "        print(k, l_plus.numpy(), l_minus.numpy(), a_plus.numpy(), a_minus.numpy())\n",
    "\n",
    "        loss_value_0.append( ((l_plus+l_minus)/2.0).numpy() )\n",
    "        acc_value_0.append( ((a_plus+a_minus)/2.0).numpy() )\n",
    "\n",
    "\n",
    "        if(k%freq==0):   \n",
    "            if(k==0):\n",
    "                l_avg = round(l_avg,5)\n",
    "                a_avg = round(a_avg,5)\n",
    "            else:\n",
    "                l_avg = round(l_avg/freq,5)\n",
    "                a_avg = round(a_avg/freq,5)\n",
    "            loss_value.append(l_avg)\n",
    "            acc_value.append(a_avg)\n",
    "            \n",
    "            print(\"avg: \", k, l_avg, a_avg, '\\t\\t', round(lr_k,5), round(perturb_k,5), round(g_k.numpy(),5), t_avg)\n",
    "            \n",
    "            l_avg_old = l_avg;\n",
    "            a_avg_old= a_avg;\n",
    "            l_avg = 0;\n",
    "            a_avg=0;\n",
    "            t_avg = 0\n",
    "            \n",
    "\n",
    "    loss_value_k.append(loss_value)\n",
    "    acc_value_k.append(acc_value)\n",
    "    \n",
    "end=time.time()\n"
   ]
  },
  {
   "cell_type": "code",
   "execution_count": null,
   "id": "c0d11d0c-473c-441c-a4cc-79c3d00e13db",
   "metadata": {},
   "outputs": [],
   "source": []
  }
 ],
 "metadata": {
  "kernelspec": {
   "display_name": "Python 3 (ipykernel)",
   "language": "python",
   "name": "python3"
  },
  "language_info": {
   "codemirror_mode": {
    "name": "ipython",
    "version": 3
   },
   "file_extension": ".py",
   "mimetype": "text/x-python",
   "name": "python",
   "nbconvert_exporter": "python",
   "pygments_lexer": "ipython3",
   "version": "3.7.0"
  }
 },
 "nbformat": 4,
 "nbformat_minor": 5
}
