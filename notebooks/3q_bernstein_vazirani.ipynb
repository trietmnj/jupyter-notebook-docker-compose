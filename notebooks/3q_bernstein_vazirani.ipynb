{
 "cells": [
  {
   "cell_type": "code",
   "execution_count": 6,
   "id": "acd24b9a",
   "metadata": {},
   "outputs": [],
   "source": [
    "#imports\n",
    "from qiskit_ionq import IonQProvider\n",
    "ionq_provider = IonQProvider(token='Fo7uOZpoqAFaJyBUR9SzICGyoI1jqwXH')\n",
    "import numpy as np\n",
    "\n",
    "from qiskit import QuantumCircuit, execute, Aer\n",
    "from qiskit.tools.visualization import plot_histogram, array_to_latex\n",
    "from qiskit.extensions import UnitaryGate"
   ]
  },
  {
   "cell_type": "markdown",
   "id": "6c10ab18",
   "metadata": {},
   "source": [
    "First, we create the superposition of all the possible input states. We also put the ancilla into the |-> state, so we can apply the phase kick back trick."
   ]
  },
  {
   "cell_type": "code",
   "execution_count": 7,
   "id": "eb2a1ca1",
   "metadata": {},
   "outputs": [
    {
     "data": {
      "text/html": [
       "<pre style=\"word-wrap: normal;white-space: pre;background: #fff0;line-height: 1.1;font-family: &quot;Courier New&quot;,Courier,monospace\">     ┌───┐      ░ \n",
       "q_0: ┤ H ├──────░─\n",
       "     ├───┤      ░ \n",
       "q_1: ┤ H ├──────░─\n",
       "     ├───┤      ░ \n",
       "q_2: ┤ H ├──────░─\n",
       "     ├───┤┌───┐ ░ \n",
       "q_3: ┤ H ├┤ Z ├─░─\n",
       "     └───┘└───┘ ░ \n",
       "c: 3/═════════════\n",
       "                  </pre>"
      ],
      "text/plain": [
       "     ┌───┐      ░ \n",
       "q_0: ┤ H ├──────░─\n",
       "     ├───┤      ░ \n",
       "q_1: ┤ H ├──────░─\n",
       "     ├───┤      ░ \n",
       "q_2: ┤ H ├──────░─\n",
       "     ├───┤┌───┐ ░ \n",
       "q_3: ┤ H ├┤ Z ├─░─\n",
       "     └───┘└───┘ ░ \n",
       "c: 3/═════════════\n",
       "                  "
      ]
     },
     "execution_count": 7,
     "metadata": {},
     "output_type": "execute_result"
    }
   ],
   "source": [
    "\n",
    "BV=QuantumCircuit(4,3)\n",
    "BV.h(0)\n",
    "BV.h(1)\n",
    "BV.h(2)\n",
    "BV.h(3)\n",
    "BV.z(3)\n",
    "BV.barrier()\n",
    "BV.draw()"
   ]
  },
  {
   "cell_type": "markdown",
   "id": "bc415da4",
   "metadata": {},
   "source": [
    "Next we implement the oracle. As mentioned in the lecture, the oracle will be implemented using CNOT gates."
   ]
  },
  {
   "cell_type": "code",
   "execution_count": 8,
   "id": "8e97eb05",
   "metadata": {},
   "outputs": [
    {
     "data": {
      "text/html": [
       "<pre style=\"word-wrap: normal;white-space: pre;background: #fff0;line-height: 1.1;font-family: &quot;Courier New&quot;,Courier,monospace\">     ┌───┐      ░       ░ \n",
       "q_0: ┤ H ├──────░───■───░─\n",
       "     ├───┤      ░   │   ░ \n",
       "q_1: ┤ H ├──────░───┼───░─\n",
       "     ├───┤      ░   │   ░ \n",
       "q_2: ┤ H ├──────░───┼───░─\n",
       "     ├───┤┌───┐ ░ ┌─┴─┐ ░ \n",
       "q_3: ┤ H ├┤ Z ├─░─┤ X ├─░─\n",
       "     └───┘└───┘ ░ └───┘ ░ \n",
       "c: 3/═════════════════════\n",
       "                          </pre>"
      ],
      "text/plain": [
       "     ┌───┐      ░       ░ \n",
       "q_0: ┤ H ├──────░───■───░─\n",
       "     ├───┤      ░   │   ░ \n",
       "q_1: ┤ H ├──────░───┼───░─\n",
       "     ├───┤      ░   │   ░ \n",
       "q_2: ┤ H ├──────░───┼───░─\n",
       "     ├───┤┌───┐ ░ ┌─┴─┐ ░ \n",
       "q_3: ┤ H ├┤ Z ├─░─┤ X ├─░─\n",
       "     └───┘└───┘ ░ └───┘ ░ \n",
       "c: 3/═════════════════════\n",
       "                          "
      ]
     },
     "execution_count": 8,
     "metadata": {},
     "output_type": "execute_result"
    }
   ],
   "source": [
    "BV.cx(0,3)\n",
    "BV.barrier()\n",
    "BV.draw()"
   ]
  },
  {
   "cell_type": "markdown",
   "id": "81084109",
   "metadata": {},
   "source": [
    "Because of the phase kickback, the input superposition gain phase according to the value of x (innerproduct) s. We can then use a layer of Hadamard gate to retrive s."
   ]
  },
  {
   "cell_type": "code",
   "execution_count": 9,
   "id": "de22bfda",
   "metadata": {},
   "outputs": [
    {
     "data": {
      "text/html": [
       "<pre style=\"word-wrap: normal;white-space: pre;background: #fff0;line-height: 1.1;font-family: &quot;Courier New&quot;,Courier,monospace\">     ┌───┐      ░       ░ ┌───┐┌─┐      \n",
       "q_0: ┤ H ├──────░───■───░─┤ H ├┤M├──────\n",
       "     ├───┤      ░   │   ░ ├───┤└╥┘┌─┐   \n",
       "q_1: ┤ H ├──────░───┼───░─┤ H ├─╫─┤M├───\n",
       "     ├───┤      ░   │   ░ ├───┤ ║ └╥┘┌─┐\n",
       "q_2: ┤ H ├──────░───┼───░─┤ H ├─╫──╫─┤M├\n",
       "     ├───┤┌───┐ ░ ┌─┴─┐ ░ └───┘ ║  ║ └╥┘\n",
       "q_3: ┤ H ├┤ Z ├─░─┤ X ├─░───────╫──╫──╫─\n",
       "     └───┘└───┘ ░ └───┘ ░       ║  ║  ║ \n",
       "c: 3/═══════════════════════════╩══╩══╩═\n",
       "                                0  1  2 </pre>"
      ],
      "text/plain": [
       "     ┌───┐      ░       ░ ┌───┐┌─┐      \n",
       "q_0: ┤ H ├──────░───■───░─┤ H ├┤M├──────\n",
       "     ├───┤      ░   │   ░ ├───┤└╥┘┌─┐   \n",
       "q_1: ┤ H ├──────░───┼───░─┤ H ├─╫─┤M├───\n",
       "     ├───┤      ░   │   ░ ├───┤ ║ └╥┘┌─┐\n",
       "q_2: ┤ H ├──────░───┼───░─┤ H ├─╫──╫─┤M├\n",
       "     ├───┤┌───┐ ░ ┌─┴─┐ ░ └───┘ ║  ║ └╥┘\n",
       "q_3: ┤ H ├┤ Z ├─░─┤ X ├─░───────╫──╫──╫─\n",
       "     └───┘└───┘ ░ └───┘ ░       ║  ║  ║ \n",
       "c: 3/═══════════════════════════╩══╩══╩═\n",
       "                                0  1  2 "
      ]
     },
     "execution_count": 9,
     "metadata": {},
     "output_type": "execute_result"
    }
   ],
   "source": [
    "BV.h(0)\n",
    "BV.h(1)\n",
    "BV.h(2)\n",
    "BV.measure(0,0)\n",
    "BV.measure(1,1)\n",
    "BV.measure(2,2)\n",
    "BV.draw()"
   ]
  },
  {
   "cell_type": "markdown",
   "id": "1c746894",
   "metadata": {},
   "source": [
    "Now we simulate the circuit and show that we retrive s from the input register with 100% probability (deterministically)."
   ]
  },
  {
   "cell_type": "code",
   "execution_count": 10,
   "id": "22e30e91",
   "metadata": {},
   "outputs": [
    {
     "data": {
      "image/png": "[encoded data removed]",
      "text/plain": [
       "<Figure size 504x360 with 1 Axes>"
      ]
     },
     "execution_count": 10,
     "metadata": {},
     "output_type": "execute_result"
    }
   ],
   "source": [
    "backend = ionq_provider.get_backend(\"ionq_qpu\")#choose your backend\n",
    "job = execute(BV, backend,shots=5000) #get the job object\n",
    "\n",
    "# check if job is complete\n",
    "from qiskit.providers.jobstatus import JobStatus\n",
    "import time\n",
    "# while job.status() is not JobStatus.Done():\n",
    "#     print('Job status is ', job.status())\n",
    "#     time.sleep(30)\n",
    "    \n",
    "result = job.result() # get result object\n",
    "counts = result.get_counts() #get the counts dictionary\n",
    "fig=plot_histogram(counts) #plot the histogram of the counts    \n",
    "ax = fig.axes[0]\n",
    "fig "
   ]
  },
  {
   "cell_type": "code",
   "execution_count": null,
   "id": "48b74ad7",
   "metadata": {},
   "outputs": [],
   "source": []
  }
 ],
 "metadata": {
  "kernelspec": {
   "display_name": "Python 3 (ipykernel)",
   "language": "python",
   "name": "python3"
  },
  "language_info": {
   "codemirror_mode": {
    "name": "ipython",
    "version": 3
   },
   "file_extension": ".py",
   "mimetype": "text/x-python",
   "name": "python",
   "nbconvert_exporter": "python",
   "pygments_lexer": "ipython3",
   "version": "3.10.5"
  }
 },
 "nbformat": 4,
 "nbformat_minor": 5
}
