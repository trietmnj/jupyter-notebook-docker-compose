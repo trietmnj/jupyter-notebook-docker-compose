{
 "cells": [
  {
   "cell_type": "markdown",
   "metadata": {
    "id": "-MON_oZqL4Eu"
   },
   "source": [
    "# **SOLUTION SET**\n",
    "# Quantum Computing for Earth Science Bootcamp 2022 Pre-Bootcamp\n",
    "# Notebook 1.3 - Quantum Circuits\n",
    "*In this lab, you will use Python to create single-qubit quantum circuits in Qiskit.*\n",
    "\n",
    "*This is the **solution set** for this notebook.*\n",
    "\n",
    "---"
   ]
  },
  {
   "cell_type": "markdown",
   "metadata": {
    "id": "y4q576XG9kSi"
   },
   "source": [
    "# Agenda\n",
    "\n",
    "---\n",
    "In this lab, you will familiarize with the following:\n",
    "\n",
    "-  Coding quantum circuits in a Notebook in Python.\n",
    "     - Defining quantum circuits in Python.\n",
    "     - Adding gates to quantum circuits.\n",
    "     - Using the \"draw\" function to visualize circuits.\n",
    "\n",
    "- Accessing and interpreting the results of quantum circuits:\n",
    "     - Using code to retrieve the circuit results.\n",
    "     - Using code to plot circuit results in a histogram.\n",
    "     - Interpreting circuit outputs as probabilities.\n",
    "     - Identifying and interpreting errors in results that were run on real quantum hardware."
   ]
  },
  {
   "cell_type": "markdown",
   "metadata": {
    "id": "adSFk9aP9nYp"
   },
   "source": [
    "# Key Steps\n",
    "\n",
    "---\n",
    "1.   Creating an Empty Circuit\n",
    "2.   Drawing and Displaying the Circuit\n",
    "3.   Adding Gates to the Circuit\n",
    "4.   Visualizing the Circuit\n",
    "5.   Simulating Circuits or Running Circuits on Real Quantum Devices"
   ]
  },
  {
   "cell_type": "code",
   "execution_count": null,
   "metadata": {
    "collapsed": false,
    "id": "tKgHhc_cL4E2",
    "jupyter": {
     "outputs_hidden": false
    }
   },
   "outputs": [],
   "source": [
    "from qiskit import QuantumCircuit, Aer, IBMQ, execute\n",
    "from qiskit.visualization import plot_histogram, visualize_transition\n",
    "\n",
    "# Loading your IBM Q account(s)\n",
    "# provider = IBMQ.load_account()\n",
    "\n",
    "print(\"Libraries imported successfully!\")"
   ]
  },
  {
   "cell_type": "markdown",
   "metadata": {
    "id": "K59Gx-JGL4E9"
   },
   "source": [
    "___"
   ]
  },
  {
   "cell_type": "markdown",
   "metadata": {
    "id": "0OiHrhZjDt9J",
    "tags": []
   },
   "source": [
    "# **Step #1** - Creating an Empty Circuit\n",
    "\n",
    "---\n",
    "## **The `QuantumCircuit` Class**\n",
    "\n",
    "The `QuantumCircuit` class is Qiskit's way of designing a quantum circuit. It takes two inputs: `qubits` and `classical bits` , both of which tell the circuit how many qubits and classical bits to use.\n",
    "\n",
    "We can build a quantum circuit in Qiskit with the following:\n",
    "```python\n",
    "qc = QuantumCircuit(q,c)\n",
    "```"
   ]
  },
  {
   "cell_type": "markdown",
   "metadata": {
    "id": "O9iNcUO_9wxZ"
   },
   "source": [
    "#### Block #1 - Create your empty circuit\n",
    "\n",
    "---\n",
    "Run this block to create your quantum circuit with one qubit and one classical bit."
   ]
  },
  {
   "cell_type": "code",
   "execution_count": null,
   "metadata": {
    "collapsed": false,
    "id": "nSv7ktpUDt9J",
    "jupyter": {
     "outputs_hidden": false
    }
   },
   "outputs": [],
   "source": [
    "# This creates a quantum circuit with 1 qubit and 1 classical bit\n",
    "qc = QuantumCircuit(1,1)"
   ]
  },
  {
   "cell_type": "markdown",
   "metadata": {
    "id": "qQ1MRyu3Dt9O"
   },
   "source": [
    "# **Step #2** - Adding Gates to the Circuit\n",
    "\n",
    "---\n",
    "## **The `qc.gate(qubit)` Command**\n",
    "\n",
    "This can be done by calling the `qc.gate(qubit)` command. \n",
    "Here the `gate` refers to the gate type, and the `qubit` refers to the qubit (or qubits) on which the gate is acting."
   ]
  },
  {
   "cell_type": "markdown",
   "metadata": {
    "id": "YZ6-bC6t941B"
   },
   "source": [
    "#### Block #2 - Add an X Gate to your Circuits\n",
    "\n",
    "---\n",
    "Run this block to add an X Gate to your circuit!"
   ]
  },
  {
   "cell_type": "code",
   "execution_count": null,
   "metadata": {
    "collapsed": false,
    "id": "9QYYCbmODt9O",
    "jupyter": {
     "outputs_hidden": false
    }
   },
   "outputs": [],
   "source": [
    "# Adding a NOT gate (aka an X gate) to qubit 0\n",
    "qc.x(0)\n",
    "qc.draw(output=\"mpl\")"
   ]
  },
  {
   "cell_type": "markdown",
   "metadata": {
    "id": "XyFLoFI4L4FI"
   },
   "source": [
    "# **Step #3** - Drawing and Displaying Circuits\n",
    "\n",
    "---\n",
    "## **The `qc.draw()` Function**\n",
    "\n",
    "Qiskit has a function called `qc.draw()` that we use for drawing a diagram of circuits. We can also specify the output type. Here, we choose to use matplotlib `output=\"mpl\"`.\n",
    "\n",
    "Together, we can visualize our circuit with: `qc.draw(output=\"mpl\")`."
   ]
  },
  {
   "cell_type": "markdown",
   "metadata": {
    "id": "c0IdEwXJ90jZ"
   },
   "source": [
    "#### Block #3 - Visualize your Circuits\n",
    "\n",
    "---\n",
    "Run this block to visualize your circuits!"
   ]
  },
  {
   "cell_type": "code",
   "execution_count": null,
   "metadata": {
    "collapsed": false,
    "id": "MlxwnjbZL4FJ",
    "jupyter": {
     "outputs_hidden": false
    }
   },
   "outputs": [],
   "source": [
    "# This prints out a diagram of the circuit, the \"mpl\" makes it look pretty!\n",
    "qc.draw(output=\"mpl\")"
   ]
  },
  {
   "cell_type": "markdown",
   "metadata": {
    "id": "Fp4IqntYL4FP"
   },
   "source": [
    "#### Block #4 - Visualize the gates on your Circuit\n",
    "---\n",
    "\n",
    "This can be done by calling the `visualize_transition(QuantumCircuit, trace=True)` function. The `trace` argument tells the function to show the path the arrow makes as it moves.\n",
    "\n",
    "**Note 1:** This gate visualization can only be run on **single qubit** circuits.\n",
    "\n",
    "**Note 2:** This function can be slow to run, be patient! For now, this function will show two Bloch spheres. This is a bug, it's ok!\n",
    "\n",
    "---\n",
    "Run this block to see the rotation your gate makes on the Bloch sphere!"
   ]
  },
  {
   "cell_type": "code",
   "execution_count": null,
   "metadata": {
    "collapsed": false,
    "id": "p7x6IQMJL4FZ",
    "jupyter": {
     "outputs_hidden": false
    }
   },
   "outputs": [],
   "source": [
    "# Visualize the X gate on the Bloch sphere\n",
    "visualize_transition(qc, trace=True)"
   ]
  },
  {
   "cell_type": "markdown",
   "metadata": {
    "id": "FXW3ckDyDt9S"
   },
   "source": [
    "#### Block #5 - **Practice:** Single Qubit Gates - The X Gate\n",
    "\n",
    "---\n",
    "\n",
    "The X gate rotates the state vector by $\\pi$ radians (180 degrees) around the x axis on the Bloch sphere.\n",
    "\n",
    "The syntax for an X gate is: `qc.x(target)` , where `qc` is an initialized `QuantumCircuit` and `target` is the number of the qubit where you would like to apply the gate.\n",
    "\n",
    "**Initialize a new circuit, add an X gate to the circuit, and then draw the circuit.**"
   ]
  },
  {
   "cell_type": "code",
   "execution_count": null,
   "metadata": {
    "collapsed": false,
    "id": "58x_yexwhnTm",
    "jupyter": {
     "outputs_hidden": false
    }
   },
   "outputs": [],
   "source": [
    "# BLOCK 5\n",
    "\n",
    "### SOLUTION START ###\n",
    "qc = QuantumCircuit(1,1)\n",
    "qc.x(0)\n",
    "qc.draw(\"mpl\")\n",
    "\n",
    "#### SOLUTION END ###"
   ]
  },
  {
   "cell_type": "markdown",
   "metadata": {
    "id": "8o34NMgogUOF"
   },
   "source": [
    "#### Block #6 - **Practice:** Single Qubit Gates - The Y Gate\n",
    "\n",
    "---\n",
    "\n",
    "The Y gate rotates the state vector by $\\pi$ radians (180 degrees) around the y axis on the Bloch sphere.\n",
    "\n",
    "The syntax for a Y gate is: `qc.y(target)` , where `qc` is an initialized `QuantumCircuit` and `target` is the number of the qubit where you would like to apply the gate.\n",
    "\n",
    "**Initialize a new circuit, add a Y gate to the circuit, and then draw the circuit.**"
   ]
  },
  {
   "cell_type": "code",
   "execution_count": null,
   "metadata": {
    "collapsed": false,
    "id": "AwKqITRfgp8K",
    "jupyter": {
     "outputs_hidden": false
    }
   },
   "outputs": [],
   "source": [
    "# BLOCK 6\n",
    "\n",
    "### SOLUTION START ###\n",
    "qc = QuantumCircuit(1,1)\n",
    "qc.y(0)\n",
    "qc.draw(\"mpl\")\n",
    "\n",
    "#### SOLUTION END ###"
   ]
  },
  {
   "cell_type": "markdown",
   "metadata": {
    "id": "M6JzISQwhIwV",
    "tags": []
   },
   "source": [
    "#### Block #7 - **Practice:** Single Qubit Gates - The Z Gate\n",
    "\n",
    "---\n",
    "\n",
    "The Z gate rotates the state vector by $\\pi$ radians (180 degrees) around the z axis on the Bloch sphere.\n",
    "\n",
    "The syntax for a Z gate is: `qc.z(target)` , where `qc` is an initialized `QuantumCircuit` and `target` is the number of the qubit where you would like to apply the gate.\n",
    "\n",
    "**Initialize a new circuit, add a Z gate to the circuit, and then draw the circuit.**"
   ]
  },
  {
   "cell_type": "code",
   "execution_count": null,
   "metadata": {
    "collapsed": false,
    "id": "9cZAPnu3hU-8",
    "jupyter": {
     "outputs_hidden": false
    }
   },
   "outputs": [],
   "source": [
    "# BLOCK 7\n",
    "\n",
    "### SOLUTION START ###\n",
    "qc = QuantumCircuit(1,1)\n",
    "qc.z(0)\n",
    "qc.draw(\"mpl\")\n",
    "\n",
    "#### SOLUTION END ###"
   ]
  },
  {
   "cell_type": "markdown",
   "metadata": {
    "id": "OM-xPwt-L4Fj"
   },
   "source": [
    "#### Block #8 - **Practice:** Single Qubit Gates - The Hadamard (H) Gate\n",
    "\n",
    "---\n",
    "The Hadamard gate, or H gate, rotates the state vector by $\\pi$ radians (180 degrees) around the xz-diagonal axis on the Bloch sphere. The H gate creates a **superposition.**\n",
    "\n",
    "The syntax for a H gate is: `qc.h(target)` , where `qc` is an initialized `QuantumCircuit` and `target` is the number of the qubit where you would like to apply the gate.\n",
    "\n",
    "**Initialize a new circuit, add an H gate to the circuit, and then draw the circuit.**"
   ]
  },
  {
   "cell_type": "code",
   "execution_count": null,
   "metadata": {
    "collapsed": false,
    "id": "M2hnIyqQL4Fk",
    "jupyter": {
     "outputs_hidden": false
    }
   },
   "outputs": [],
   "source": [
    "# BLOCK 8\n",
    "\n",
    "### SOLUTION START ###\n",
    "qc = QuantumCircuit(1,1)\n",
    "qc.h(0)\n",
    "qc.draw(\"mpl\")\n",
    "\n",
    "### SOLUTION END ###"
   ]
  },
  {
   "cell_type": "markdown",
   "metadata": {
    "id": "5pNu_f6LL4Fl"
   },
   "source": [
    "#### Block #9 - Visualize the rotation on the bloch sphere of the H gate.\n",
    "\n",
    "---\n",
    "Run the cell below to visualize Block #9."
   ]
  },
  {
   "cell_type": "code",
   "execution_count": null,
   "metadata": {
    "collapsed": false,
    "id": "eIpaMlneL4Fl",
    "jupyter": {
     "outputs_hidden": false
    }
   },
   "outputs": [],
   "source": [
    "### SOLUTION START ###\n",
    "visualize_transition(qc, trace=True)\n",
    "### SOLUTION END ###"
   ]
  },
  {
   "cell_type": "markdown",
   "metadata": {
    "id": "h4JUIlNDL4Fm",
    "tags": []
   },
   "source": [
    "#Adding Measurement Gates\n",
    "\n",
    "---\n",
    "### The Measurement Gate\n",
    "\n",
    "\n",
    "\n",
    "The Measurement gate tells the backend of the notebook when it is time to check the state of our qubits. Without applying a measurement gate to the circuit, the output of this step will be the default 0 state.\n",
    "\n",
    "There are multiple ways to apply measurement gates in `qiskit`. We have found the `qc.measure([qubits],[classical])` method to be the most simple and specific approach. Here, we provide a list of each qubit and a list to their respective classical bits that we want to measure each qubit against. \n",
    "\n",
    "This following example would measure the 0th qubit to the 0th classical bit, the 1st qubit to the 1st classical bit, and so on...\n",
    "\n",
    "```python\n",
    "qc = QuantumCircuit(3,3)\n",
    "qc.h(0)\n",
    "qc.x(1)\n",
    "qc.y(2)\n",
    "qc.measure([0,1,2],[0,1,2])\n",
    "```\n"
   ]
  },
  {
   "cell_type": "markdown",
   "metadata": {
    "id": "azTUMMMH-V_s"
   },
   "source": [
    "#### Block #10 - Create a circuit, add gates (including a measurement gate), then draw the circuit.\n",
    "\n",
    "---\n",
    "Run the cell below to initialize a new circuit with 2 qubits and 2 classical bits, apply a Hadamard gate to each qubit, add measurement gates to the circuit, and then draw the circuit."
   ]
  },
  {
   "cell_type": "code",
   "execution_count": null,
   "metadata": {
    "collapsed": false,
    "id": "KJrQUaqbL4Fn",
    "jupyter": {
     "outputs_hidden": false
    }
   },
   "outputs": [],
   "source": [
    "# BLOCK 10\n",
    "\n",
    "### SOLUTION START ###\n",
    "qc = QuantumCircuit(2,2)\n",
    "qc.h(0)\n",
    "qc.h(1)\n",
    "qc.measure([0,1],[0,1])\n",
    "qc.draw(\"mpl\")\n",
    "\n",
    "### SOLUTION END ###"
   ]
  },
  {
   "cell_type": "markdown",
   "metadata": {
    "id": "veMp6i3LL4Fo"
   },
   "source": [
    "# **Step #4** - Simulating Circuits\n",
    "\n",
    "---\n",
    "The `aer_simulator` : an idealized simulator that emulates a perfect quantum computer.\n",
    "\n",
    "Using a simulator has 3 steps:\n",
    "1. Creating the backend. This step tells qiskit where to run our circuit. Here, we use a simulator:\n",
    "``` python\n",
    "qsim = Aer.get_backend('aer_simulator')\n",
    "```\n",
    "2. Creating a job. This step asks the backend to run your circuit.\n",
    "``` python\n",
    "job = execute(qc, backend=qsim, shots=1024)\n",
    "```\n",
    "3. Pulling the results from the job. This step contains all the information from the experiment.\n",
    "``` python \n",
    "result = job.result()\n",
    "```\n",
    "\n",
    "# **Step #5** - Interpreting the results\n",
    "\n",
    "Once the result of the simulation has been received, we normally like to visualize the counts of the states we measured in a histogram.\n",
    "Plotting counts in a histogram involves two steps:\n",
    "1. Getting the counts. This step tells us how many of each state we have.\n",
    "```python\n",
    "counts = result.get_counts(qc) \n",
    "```\n",
    "2. Plotting the counts. This step visualizes the counts in a bar graph!\n",
    "``` python\n",
    "plot_histogram(counts)\n",
    "```"
   ]
  },
  {
   "cell_type": "markdown",
   "metadata": {
    "id": "LrtXrGdOL4Fp"
   },
   "source": [
    "#### Block #11 - Run your circuit on a simulator.\n",
    "\n",
    "---\n",
    "Run the cell below to create a new 1 qubit, 1 classical bit quantum circuit. Then add the X, Y, H, and Z gates. Simulate the results."
   ]
  },
  {
   "cell_type": "code",
   "execution_count": null,
   "metadata": {
    "collapsed": false,
    "id": "ru9ADYftL4Fq",
    "jupyter": {
     "outputs_hidden": false
    }
   },
   "outputs": [],
   "source": [
    "# BLOCK 11\n",
    "\n",
    "### SOLUTION START ###\n",
    "qc = QuantumCircuit(1,1)\n",
    "qc.x(0)\n",
    "qc.y(0)\n",
    "qc.h(0)\n",
    "qc.z(0)\n",
    "qc.measure([0],[0])\n",
    "display(qc.draw(\"mpl\"))\n",
    "\n",
    "qsim = Aer.get_backend(\"aer_simulator\")\n",
    "job = execute(qc, backend=qsim, shots=1024)\n",
    "result = job.result()\n",
    "\n",
    "counts = result.get_counts(qc)\n",
    "display(plot_histogram(counts))\n",
    "### SOLUTION END ###"
   ]
  },
  {
   "cell_type": "markdown",
   "metadata": {
    "id": "5YqJNf01L4Fr",
    "tags": []
   },
   "source": [
    "#Running Circuits on Real Quantum Devices\n",
    "\n",
    "---\n",
    "## *(OPTIONAL EXTRA WORK - NOT REQUIRED)*\n",
    "\n",
    "First, if we are running locally, i.e. not on IBM Quantum Experience (IQX), we will need to load in our API token. If you don't have your API token, you can find it by logging into your IQX account.\n",
    "```python\n",
    "# Uncomment if running this notebook locally/outside of IQX\n",
    "# TOKEN = \"\" # this is a string that should contain the API token copied from _your_ IQX account.\n",
    "# IBMQ.save_account(TOKEN, overwrite=True)\n",
    "# IBMQ.load_account()\n",
    "```\n",
    "\n",
    "Next, we need to find the least busy backend:\n",
    "```python\n",
    "from qiskit.providers.ibmq import least_busy\n",
    "provider = IBMQ.get_provider(hub='ibm-q')\n",
    "backend = least_busy(provider.backends(filters=lambda x: x.configuration().n_qubits >= 2 \n",
    "                                       and not x.configuration().simulator \n",
    "                                       and x.status().operational==True))\n",
    "print(\"least busy backend: \", backend)\n",
    "```\n",
    "\n",
    "Next, we can send the job to be run in the notebook.\n",
    "``` python\n",
    "job = execute(qc, backend=backend, shots=100)\n",
    "result = job.result()\n",
    "```\n",
    "\n",
    "Last, we can again plot the results in a histogram:\n",
    "\n",
    "``` python\n",
    "counts = result.get_counts(qc)\n",
    "plot_histogram(counts)\n",
    "```\n",
    "\n",
    "**N.B.** *If you are not running on IQX you will need to load in your token*"
   ]
  },
  {
   "cell_type": "markdown",
   "metadata": {
    "id": "iRV7rQHg-fRa"
   },
   "source": [
    "### Blocks #12–14 - Run your scripts on a real device.\n",
    "\n",
    "---\n",
    "Try and run this script on a real device (it may take a long time...)."
   ]
  },
  {
   "cell_type": "code",
   "execution_count": null,
   "metadata": {
    "id": "6_wBsSM6DD2T"
   },
   "outputs": [],
   "source": [
    "# BLOCK 12\n",
    "\n",
    "# Uncomment if running this notebook locally/outside of IQX\n",
    "# TOKEN = \"\" # this is a string that should contain the API token copied from _your_ IQX account.\n",
    "# IBMQ.save_account(TOKEN, overwrite=True)\n",
    "# IBMQ.load_account()"
   ]
  },
  {
   "cell_type": "code",
   "execution_count": null,
   "metadata": {
    "collapsed": false,
    "id": "cRCfTL_WL4Fs",
    "jupyter": {
     "outputs_hidden": false
    }
   },
   "outputs": [],
   "source": [
    "# BLOCK 13\n",
    "\n",
    "#Import least_busy function\n",
    "from qiskit.providers.ibmq import least_busy\n",
    "\n",
    "#ask for the least busy quantum computer\n",
    "provider = IBMQ.get_provider(hub='ibm-q')\n",
    "backend = least_busy(provider.backends(filters=lambda x: x.configuration().n_qubits >= 2 \n",
    "                                       and not x.configuration().simulator \n",
    "                                       and x.status().operational==True))\n",
    "#tell us what the least busy one is\n",
    "print(\"least busy backend: \", backend)"
   ]
  },
  {
   "cell_type": "code",
   "execution_count": null,
   "metadata": {
    "id": "_arF-u8FTGGI"
   },
   "outputs": [],
   "source": [
    "# BLOCK 14 - This block might take a few minutes to run!\n",
    "\n",
    "#Next, we can send the job to be run in the notebook to the least busy backend.\n",
    "job = execute(qc, backend=backend, shots=100)\n",
    "result = job.result()\n",
    "\n",
    "#Last, we can again plot the results in a histogram:\n",
    "counts = result.get_counts(qc)\n",
    "plot_histogram(counts)"
   ]
  },
  {
   "cell_type": "markdown",
   "metadata": {
    "id": "nb3b2SdSL4GR",
    "jp-MarkdownHeadingCollapsed": true,
    "tags": []
   },
   "source": [
    "### © 2022 The Coding School\n",
    "\n",
    "**All rights reserved**\n",
    "\n",
    "*Use of this activity is for personal use only. Copying, reproducing, distributing, posting or sharing this activity in any manner with any third party are prohibited under the terms of this registration. All rights not specifically licensed under the registration are reserved.*"
   ]
  }
 ],
 "metadata": {
  "colab": {
   "collapsed_sections": [],
   "name": "2022 UMD Climate Scientist PD 1.3 Notebook - with Solutions - Quantum Circuits.ipynb",
   "provenance": []
  },
  "kernelspec": {
   "display_name": "Python 3 (ipykernel)",
   "language": "python",
   "name": "python3"
  },
  "language_info": {
   "codemirror_mode": {
    "name": "ipython",
    "version": 3
   },
   "file_extension": ".py",
   "mimetype": "text/x-python",
   "name": "python",
   "nbconvert_exporter": "python",
   "pygments_lexer": "ipython3",
   "version": "3.10.6"
  }
 },
 "nbformat": 4,
 "nbformat_minor": 4
}
