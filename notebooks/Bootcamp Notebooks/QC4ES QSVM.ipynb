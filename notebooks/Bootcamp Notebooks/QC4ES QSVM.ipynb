{
 "cells": [
  {
   "cell_type": "markdown",
   "id": "2c3b1dd6-ad55-4063-aaa2-30b743576850",
   "metadata": {},
   "source": [
    "# QSVM on the Iris Dataset"
   ]
  },
  {
   "cell_type": "markdown",
   "id": "6324e47f-a8b4-40a0-a342-71a0434c6fb4",
   "metadata": {},
   "source": [
    "### Step 1: Load in the Quantum Libaries"
   ]
  },
  {
   "cell_type": "code",
   "execution_count": null,
   "id": "d1931cbf-f186-4dc4-8f15-bb214af46ff4",
   "metadata": {},
   "outputs": [],
   "source": [
    "ionq_token=\"\""
   ]
  },
  {
   "cell_type": "code",
   "execution_count": null,
   "id": "cc825e38-51a7-4d13-ac2a-cfae80e95515",
   "metadata": {},
   "outputs": [],
   "source": [
    "from qiskit import QuantumCircuit, execute, Aer\n",
    "from qiskit.circuit.library import ZFeatureMap\n",
    "from qiskit.utils import QuantumInstance, algorithm_globals\n",
    "from qiskit_machine_learning.algorithms import QSVC\n",
    "from qiskit_machine_learning.kernels import QuantumKernel\n",
    "\n",
    "from qiskit_ionq import IonQProvider\n",
    "\n",
    "provider = IonQProvider(ionq_token)\n",
    "# show supported backends\n",
    "print(provider.backends()) \n",
    "\n",
    "# create backends for 'ionq_simulator' and 'ionq_qpu'\n",
    "ionq_sim = provider.get_backend(\"ionq_simulator\")\n",
    "ionq_qpu = provider.get_backend(\"ionq_qpu\")"
   ]
  },
  {
   "cell_type": "markdown",
   "id": "7a4e9041-e374-4528-be90-8ba5c7634e6a",
   "metadata": {},
   "source": [
    "### Step 2: Load in Maths and Plotting Libraries"
   ]
  },
  {
   "cell_type": "code",
   "execution_count": null,
   "id": "9ac6e5d8-93d7-415c-b0d3-0a60fd1325c2",
   "metadata": {},
   "outputs": [],
   "source": [
    "import numpy as np\n",
    "import matplotlib.pyplot as plt\n",
    "import pandas as pd\n",
    "from sklearn import svm, datasets, model_selection, decomposition\n",
    "import seaborn as sns\n",
    "sns.set_style(\"whitegrid\")\n",
    "sns.set_palette(\"pastel\")\n",
    "\n",
    "%matplotlib inline"
   ]
  },
  {
   "cell_type": "markdown",
   "id": "723b1ff5-661d-49e4-8f28-d1ea71e95062",
   "metadata": {},
   "source": [
    "### Step 3: Load in the Iris dataset\n",
    "\n",
    "Here we are restricting to only the first 2 classes, a multi class classification can be extrapolated."
   ]
  },
  {
   "cell_type": "code",
   "execution_count": null,
   "id": "dfd67c0b-3b8e-4efc-9d23-c0740387fd72",
   "metadata": {},
   "outputs": [],
   "source": [
    "iris = datasets.load_iris()\n",
    "X_raw = iris.data[:100] # Use features 1 and 2 as our X values\n",
    "y_raw = iris.target[:100]\n",
    "X, X_test, y, y_test = model_selection.train_test_split(X_raw, \n",
    "                                y_raw, test_size=0.33, random_state=42)"
   ]
  },
  {
   "cell_type": "markdown",
   "id": "7f3bf77c-abb8-4563-a3b3-553bea3ab3d6",
   "metadata": {},
   "source": [
    "### Plotting Helper\n",
    "\n",
    "This plots both the data and the classification boundaries"
   ]
  },
  {
   "cell_type": "code",
   "execution_count": null,
   "id": "92525d78-c258-4d86-b6b6-d831d5108e6d",
   "metadata": {},
   "outputs": [],
   "source": [
    "def draw_plot(data, labels, model=None, pca=None):\n",
    "    fig1, ax1 = plt.subplots()\n",
    "    ax1.set_xlabel(\"sepal width (cm)\")\n",
    "    ax1.set_ylabel(\"petal length (cm)\")\n",
    "    \n",
    "    if pca is not None:\n",
    "        data = pca.transform(data)\n",
    "        \n",
    "    df = pd.DataFrame(data)\n",
    "    df[\"target\"] = labels\n",
    "\n",
    "    for name, group in df.groupby('target'):\n",
    "        ax1.scatter(x=group[0], y=group[1], label=iris['target_names'][name])\n",
    "\n",
    "    if model is not None:\n",
    "        xlim, ylim = ax1.get_xlim(), ax1.get_ylim()\n",
    "\n",
    "        # create grid to evaluate model\n",
    "        y_grid, x_grid = np.meshgrid(np.linspace(ylim[0], ylim[1], 30), np.linspace(xlim[0], xlim[1], 30))\n",
    "        xy = np.vstack([x_grid.ravel(), y_grid.ravel()]).T\n",
    "        if pca is not None:\n",
    "            P = model.decision_function(pca.inverse_transform(xy)).reshape(x_grid.shape)\n",
    "        else:\n",
    "            P = model.decision_function(xy).reshape(x_grid.shape)\n",
    "\n",
    "\n",
    "        margin_color, decision_color = sns.color_palette()[4], sns.color_palette()[3]\n",
    "        # plot decision boundary and margins\n",
    "        ax1.contour(x_grid, y_grid, P, \n",
    "                    colors=[margin_color, decision_color, margin_color],\n",
    "                    levels=[-1, 0, 1], alpha=0.5,\n",
    "                    linestyles=['--', '-', '--'])\n",
    "    \n",
    "    if pca is not None:\n",
    "        plt.title(\"PCA Reduced Features of Setosa and Versicolor Flowers\")\n",
    "    else:\n",
    "        plt.title(\"First Two Features of Setosa and Versicolor Flowers\")\n",
    "    ax1.legend(loc=\"upper right\")"
   ]
  },
  {
   "cell_type": "markdown",
   "id": "991b48ab-e79a-4568-82ca-4ffdf135f570",
   "metadata": {},
   "source": [
    "### Step 4: Observe the first two dimensions of the data"
   ]
  },
  {
   "cell_type": "code",
   "execution_count": null,
   "id": "b2c6d63e-988b-4c24-9b34-8616023d4240",
   "metadata": {},
   "outputs": [],
   "source": [
    "draw_plot(X,y)"
   ]
  },
  {
   "cell_type": "markdown",
   "id": "4c288012-2ba4-4389-8951-56261f84cd4d",
   "metadata": {},
   "source": [
    "### Step 5: Fit the classical solver\n",
    "\n",
    "Using just two dimensions here"
   ]
  },
  {
   "cell_type": "code",
   "execution_count": null,
   "id": "8fc311c8-44a0-462a-b470-a92598cd0024",
   "metadata": {},
   "outputs": [],
   "source": [
    "classical = svm.SVC(kernel='linear')\n",
    "classical.fit(X[:, 1:3], y)"
   ]
  },
  {
   "cell_type": "markdown",
   "id": "acfc8d0a-ec89-485c-86b4-e20a96d74312",
   "metadata": {},
   "source": [
    "### Step 6: Visualize the Classification boundaries"
   ]
  },
  {
   "cell_type": "code",
   "execution_count": null,
   "id": "a20fdaf7-aac8-4583-afec-f2a1acb3e6ee",
   "metadata": {},
   "outputs": [],
   "source": [
    "draw_plot(X[:,1:3],y, model=classical)"
   ]
  },
  {
   "cell_type": "markdown",
   "id": "66a47ff8-67b3-41ae-8345-04ee7ca0b015",
   "metadata": {},
   "source": [
    "### Step 7: Initialize the QSVC Solver"
   ]
  },
  {
   "cell_type": "code",
   "execution_count": null,
   "id": "c0bb66ba-b42e-478c-9726-2063e2cc2d39",
   "metadata": {},
   "outputs": [],
   "source": [
    "# number of qubits is equal to the number of features\n",
    "num_qubits = 2\n",
    "\n",
    "# number of steps performed during the training procedure\n",
    "tau = 100\n",
    "\n",
    "# regularization parameter\n",
    "C = 1000\n",
    "\n",
    "feature_map = ZFeatureMap(feature_dimension=num_qubits, reps=3)\n",
    "qkernel = QuantumKernel(feature_map=feature_map, quantum_instance=Aer.get_backend(\"aer_simulator\"))"
   ]
  },
  {
   "cell_type": "markdown",
   "id": "475e49b4-e678-4233-8d6c-f1938dbd2e07",
   "metadata": {},
   "source": [
    "### Step 8: Fit the QSVC Solver"
   ]
  },
  {
   "cell_type": "code",
   "execution_count": null,
   "id": "9874ed6c-2803-4e64-a704-d6819d5981b1",
   "metadata": {},
   "outputs": [],
   "source": [
    "qsvc = QSVC(quantum_kernel=qkernel)\n",
    "qsvc.fit(X,y)"
   ]
  },
  {
   "cell_type": "code",
   "execution_count": null,
   "id": "2e1b0992-f153-4bcd-aade-83cabc56c9b1",
   "metadata": {},
   "outputs": [],
   "source": [
    "correct = sum(qsvc.predict(X_test)== y_test).astype(int)\n",
    "total = len(y_test)\n",
    "print(f\"Classifier Accuracy on Test Set: {(correct/total)*100} %\")"
   ]
  },
  {
   "cell_type": "markdown",
   "id": "1c272cf8-2f7e-4e2d-8e5a-e0b4bdd2b922",
   "metadata": {},
   "source": [
    "### Step 9: Visualizing the QSVC Decision boundaries"
   ]
  },
  {
   "cell_type": "markdown",
   "id": "26355334-f29f-4c20-bbfa-45fb1591fbae",
   "metadata": {},
   "source": [
    "# The QSVM needs 2+ feature dims\n",
    "\n",
    "Use PCA to visualize:"
   ]
  },
  {
   "cell_type": "code",
   "execution_count": null,
   "id": "5adf87f9-2b11-4394-bd95-743b80e4c8a1",
   "metadata": {},
   "outputs": [],
   "source": [
    "pca = decomposition.PCA(n_components=2)\n",
    "pca.fit(X)"
   ]
  },
  {
   "cell_type": "code",
   "execution_count": null,
   "id": "96463824-cc6b-4932-ae89-ab78571cb964",
   "metadata": {},
   "outputs": [],
   "source": [
    "draw_plot(X, y, model=qsvc, pca=pca)"
   ]
  },
  {
   "cell_type": "markdown",
   "id": "a2acdb4c-686e-4502-a84d-ef00d791b8d1",
   "metadata": {},
   "source": [
    "# Apply the QSVM to your own dataset\n",
    "\n",
    "Thoughts:\n",
    "1. Consider switching to a statevector simulator for improved speed\n",
    "2. Consider an optimal dimensionality for the QKernel\n",
    "3. Attempt alternative Qkernels"
   ]
  },
  {
   "cell_type": "code",
   "execution_count": null,
   "id": "9c13699a-d297-4a2b-a0a9-d187922eeed1",
   "metadata": {},
   "outputs": [],
   "source": []
  }
 ],
 "metadata": {
  "kernelspec": {
   "display_name": "Python 3 (ipykernel)",
   "language": "python",
   "name": "python3"
  },
  "language_info": {
   "codemirror_mode": {
    "name": "ipython",
    "version": 3
   },
   "file_extension": ".py",
   "mimetype": "text/x-python",
   "name": "python",
   "nbconvert_exporter": "python",
   "pygments_lexer": "ipython3",
   "version": "3.9.13"
  }
 },
 "nbformat": 4,
 "nbformat_minor": 5
}
